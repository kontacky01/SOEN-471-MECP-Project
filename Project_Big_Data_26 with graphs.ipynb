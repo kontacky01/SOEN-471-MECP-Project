{
 "cells": [
  {
   "cell_type": "markdown",
   "metadata": {
    "id": "8Gj3dwM39q8X"
   },
   "source": [
    "# PRODUCT MATCHING using product SKUs and product Descriptions\n",
    "\n",
    "> Add blockquote\n",
    "\n",
    "\n",
    "\n",
    "**Contributors:** ***Peilin Han, Carmen Pop, Kalinga Swain, Natasha Uwase***\n",
    "\n",
    " This project focuses on resolving issues related to SKU analysis and product matching. We're working with datasets from MECP and three other competitors: C6, LifeSupply, and MedicalWarehouse. Each dataset contains product name/Title, SKUs, product descriptions, prices, permalink, created_at represented in string and float formats."
   ]
  },
  {
   "cell_type": "markdown",
   "metadata": {
    "id": "G4MjYK3imAlK"
   },
   "source": [
    "# Data Preparation\n",
    "\n",
    "We'll start by first preparing our data by bringing it from source and splitting it into training, validation and test data splits.\n",
    "We'll load the data from a CSV file to a Pandas DataFrame using the read_csv function."
   ]
  },
  {
   "cell_type": "code",
   "execution_count": 24,
   "metadata": {
    "ExecuteTime": {
     "end_time": "2024-03-27T22:46:44.995055Z",
     "start_time": "2024-03-27T22:46:44.806929Z"
    },
    "id": "2N8QFESIm8Ck"
   },
   "outputs": [],
   "source": [
    "import pandas as pd\n",
    "import time"
   ]
  },
  {
   "cell_type": "code",
   "execution_count": 25,
   "metadata": {
    "ExecuteTime": {
     "end_time": "2024-03-27T22:46:45.053072Z",
     "start_time": "2024-03-27T22:46:44.993335Z"
    },
    "colab": {
     "base_uri": "https://localhost:8080/",
     "height": 293
    },
    "id": "7WqLmkCd9XqX",
    "outputId": "f4fd2a64-9360-49a1-dd1b-6eee11c89f8e"
   },
   "outputs": [
    {
     "data": {
      "text/html": [
       "<div>\n",
       "<style scoped>\n",
       "    .dataframe tbody tr th:only-of-type {\n",
       "        vertical-align: middle;\n",
       "    }\n",
       "\n",
       "    .dataframe tbody tr th {\n",
       "        vertical-align: top;\n",
       "    }\n",
       "\n",
       "    .dataframe thead th {\n",
       "        text-align: right;\n",
       "    }\n",
       "</style>\n",
       "<table border=\"1\" class=\"dataframe\">\n",
       "  <thead>\n",
       "    <tr style=\"text-align: right;\">\n",
       "      <th></th>\n",
       "      <th>id</th>\n",
       "      <th>name</th>\n",
       "      <th>description</th>\n",
       "      <th>sku</th>\n",
       "      <th>price</th>\n",
       "      <th>permalink</th>\n",
       "      <th>created_at</th>\n",
       "    </tr>\n",
       "  </thead>\n",
       "  <tbody>\n",
       "    <tr>\n",
       "      <th>0</th>\n",
       "      <td>1</td>\n",
       "      <td>Cordless Bed and Chair Sensor Pads</td>\n",
       "      <td>The Cordless Bed and Chair Sensor Pads provide...</td>\n",
       "      <td>NaN</td>\n",
       "      <td>0.00</td>\n",
       "      <td>https://mecp.ca/?post_type=product&amp;p=60037</td>\n",
       "      <td>2024-03-13 22:29:39</td>\n",
       "    </tr>\n",
       "    <tr>\n",
       "      <th>1</th>\n",
       "      <td>2</td>\n",
       "      <td>MedPro Rayon Balls</td>\n",
       "      <td>MedPro Non-sterile rayon balls 50% rayon, 50% ...</td>\n",
       "      <td>NaN</td>\n",
       "      <td>35.53</td>\n",
       "      <td>https://mecp.ca/product/medpro-rayon-balls/</td>\n",
       "      <td>2024-03-13 22:29:39</td>\n",
       "    </tr>\n",
       "    <tr>\n",
       "      <th>2</th>\n",
       "      <td>3</td>\n",
       "      <td>MedPro Rayon Balls</td>\n",
       "      <td>MedPro Non-sterile rayon balls 50% rayon, 50% ...</td>\n",
       "      <td>NaN</td>\n",
       "      <td>0.00</td>\n",
       "      <td>https://mecp.ca/?post_type=product&amp;p=60020</td>\n",
       "      <td>2024-03-13 22:29:39</td>\n",
       "    </tr>\n",
       "    <tr>\n",
       "      <th>3</th>\n",
       "      <td>4</td>\n",
       "      <td>Clorox Bleach Germicidal Wipes Bucket</td>\n",
       "      <td>Clorox Healthcare Bleach Germicidal Wipes: Rea...</td>\n",
       "      <td>55894</td>\n",
       "      <td>129.50</td>\n",
       "      <td>https://mecp.ca/product/clorox-bleach-germicid...</td>\n",
       "      <td>2024-03-13 22:29:39</td>\n",
       "    </tr>\n",
       "    <tr>\n",
       "      <th>4</th>\n",
       "      <td>5</td>\n",
       "      <td>Clorox Healthcare Bleach Germicidal Wipes  Ter...</td>\n",
       "      <td>NaN</td>\n",
       "      <td>NaN</td>\n",
       "      <td>0.00</td>\n",
       "      <td>https://mecp.ca/?post_type=product&amp;p=59985</td>\n",
       "      <td>2024-03-13 22:29:39</td>\n",
       "    </tr>\n",
       "  </tbody>\n",
       "</table>\n",
       "</div>"
      ],
      "text/plain": [
       "   id                                               name  \\\n",
       "0   1                 Cordless Bed and Chair Sensor Pads   \n",
       "1   2                                 MedPro Rayon Balls   \n",
       "2   3                                 MedPro Rayon Balls   \n",
       "3   4              Clorox Bleach Germicidal Wipes Bucket   \n",
       "4   5  Clorox Healthcare Bleach Germicidal Wipes  Ter...   \n",
       "\n",
       "                                         description    sku   price  \\\n",
       "0  The Cordless Bed and Chair Sensor Pads provide...    NaN    0.00   \n",
       "1  MedPro Non-sterile rayon balls 50% rayon, 50% ...    NaN   35.53   \n",
       "2  MedPro Non-sterile rayon balls 50% rayon, 50% ...    NaN    0.00   \n",
       "3  Clorox Healthcare Bleach Germicidal Wipes: Rea...  55894  129.50   \n",
       "4                                                NaN    NaN    0.00   \n",
       "\n",
       "                                           permalink           created_at  \n",
       "0         https://mecp.ca/?post_type=product&p=60037  2024-03-13 22:29:39  \n",
       "1        https://mecp.ca/product/medpro-rayon-balls/  2024-03-13 22:29:39  \n",
       "2         https://mecp.ca/?post_type=product&p=60020  2024-03-13 22:29:39  \n",
       "3  https://mecp.ca/product/clorox-bleach-germicid...  2024-03-13 22:29:39  \n",
       "4         https://mecp.ca/?post_type=product&p=59985  2024-03-13 22:29:39  "
      ]
     },
     "execution_count": 25,
     "metadata": {},
     "output_type": "execute_result"
    }
   ],
   "source": [
    "# Data preparation & ingestion: MECP\n",
    "\n",
    "def data_read(a):\n",
    "  df = pd.read_csv(a)\n",
    "  return df\n",
    "\n",
    "df = data_read(\"./mecp_products.csv\")\n",
    "df.head()"
   ]
  },
  {
   "cell_type": "code",
   "execution_count": 26,
   "metadata": {
    "ExecuteTime": {
     "end_time": "2024-03-27T22:46:45.075896Z",
     "start_time": "2024-03-27T22:46:45.044184Z"
    },
    "colab": {
     "base_uri": "https://localhost:8080/",
     "height": 293
    },
    "id": "3iVRsZM9t9WF",
    "outputId": "b46956ae-53e9-4fff-d3ca-246c79ea1846"
   },
   "outputs": [
    {
     "data": {
      "text/html": [
       "<div>\n",
       "<style scoped>\n",
       "    .dataframe tbody tr th:only-of-type {\n",
       "        vertical-align: middle;\n",
       "    }\n",
       "\n",
       "    .dataframe tbody tr th {\n",
       "        vertical-align: top;\n",
       "    }\n",
       "\n",
       "    .dataframe thead th {\n",
       "        text-align: right;\n",
       "    }\n",
       "</style>\n",
       "<table border=\"1\" class=\"dataframe\">\n",
       "  <thead>\n",
       "    <tr style=\"text-align: right;\">\n",
       "      <th></th>\n",
       "      <th>id</th>\n",
       "      <th>name</th>\n",
       "      <th>description</th>\n",
       "      <th>sku</th>\n",
       "      <th>price</th>\n",
       "      <th>permalink</th>\n",
       "      <th>created_at</th>\n",
       "    </tr>\n",
       "  </thead>\n",
       "  <tbody>\n",
       "    <tr>\n",
       "      <th>0</th>\n",
       "      <td>1</td>\n",
       "      <td>Cotton Balls | Economy | 0.22g | Bag of 2000</td>\n",
       "      <td>KOSMA-KARE Cotton balls are ideal for applying...</td>\n",
       "      <td>KK-21176</td>\n",
       "      <td>9.99</td>\n",
       "      <td>https://c6.ca/collections/patient-care/product...</td>\n",
       "      <td>2024-03-18 16:29:11</td>\n",
       "    </tr>\n",
       "    <tr>\n",
       "      <th>1</th>\n",
       "      <td>2</td>\n",
       "      <td>Lactated Ringer Subcutaneous Fluids, USP</td>\n",
       "      <td>B. Braun Lactated Ringer's Injection USP is st...</td>\n",
       "      <td>BB-L7501</td>\n",
       "      <td>7.99</td>\n",
       "      <td>https://c6.ca/collections/patient-care/product...</td>\n",
       "      <td>2024-03-18 16:29:11</td>\n",
       "    </tr>\n",
       "    <tr>\n",
       "      <th>2</th>\n",
       "      <td>3</td>\n",
       "      <td>Grafco® Unlabeled Flint Glass Sundry Jar | 7\" ...</td>\n",
       "      <td>graham field Grafco® Unlabeled Flint Glass Sun...</td>\n",
       "      <td>GF-3458</td>\n",
       "      <td>12.99</td>\n",
       "      <td>https://c6.ca/collections/patient-care/product...</td>\n",
       "      <td>2024-03-18 16:29:11</td>\n",
       "    </tr>\n",
       "    <tr>\n",
       "      <th>3</th>\n",
       "      <td>4</td>\n",
       "      <td>Cotton Balls | High Density | Bag of 1000</td>\n",
       "      <td>KOSMA-KARE Cotton balls are ideal for applying...</td>\n",
       "      <td>KK-21476</td>\n",
       "      <td>15.99</td>\n",
       "      <td>https://c6.ca/collections/patient-care/product...</td>\n",
       "      <td>2024-03-18 16:29:11</td>\n",
       "    </tr>\n",
       "    <tr>\n",
       "      <th>4</th>\n",
       "      <td>5</td>\n",
       "      <td>Aerosol Kit with Mask, Nebulizer, &amp; Tubing | 7...</td>\n",
       "      <td>Glenwood Laboratories Canada Ltd Pediatric Aer...</td>\n",
       "      <td>GK-1807</td>\n",
       "      <td>9.99</td>\n",
       "      <td>https://c6.ca/collections/patient-care/product...</td>\n",
       "      <td>2024-03-18 16:29:11</td>\n",
       "    </tr>\n",
       "  </tbody>\n",
       "</table>\n",
       "</div>"
      ],
      "text/plain": [
       "   id                                               name  \\\n",
       "0   1       Cotton Balls | Economy | 0.22g | Bag of 2000   \n",
       "1   2           Lactated Ringer Subcutaneous Fluids, USP   \n",
       "2   3  Grafco® Unlabeled Flint Glass Sundry Jar | 7\" ...   \n",
       "3   4          Cotton Balls | High Density | Bag of 1000   \n",
       "4   5  Aerosol Kit with Mask, Nebulizer, & Tubing | 7...   \n",
       "\n",
       "                                         description       sku  price  \\\n",
       "0  KOSMA-KARE Cotton balls are ideal for applying...  KK-21176   9.99   \n",
       "1  B. Braun Lactated Ringer's Injection USP is st...  BB-L7501   7.99   \n",
       "2  graham field Grafco® Unlabeled Flint Glass Sun...   GF-3458  12.99   \n",
       "3  KOSMA-KARE Cotton balls are ideal for applying...  KK-21476  15.99   \n",
       "4  Glenwood Laboratories Canada Ltd Pediatric Aer...   GK-1807   9.99   \n",
       "\n",
       "                                           permalink           created_at  \n",
       "0  https://c6.ca/collections/patient-care/product...  2024-03-18 16:29:11  \n",
       "1  https://c6.ca/collections/patient-care/product...  2024-03-18 16:29:11  \n",
       "2  https://c6.ca/collections/patient-care/product...  2024-03-18 16:29:11  \n",
       "3  https://c6.ca/collections/patient-care/product...  2024-03-18 16:29:11  \n",
       "4  https://c6.ca/collections/patient-care/product...  2024-03-18 16:29:11  "
      ]
     },
     "execution_count": 26,
     "metadata": {},
     "output_type": "execute_result"
    }
   ],
   "source": [
    "# Data preparation & ingestion: C6\n",
    "c6_data = data_read(\"./c6_products.csv\")\n",
    "c6_data.head()"
   ]
  },
  {
   "cell_type": "code",
   "execution_count": 27,
   "metadata": {
    "ExecuteTime": {
     "end_time": "2024-03-27T22:46:45.101853Z",
     "start_time": "2024-03-27T22:46:45.057197Z"
    },
    "colab": {
     "base_uri": "https://localhost:8080/",
     "height": 293
    },
    "id": "bcafMPCkuFv8",
    "outputId": "078c3b60-406c-44d3-eee6-880895ef0778"
   },
   "outputs": [
    {
     "data": {
      "text/html": [
       "<div>\n",
       "<style scoped>\n",
       "    .dataframe tbody tr th:only-of-type {\n",
       "        vertical-align: middle;\n",
       "    }\n",
       "\n",
       "    .dataframe tbody tr th {\n",
       "        vertical-align: top;\n",
       "    }\n",
       "\n",
       "    .dataframe thead th {\n",
       "        text-align: right;\n",
       "    }\n",
       "</style>\n",
       "<table border=\"1\" class=\"dataframe\">\n",
       "  <thead>\n",
       "    <tr style=\"text-align: right;\">\n",
       "      <th></th>\n",
       "      <th>id</th>\n",
       "      <th>name</th>\n",
       "      <th>description</th>\n",
       "      <th>sku</th>\n",
       "      <th>price</th>\n",
       "      <th>permalink</th>\n",
       "      <th>created_at</th>\n",
       "    </tr>\n",
       "  </thead>\n",
       "  <tbody>\n",
       "    <tr>\n",
       "      <th>0</th>\n",
       "      <td>1</td>\n",
       "      <td>Drive 16012-HOEO Overbed Table Economy-EO-H Ba...</td>\n",
       "      <td>Drive Drive 16012-HOEO 822383238463</td>\n",
       "      <td>Drive 16012-HOEO</td>\n",
       "      <td>220.63</td>\n",
       "      <td>https://lifesupply.ca/drive-16012-hoeo-overbed...</td>\n",
       "      <td>2024-03-18 16:29:10</td>\n",
       "    </tr>\n",
       "    <tr>\n",
       "      <th>1</th>\n",
       "      <td>2</td>\n",
       "      <td>Drive 16012-HODMV Overbed Table Economy-DM-H B...</td>\n",
       "      <td>Drive Drive 16012-HODMV Overbed Table Economy-...</td>\n",
       "      <td>Drive 16012-HODMV</td>\n",
       "      <td>291.24</td>\n",
       "      <td>https://lifesupply.ca/drive-16012-hodmv-overbe...</td>\n",
       "      <td>2024-03-18 16:29:10</td>\n",
       "    </tr>\n",
       "    <tr>\n",
       "      <th>2</th>\n",
       "      <td>3</td>\n",
       "      <td>Drive 16012-UOSOV Overbed Table Economy-SO-U-O...</td>\n",
       "      <td>Drive Drive 16012-UOSOV Overbed Table Economy-...</td>\n",
       "      <td>Drive 16012-UOSOV</td>\n",
       "      <td>291.24</td>\n",
       "      <td>https://lifesupply.ca/drive-16012-uosov-overbe...</td>\n",
       "      <td>2024-03-18 16:29:10</td>\n",
       "    </tr>\n",
       "    <tr>\n",
       "      <th>3</th>\n",
       "      <td>4</td>\n",
       "      <td>BIOTIME - TERRAN BROWN FABRIC Size 11</td>\n",
       "      <td>BIOTIME 3TERRANBRNFA11 BIOTIME - TERRAN BROWN ...</td>\n",
       "      <td>3TERRANBRNFA11</td>\n",
       "      <td>79.00</td>\n",
       "      <td>https://lifesupply.ca/biotime-terran-brown-fab...</td>\n",
       "      <td>2024-03-18 16:29:10</td>\n",
       "    </tr>\n",
       "    <tr>\n",
       "      <th>4</th>\n",
       "      <td>5</td>\n",
       "      <td>BIOTIME - TERRAN BROWN FABRIC Size 10</td>\n",
       "      <td>BIOTIME 3TERRANBRNFA10 BIOTIME - TERRAN BROWN ...</td>\n",
       "      <td>3TERRANBRNFA10</td>\n",
       "      <td>79.00</td>\n",
       "      <td>https://lifesupply.ca/biotime-terran-brown-fab...</td>\n",
       "      <td>2024-03-18 16:29:10</td>\n",
       "    </tr>\n",
       "  </tbody>\n",
       "</table>\n",
       "</div>"
      ],
      "text/plain": [
       "   id                                               name  \\\n",
       "0   1  Drive 16012-HOEO Overbed Table Economy-EO-H Ba...   \n",
       "1   2  Drive 16012-HODMV Overbed Table Economy-DM-H B...   \n",
       "2   3  Drive 16012-UOSOV Overbed Table Economy-SO-U-O...   \n",
       "3   4              BIOTIME - TERRAN BROWN FABRIC Size 11   \n",
       "4   5              BIOTIME - TERRAN BROWN FABRIC Size 10   \n",
       "\n",
       "                                         description                sku  \\\n",
       "0                Drive Drive 16012-HOEO 822383238463   Drive 16012-HOEO   \n",
       "1  Drive Drive 16012-HODMV Overbed Table Economy-...  Drive 16012-HODMV   \n",
       "2  Drive Drive 16012-UOSOV Overbed Table Economy-...  Drive 16012-UOSOV   \n",
       "3  BIOTIME 3TERRANBRNFA11 BIOTIME - TERRAN BROWN ...     3TERRANBRNFA11   \n",
       "4  BIOTIME 3TERRANBRNFA10 BIOTIME - TERRAN BROWN ...     3TERRANBRNFA10   \n",
       "\n",
       "    price                                          permalink  \\\n",
       "0  220.63  https://lifesupply.ca/drive-16012-hoeo-overbed...   \n",
       "1  291.24  https://lifesupply.ca/drive-16012-hodmv-overbe...   \n",
       "2  291.24  https://lifesupply.ca/drive-16012-uosov-overbe...   \n",
       "3   79.00  https://lifesupply.ca/biotime-terran-brown-fab...   \n",
       "4   79.00  https://lifesupply.ca/biotime-terran-brown-fab...   \n",
       "\n",
       "            created_at  \n",
       "0  2024-03-18 16:29:10  \n",
       "1  2024-03-18 16:29:10  \n",
       "2  2024-03-18 16:29:10  \n",
       "3  2024-03-18 16:29:10  \n",
       "4  2024-03-18 16:29:10  "
      ]
     },
     "execution_count": 27,
     "metadata": {},
     "output_type": "execute_result"
    }
   ],
   "source": [
    "# Data preparation & ingestion: LifeSupply\n",
    "lifesupply_data = data_read(\"./lifesupply_products.csv\")\n",
    "lifesupply_data.head()"
   ]
  },
  {
   "cell_type": "code",
   "execution_count": 28,
   "metadata": {
    "ExecuteTime": {
     "end_time": "2024-03-27T22:46:45.156873Z",
     "start_time": "2024-03-27T22:46:45.078115Z"
    },
    "colab": {
     "base_uri": "https://localhost:8080/",
     "height": 206
    },
    "id": "NLUAVrJhJZxw",
    "outputId": "418c490d-8c4b-42ec-d06c-b9857d226027"
   },
   "outputs": [
    {
     "data": {
      "text/html": [
       "<div>\n",
       "<style scoped>\n",
       "    .dataframe tbody tr th:only-of-type {\n",
       "        vertical-align: middle;\n",
       "    }\n",
       "\n",
       "    .dataframe tbody tr th {\n",
       "        vertical-align: top;\n",
       "    }\n",
       "\n",
       "    .dataframe thead th {\n",
       "        text-align: right;\n",
       "    }\n",
       "</style>\n",
       "<table border=\"1\" class=\"dataframe\">\n",
       "  <thead>\n",
       "    <tr style=\"text-align: right;\">\n",
       "      <th></th>\n",
       "      <th>id</th>\n",
       "      <th>name</th>\n",
       "      <th>description</th>\n",
       "      <th>sku</th>\n",
       "      <th>price</th>\n",
       "      <th>permalink</th>\n",
       "      <th>created_at</th>\n",
       "    </tr>\n",
       "  </thead>\n",
       "  <tbody>\n",
       "    <tr>\n",
       "      <th>0</th>\n",
       "      <td>1</td>\n",
       "      <td>Ea/1 Cane Aluminum Black W/ Fritz Handle 35\"L ...</td>\n",
       "      <td>Airway</td>\n",
       "      <td>AIR 5143BK</td>\n",
       "      <td>36.98</td>\n",
       "      <td>https://medicalwarehouse.ca/products/air-5143bk</td>\n",
       "      <td>2024-03-18 16:29:11</td>\n",
       "    </tr>\n",
       "    <tr>\n",
       "      <th>1</th>\n",
       "      <td>2</td>\n",
       "      <td>Ea/1 Cast Cover Half Arm, Adult</td>\n",
       "      <td>Airway</td>\n",
       "      <td>AIR 0158-A</td>\n",
       "      <td>31.23</td>\n",
       "      <td>https://medicalwarehouse.ca/products/air-0158-a</td>\n",
       "      <td>2024-03-18 16:29:11</td>\n",
       "    </tr>\n",
       "    <tr>\n",
       "      <th>2</th>\n",
       "      <td>3</td>\n",
       "      <td>1/Pr Guardian Forearm Crutches, Adult</td>\n",
       "      <td>Medline</td>\n",
       "      <td>MDL G05161</td>\n",
       "      <td>94.94</td>\n",
       "      <td>https://medicalwarehouse.ca/products/mdl-g05161</td>\n",
       "      <td>2024-03-18 16:29:11</td>\n",
       "    </tr>\n",
       "    <tr>\n",
       "      <th>3</th>\n",
       "      <td>4</td>\n",
       "      <td>Ea/1 Bios Wheelchair Cushion 16\"X18\"X3\"</td>\n",
       "      <td>BIOS MEDICAL</td>\n",
       "      <td>BIOS LF882</td>\n",
       "      <td>46.16</td>\n",
       "      <td>https://medicalwarehouse.ca/products/bios-lf882</td>\n",
       "      <td>2024-03-18 16:29:11</td>\n",
       "    </tr>\n",
       "    <tr>\n",
       "      <th>4</th>\n",
       "      <td>5</td>\n",
       "      <td>Ea/1 Cane Wrist Strap</td>\n",
       "      <td>Airway</td>\n",
       "      <td>AIR 5131</td>\n",
       "      <td>5.26</td>\n",
       "      <td>https://medicalwarehouse.ca/products/air-5131</td>\n",
       "      <td>2024-03-18 16:29:11</td>\n",
       "    </tr>\n",
       "  </tbody>\n",
       "</table>\n",
       "</div>"
      ],
      "text/plain": [
       "   id                                               name   description  \\\n",
       "0   1  Ea/1 Cane Aluminum Black W/ Fritz Handle 35\"L ...        Airway   \n",
       "1   2                    Ea/1 Cast Cover Half Arm, Adult        Airway   \n",
       "2   3              1/Pr Guardian Forearm Crutches, Adult       Medline   \n",
       "3   4            Ea/1 Bios Wheelchair Cushion 16\"X18\"X3\"  BIOS MEDICAL   \n",
       "4   5                              Ea/1 Cane Wrist Strap        Airway   \n",
       "\n",
       "          sku  price                                        permalink  \\\n",
       "0  AIR 5143BK  36.98  https://medicalwarehouse.ca/products/air-5143bk   \n",
       "1  AIR 0158-A  31.23  https://medicalwarehouse.ca/products/air-0158-a   \n",
       "2  MDL G05161  94.94  https://medicalwarehouse.ca/products/mdl-g05161   \n",
       "3  BIOS LF882  46.16  https://medicalwarehouse.ca/products/bios-lf882   \n",
       "4    AIR 5131   5.26    https://medicalwarehouse.ca/products/air-5131   \n",
       "\n",
       "            created_at  \n",
       "0  2024-03-18 16:29:11  \n",
       "1  2024-03-18 16:29:11  \n",
       "2  2024-03-18 16:29:11  \n",
       "3  2024-03-18 16:29:11  \n",
       "4  2024-03-18 16:29:11  "
      ]
     },
     "execution_count": 28,
     "metadata": {},
     "output_type": "execute_result"
    }
   ],
   "source": [
    "# Data preparation & ingestion: MedicalWarehouse\n",
    "medwarehouse_data = data_read(\"./med_warehouse_products.csv\")\n",
    "medwarehouse_data.head()"
   ]
  },
  {
   "cell_type": "markdown",
   "metadata": {
    "id": "RTmOx-J3nvF2"
   },
   "source": [
    "**Data Visualization:**\n",
    "\n",
    "Data visualization can help by providing intuitive and visual representations of complex datasets, making it easier to identify trends, patterns, and relationships within the data.\n"
   ]
  },
  {
   "cell_type": "code",
   "execution_count": 29,
   "metadata": {
    "ExecuteTime": {
     "end_time": "2024-03-27T22:46:45.200231Z",
     "start_time": "2024-03-27T22:46:45.101112Z"
    },
    "colab": {
     "base_uri": "https://localhost:8080/"
    },
    "id": "U3HD75F4ntp3",
    "outputId": "a9477a11-5455-4a00-d466-023c23411640"
   },
   "outputs": [
    {
     "data": {
      "text/plain": [
       "description\n",
       "Sterile.                                                                                                                                                                                                                                                                                                                                                                                                                                                                                                                                                                                                                33\n",
       "Material: Stainless Steel.                                                                                                                                                                                                                                                                                                                                                                                                                                                                                                                                                                                              28\n",
       "1 X Back table cover, 60 x 90 in., heavy-duty                                                                                                                                                                                                                                                                                                                                                                                                                                                                                                                                                                           26\n",
       "Latex-Free.                                                                                                                                                                                                                                                                                                                                                                                                                                                                                                                                                                                                             23\n",
       "EMR Connectivity                                                                                                                                                                                                                                                                                                                                                                                                                                                                                                                                                                                                        18\n",
       "                                                                                                                                                                                                                                                                                                                                                                                                                                                                                                                                                                                                                        ..\n",
       "Non-curling and break-resistant.                                                                                                                                                                                                                                                                                                                                                                                                                                                                                                                                                                                         1\n",
       "Easy to use.                                                                                                                                                                                                                                                                                                                                                                                                                                                                                                                                                                                                             1\n",
       "A written key helps to identify side is up and the raised coating separates slides to help eliminate sticking, scratching and abrasion.                                                                                                                                                                                                                                                                                                                                                                                                                                                                                  1\n",
       "Constructed of durable polypropylene for all types of specimen transport needs                                                                                                                                                                                                                                                                                                                                                                                                                                                                                                                                           1\n",
       "Our Signature mask, made for both men and women, made from 100% cotton its made to breathable and comfortable, Fully adjustable earloop give our masks a universal fit, a hidden metal nose clip keeps the mask securely in place and seal around your nose. 2 Free Filters are included with each mask, additional filters are available in packs of 10 Material: Outer layer  100% Cotton Middle layer  100% Cotton Inside Layer  100% Cotton 8 layers of protection : 3 layer mask 5 layer pm 2.5 filter Dimensions : Width ( Up & Down Measurement ) 5 IN / 14 CM Length ( Across From The Middle ) 9 IN / 23 CM     1\n",
       "Name: count, Length: 3177, dtype: int64"
      ]
     },
     "execution_count": 29,
     "metadata": {},
     "output_type": "execute_result"
    }
   ],
   "source": [
    "from sklearn.model_selection import train_test_split\n",
    "df.description.value_counts()"
   ]
  },
  {
   "cell_type": "code",
   "execution_count": 30,
   "metadata": {
    "ExecuteTime": {
     "end_time": "2024-03-27T22:46:45.201832Z",
     "start_time": "2024-03-27T22:46:45.107243Z"
    },
    "colab": {
     "base_uri": "https://localhost:8080/"
    },
    "id": "YoE8BeWzoyXK",
    "outputId": "3554ed7d-f20a-4e64-e88d-acb4aaf234c5"
   },
   "outputs": [
    {
     "data": {
      "text/plain": [
       "3883"
      ]
     },
     "execution_count": 30,
     "metadata": {},
     "output_type": "execute_result"
    }
   ],
   "source": [
    "unique_values_count = df['name'].nunique()\n",
    "unique_values_count"
   ]
  },
  {
   "cell_type": "markdown",
   "metadata": {
    "id": "VKbsDLl6p4TE"
   },
   "source": [
    "# Data Exploration\n",
    "\n",
    "Data exploration can help us understand the distribution and characteristics of each attribute, enabling us to identify patterns, correlations, and anomalies. Additionally, it allows us to gain insights into potential areas for optimization or improvement in product matching and SKU analysis."
   ]
  },
  {
   "cell_type": "code",
   "execution_count": 31,
   "metadata": {
    "ExecuteTime": {
     "end_time": "2024-03-27T22:46:45.302812Z",
     "start_time": "2024-03-27T22:46:45.190162Z"
    },
    "id": "PDAGGF2nqmp-"
   },
   "outputs": [
    {
     "name": "stdout",
     "output_type": "stream",
     "text": [
      "Requirement already satisfied: wordcloud in /opt/anaconda3/lib/python3.11/site-packages (1.9.3)\n",
      "Requirement already satisfied: numpy>=1.6.1 in /opt/anaconda3/lib/python3.11/site-packages (from wordcloud) (1.26.4)\n",
      "Requirement already satisfied: pillow in /opt/anaconda3/lib/python3.11/site-packages (from wordcloud) (10.2.0)\n",
      "Requirement already satisfied: matplotlib in /opt/anaconda3/lib/python3.11/site-packages (from wordcloud) (3.8.0)\n",
      "Requirement already satisfied: contourpy>=1.0.1 in /opt/anaconda3/lib/python3.11/site-packages (from matplotlib->wordcloud) (1.2.0)\n",
      "Requirement already satisfied: cycler>=0.10 in /opt/anaconda3/lib/python3.11/site-packages (from matplotlib->wordcloud) (0.11.0)\n",
      "Requirement already satisfied: fonttools>=4.22.0 in /opt/anaconda3/lib/python3.11/site-packages (from matplotlib->wordcloud) (4.25.0)\n",
      "Requirement already satisfied: kiwisolver>=1.0.1 in /opt/anaconda3/lib/python3.11/site-packages (from matplotlib->wordcloud) (1.4.4)\n",
      "Requirement already satisfied: packaging>=20.0 in /opt/anaconda3/lib/python3.11/site-packages (from matplotlib->wordcloud) (23.1)\n",
      "Requirement already satisfied: pyparsing>=2.3.1 in /opt/anaconda3/lib/python3.11/site-packages (from matplotlib->wordcloud) (3.0.9)\n",
      "Requirement already satisfied: python-dateutil>=2.7 in /opt/anaconda3/lib/python3.11/site-packages (from matplotlib->wordcloud) (2.8.2)\n",
      "Requirement already satisfied: six>=1.5 in /opt/anaconda3/lib/python3.11/site-packages (from python-dateutil>=2.7->matplotlib->wordcloud) (1.16.0)\n"
     ]
    }
   ],
   "source": [
    "!pip install wordcloud\n",
    "from collections import Counter\n",
    "import matplotlib.pyplot as plt\n",
    "import seaborn as sns; sns.set_theme()\n",
    "import warnings; warnings.filterwarnings(\"ignore\")\n",
    "from wordcloud import WordCloud, STOPWORDS"
   ]
  },
  {
   "cell_type": "code",
   "execution_count": 32,
   "metadata": {
    "ExecuteTime": {
     "end_time": "2024-03-27T22:46:45.702932Z",
     "start_time": "2024-03-27T22:46:45.316752Z"
    },
    "colab": {
     "base_uri": "https://localhost:8080/",
     "height": 551
    },
    "id": "pYSUfXmjqxL9",
    "outputId": "caa51719-382c-40d4-ce49-3cdae073f11f"
   },
   "outputs": [
    {
     "data": {
      "image/png": "[encoded data removed]",
      "text/plain": [
       "<Figure size 640x480 with 1 Axes>"
      ]
     },
     "metadata": {},
     "output_type": "display_data"
    }
   ],
   "source": [
    "# Most common tags\n",
    "all_tags = Counter(df.description)\n",
    "# Get the top 5 most common tags\n",
    "top_tags = dict(all_tags.most_common(5))\n",
    "\n",
    "# Plot tag frequencies\n",
    "tags, tag_counts = zip(*top_tags.items())\n",
    "plt.figure()\n",
    "ax = sns.barplot(x=list(tags), y=list(tag_counts))\n",
    "ax.set_xticklabels(tags, rotation=25, fontsize=8)\n",
    "plt.title(\"Top 5 Tag distribution\", fontsize=8)\n",
    "plt.ylabel(\"# of projects\", fontsize=12)\n",
    "plt.show()"
   ]
  },
  {
   "cell_type": "markdown",
   "metadata": {
    "id": "AqAZLmf3qIiM"
   },
   "source": [
    "# Data Preprocessing\n",
    "\n",
    "For our application, we'll be implementing a few of these preprocessing steps that are relevant for our dataset. We can combine existing input features to create new meaningful signal for helping the model learn. But again this is for experimentation to know the data better."
   ]
  },
  {
   "cell_type": "code",
   "execution_count": 33,
   "metadata": {
    "ExecuteTime": {
     "end_time": "2024-03-27T22:46:45.714230Z",
     "start_time": "2024-03-27T22:46:45.654492Z"
    },
    "id": "G6-Xf54hzZgg"
   },
   "outputs": [],
   "source": [
    "import json\n",
    "import nltk\n",
    "from nltk.corpus import stopwords\n",
    "from nltk.stem import PorterStemmer\n",
    "import re"
   ]
  },
  {
   "cell_type": "code",
   "execution_count": 34,
   "metadata": {
    "ExecuteTime": {
     "end_time": "2024-03-27T22:46:45.830165Z",
     "start_time": "2024-03-27T22:46:45.658426Z"
    },
    "colab": {
     "base_uri": "https://localhost:8080/",
     "height": 293
    },
    "id": "d77jPWC20NEg",
    "outputId": "2af70878-bc4a-43a6-afdb-4791431ae406"
   },
   "outputs": [
    {
     "data": {
      "text/html": [
       "<div>\n",
       "<style scoped>\n",
       "    .dataframe tbody tr th:only-of-type {\n",
       "        vertical-align: middle;\n",
       "    }\n",
       "\n",
       "    .dataframe tbody tr th {\n",
       "        vertical-align: top;\n",
       "    }\n",
       "\n",
       "    .dataframe thead th {\n",
       "        text-align: right;\n",
       "    }\n",
       "</style>\n",
       "<table border=\"1\" class=\"dataframe\">\n",
       "  <thead>\n",
       "    <tr style=\"text-align: right;\">\n",
       "      <th></th>\n",
       "      <th>id</th>\n",
       "      <th>name</th>\n",
       "      <th>description</th>\n",
       "      <th>sku</th>\n",
       "      <th>price</th>\n",
       "      <th>permalink</th>\n",
       "      <th>created_at</th>\n",
       "      <th>combine_name_desc</th>\n",
       "    </tr>\n",
       "  </thead>\n",
       "  <tbody>\n",
       "    <tr>\n",
       "      <th>0</th>\n",
       "      <td>1</td>\n",
       "      <td>Cordless Bed and Chair Sensor Pads</td>\n",
       "      <td>The Cordless Bed and Chair Sensor Pads provide...</td>\n",
       "      <td>NaN</td>\n",
       "      <td>0.00</td>\n",
       "      <td>https://mecp.ca/?post_type=product&amp;p=60037</td>\n",
       "      <td>2024-03-13 22:29:39</td>\n",
       "      <td>Cordless Bed and Chair Sensor Pads The Cordles...</td>\n",
       "    </tr>\n",
       "    <tr>\n",
       "      <th>1</th>\n",
       "      <td>2</td>\n",
       "      <td>MedPro Rayon Balls</td>\n",
       "      <td>MedPro Non-sterile rayon balls 50% rayon, 50% ...</td>\n",
       "      <td>NaN</td>\n",
       "      <td>35.53</td>\n",
       "      <td>https://mecp.ca/product/medpro-rayon-balls/</td>\n",
       "      <td>2024-03-13 22:29:39</td>\n",
       "      <td>MedPro Rayon Balls MedPro Non-sterile rayon ba...</td>\n",
       "    </tr>\n",
       "    <tr>\n",
       "      <th>2</th>\n",
       "      <td>3</td>\n",
       "      <td>MedPro Rayon Balls</td>\n",
       "      <td>MedPro Non-sterile rayon balls 50% rayon, 50% ...</td>\n",
       "      <td>NaN</td>\n",
       "      <td>0.00</td>\n",
       "      <td>https://mecp.ca/?post_type=product&amp;p=60020</td>\n",
       "      <td>2024-03-13 22:29:39</td>\n",
       "      <td>MedPro Rayon Balls MedPro Non-sterile rayon ba...</td>\n",
       "    </tr>\n",
       "    <tr>\n",
       "      <th>3</th>\n",
       "      <td>4</td>\n",
       "      <td>Clorox Bleach Germicidal Wipes Bucket</td>\n",
       "      <td>Clorox Healthcare Bleach Germicidal Wipes: Rea...</td>\n",
       "      <td>55894</td>\n",
       "      <td>129.50</td>\n",
       "      <td>https://mecp.ca/product/clorox-bleach-germicid...</td>\n",
       "      <td>2024-03-13 22:29:39</td>\n",
       "      <td>Clorox Bleach Germicidal Wipes Bucket Clorox H...</td>\n",
       "    </tr>\n",
       "    <tr>\n",
       "      <th>4</th>\n",
       "      <td>5</td>\n",
       "      <td>Clorox Healthcare Bleach Germicidal Wipes  Ter...</td>\n",
       "      <td></td>\n",
       "      <td>NaN</td>\n",
       "      <td>0.00</td>\n",
       "      <td>https://mecp.ca/?post_type=product&amp;p=59985</td>\n",
       "      <td>2024-03-13 22:29:39</td>\n",
       "      <td>Clorox Healthcare Bleach Germicidal Wipes  Ter...</td>\n",
       "    </tr>\n",
       "  </tbody>\n",
       "</table>\n",
       "</div>"
      ],
      "text/plain": [
       "   id                                               name  \\\n",
       "0   1                 Cordless Bed and Chair Sensor Pads   \n",
       "1   2                                 MedPro Rayon Balls   \n",
       "2   3                                 MedPro Rayon Balls   \n",
       "3   4              Clorox Bleach Germicidal Wipes Bucket   \n",
       "4   5  Clorox Healthcare Bleach Germicidal Wipes  Ter...   \n",
       "\n",
       "                                         description    sku   price  \\\n",
       "0  The Cordless Bed and Chair Sensor Pads provide...    NaN    0.00   \n",
       "1  MedPro Non-sterile rayon balls 50% rayon, 50% ...    NaN   35.53   \n",
       "2  MedPro Non-sterile rayon balls 50% rayon, 50% ...    NaN    0.00   \n",
       "3  Clorox Healthcare Bleach Germicidal Wipes: Rea...  55894  129.50   \n",
       "4                                                       NaN    0.00   \n",
       "\n",
       "                                           permalink           created_at  \\\n",
       "0         https://mecp.ca/?post_type=product&p=60037  2024-03-13 22:29:39   \n",
       "1        https://mecp.ca/product/medpro-rayon-balls/  2024-03-13 22:29:39   \n",
       "2         https://mecp.ca/?post_type=product&p=60020  2024-03-13 22:29:39   \n",
       "3  https://mecp.ca/product/clorox-bleach-germicid...  2024-03-13 22:29:39   \n",
       "4         https://mecp.ca/?post_type=product&p=59985  2024-03-13 22:29:39   \n",
       "\n",
       "                                   combine_name_desc  \n",
       "0  Cordless Bed and Chair Sensor Pads The Cordles...  \n",
       "1  MedPro Rayon Balls MedPro Non-sterile rayon ba...  \n",
       "2  MedPro Rayon Balls MedPro Non-sterile rayon ba...  \n",
       "3  Clorox Bleach Germicidal Wipes Bucket Clorox H...  \n",
       "4  Clorox Healthcare Bleach Germicidal Wipes  Ter...  "
      ]
     },
     "execution_count": 34,
     "metadata": {},
     "output_type": "execute_result"
    }
   ],
   "source": [
    "df['description'] = df['description'].fillna('')\n",
    "df[\"combine_name_desc\"] = df.name + \" \" + df.description\n",
    "df.head()"
   ]
  },
  {
   "cell_type": "code",
   "execution_count": 35,
   "metadata": {
    "ExecuteTime": {
     "end_time": "2024-03-27T22:46:45.876370Z",
     "start_time": "2024-03-27T22:46:45.708101Z"
    },
    "colab": {
     "base_uri": "https://localhost:8080/"
    },
    "id": "SMuBssm40675",
    "outputId": "78210629-2982-41cb-dd80-9ac215dc7f9f"
   },
   "outputs": [
    {
     "name": "stderr",
     "output_type": "stream",
     "text": [
      "[nltk_data] Downloading package stopwords to\n",
      "[nltk_data]     /Users/nixiong/nltk_data...\n",
      "[nltk_data]   Package stopwords is already up-to-date!\n"
     ]
    }
   ],
   "source": [
    "nltk.download(\"stopwords\")\n",
    "STOPWORDS = stopwords.words(\"english\")"
   ]
  },
  {
   "cell_type": "markdown",
   "metadata": {
    "id": "wGYkAIu_2aL1"
   },
   "source": [
    "We can clean the text as per the industry standards, no matter what we use in this project like conventional Machine Learning or Deep Learning for future ventures, this cleaning could help!"
   ]
  },
  {
   "cell_type": "code",
   "execution_count": 36,
   "metadata": {
    "ExecuteTime": {
     "end_time": "2024-03-27T22:46:46.000399Z",
     "start_time": "2024-03-27T22:46:45.866350Z"
    },
    "id": "7p3pWQ-Z1uWU"
   },
   "outputs": [],
   "source": [
    "def dataCleaning(text, stopwords=STOPWORDS):\n",
    "    #Clean raw text string\n",
    "    if isinstance(text, str):\n",
    "      text = text.lower() # lowering text\n",
    "      # Removing stopwords\n",
    "      pattern = re.compile(r'\\b(' + r\"|\".join(stopwords) + r\")\\b\\s*\")\n",
    "      text = pattern.sub('', text)\n",
    "\n",
    "      # Spacing and filters\n",
    "      text = re.sub(r\"([!\\\"'#$%&()*\\+,-./:;<=>?@\\\\\\[\\]^_`{|}~])\", r\" \\1 \", text)  # add spacing\n",
    "      text = re.sub(\"[^A-Za-z0-9]+\", \" \", text)  # remove non alphanumeric characters\n",
    "      text = re.sub(\" +\", \" \", text)  # remove multiple spaces\n",
    "      text = text.strip()  # strip white space at the ends\n",
    "      text = re.sub(r\"http\\S+\", \"\", text)  #  remove links\n",
    "\n",
    "    return text"
   ]
  },
  {
   "cell_type": "code",
   "execution_count": 37,
   "metadata": {
    "ExecuteTime": {
     "end_time": "2024-03-27T22:46:46.733053Z",
     "start_time": "2024-03-27T22:46:46.033755Z"
    },
    "colab": {
     "base_uri": "https://localhost:8080/",
     "height": 435
    },
    "id": "DytVG6y13MUX",
    "outputId": "563f300c-2499-4e19-b2fe-3e24616ae19b"
   },
   "outputs": [
    {
     "name": "stdout",
     "output_type": "stream",
     "text": [
      "Example:\n",
      "\n",
      "Original Data:\n",
      "Cordless Bed and Chair Sensor Pads The Cordless Bed and Chair Sensor Pads provide reliable monitoring with a lifespan of 18 months. The cordless option eliminates cord tripping hazards and damage, reducing false alarms. The pads can be folded for easy storage.\n",
      "\n",
      "Filtered Data:\n",
      "cordless bed chair sensor pads cordless bed chair sensor pads provide reliable monitoring lifespan 18 months cordless option eliminates cord tripping hazards damage reducing false alarms pads folded easy storage\n"
     ]
    },
    {
     "data": {
      "text/html": [
       "<div>\n",
       "<style scoped>\n",
       "    .dataframe tbody tr th:only-of-type {\n",
       "        vertical-align: middle;\n",
       "    }\n",
       "\n",
       "    .dataframe tbody tr th {\n",
       "        vertical-align: top;\n",
       "    }\n",
       "\n",
       "    .dataframe thead th {\n",
       "        text-align: right;\n",
       "    }\n",
       "</style>\n",
       "<table border=\"1\" class=\"dataframe\">\n",
       "  <thead>\n",
       "    <tr style=\"text-align: right;\">\n",
       "      <th></th>\n",
       "      <th>id</th>\n",
       "      <th>name</th>\n",
       "      <th>description</th>\n",
       "      <th>sku</th>\n",
       "      <th>price</th>\n",
       "      <th>permalink</th>\n",
       "      <th>created_at</th>\n",
       "      <th>combine_name_desc</th>\n",
       "    </tr>\n",
       "  </thead>\n",
       "  <tbody>\n",
       "    <tr>\n",
       "      <th>0</th>\n",
       "      <td>1</td>\n",
       "      <td>Cordless Bed and Chair Sensor Pads</td>\n",
       "      <td>The Cordless Bed and Chair Sensor Pads provide...</td>\n",
       "      <td>NaN</td>\n",
       "      <td>0.00</td>\n",
       "      <td>https://mecp.ca/?post_type=product&amp;p=60037</td>\n",
       "      <td>2024-03-13 22:29:39</td>\n",
       "      <td>cordless bed chair sensor pads cordless bed ch...</td>\n",
       "    </tr>\n",
       "    <tr>\n",
       "      <th>1</th>\n",
       "      <td>2</td>\n",
       "      <td>MedPro Rayon Balls</td>\n",
       "      <td>MedPro Non-sterile rayon balls 50% rayon, 50% ...</td>\n",
       "      <td>NaN</td>\n",
       "      <td>35.53</td>\n",
       "      <td>https://mecp.ca/product/medpro-rayon-balls/</td>\n",
       "      <td>2024-03-13 22:29:39</td>\n",
       "      <td>medpro rayon balls medpro non sterile rayon ba...</td>\n",
       "    </tr>\n",
       "    <tr>\n",
       "      <th>2</th>\n",
       "      <td>3</td>\n",
       "      <td>MedPro Rayon Balls</td>\n",
       "      <td>MedPro Non-sterile rayon balls 50% rayon, 50% ...</td>\n",
       "      <td>NaN</td>\n",
       "      <td>0.00</td>\n",
       "      <td>https://mecp.ca/?post_type=product&amp;p=60020</td>\n",
       "      <td>2024-03-13 22:29:39</td>\n",
       "      <td>medpro rayon balls medpro non sterile rayon ba...</td>\n",
       "    </tr>\n",
       "    <tr>\n",
       "      <th>3</th>\n",
       "      <td>4</td>\n",
       "      <td>Clorox Bleach Germicidal Wipes Bucket</td>\n",
       "      <td>Clorox Healthcare Bleach Germicidal Wipes: Rea...</td>\n",
       "      <td>55894</td>\n",
       "      <td>129.50</td>\n",
       "      <td>https://mecp.ca/product/clorox-bleach-germicid...</td>\n",
       "      <td>2024-03-13 22:29:39</td>\n",
       "      <td>clorox bleach germicidal wipes bucket clorox h...</td>\n",
       "    </tr>\n",
       "    <tr>\n",
       "      <th>4</th>\n",
       "      <td>5</td>\n",
       "      <td>Clorox Healthcare Bleach Germicidal Wipes  Ter...</td>\n",
       "      <td></td>\n",
       "      <td>NaN</td>\n",
       "      <td>0.00</td>\n",
       "      <td>https://mecp.ca/?post_type=product&amp;p=59985</td>\n",
       "      <td>2024-03-13 22:29:39</td>\n",
       "      <td>clorox healthcare bleach germicidal wipes term...</td>\n",
       "    </tr>\n",
       "  </tbody>\n",
       "</table>\n",
       "</div>"
      ],
      "text/plain": [
       "   id                                               name  \\\n",
       "0   1                 Cordless Bed and Chair Sensor Pads   \n",
       "1   2                                 MedPro Rayon Balls   \n",
       "2   3                                 MedPro Rayon Balls   \n",
       "3   4              Clorox Bleach Germicidal Wipes Bucket   \n",
       "4   5  Clorox Healthcare Bleach Germicidal Wipes  Ter...   \n",
       "\n",
       "                                         description    sku   price  \\\n",
       "0  The Cordless Bed and Chair Sensor Pads provide...    NaN    0.00   \n",
       "1  MedPro Non-sterile rayon balls 50% rayon, 50% ...    NaN   35.53   \n",
       "2  MedPro Non-sterile rayon balls 50% rayon, 50% ...    NaN    0.00   \n",
       "3  Clorox Healthcare Bleach Germicidal Wipes: Rea...  55894  129.50   \n",
       "4                                                       NaN    0.00   \n",
       "\n",
       "                                           permalink           created_at  \\\n",
       "0         https://mecp.ca/?post_type=product&p=60037  2024-03-13 22:29:39   \n",
       "1        https://mecp.ca/product/medpro-rayon-balls/  2024-03-13 22:29:39   \n",
       "2         https://mecp.ca/?post_type=product&p=60020  2024-03-13 22:29:39   \n",
       "3  https://mecp.ca/product/clorox-bleach-germicid...  2024-03-13 22:29:39   \n",
       "4         https://mecp.ca/?post_type=product&p=59985  2024-03-13 22:29:39   \n",
       "\n",
       "                                   combine_name_desc  \n",
       "0  cordless bed chair sensor pads cordless bed ch...  \n",
       "1  medpro rayon balls medpro non sterile rayon ba...  \n",
       "2  medpro rayon balls medpro non sterile rayon ba...  \n",
       "3  clorox bleach germicidal wipes bucket clorox h...  \n",
       "4  clorox healthcare bleach germicidal wipes term...  "
      ]
     },
     "execution_count": 37,
     "metadata": {},
     "output_type": "execute_result"
    }
   ],
   "source": [
    "# Apply to dataframe\n",
    "original_df = df.copy()\n",
    "df.combine_name_desc = df.combine_name_desc.apply(dataCleaning)\n",
    "print(\"Example:\\n\")\n",
    "print (f\"Original Data:\\n{original_df.combine_name_desc.values[0]}\\n\\nFiltered Data:\\n{df.combine_name_desc.values[0]}\")\n",
    "df.head()"
   ]
  },
  {
   "cell_type": "markdown",
   "metadata": {
    "id": "bt81YaQN6--M"
   },
   "source": [
    "**We have not experimented or decided yet if removing sole numerical (int/float) values from the combine_name_desc will benefit our Model, we have to experiment.**"
   ]
  },
  {
   "cell_type": "markdown",
   "metadata": {
    "id": "Nge6lVUe9PTX"
   },
   "source": [
    "We can  clean data further by dropping unwanted columns"
   ]
  },
  {
   "cell_type": "code",
   "execution_count": 38,
   "metadata": {
    "ExecuteTime": {
     "end_time": "2024-03-27T22:46:46.736577Z",
     "start_time": "2024-03-27T22:46:46.705101Z"
    },
    "colab": {
     "base_uri": "https://localhost:8080/",
     "height": 206
    },
    "id": "FS_-kR9b7Liu",
    "outputId": "60119d59-8239-4f0a-c054-170046a8dacb"
   },
   "outputs": [
    {
     "data": {
      "text/html": [
       "<div>\n",
       "<style scoped>\n",
       "    .dataframe tbody tr th:only-of-type {\n",
       "        vertical-align: middle;\n",
       "    }\n",
       "\n",
       "    .dataframe tbody tr th {\n",
       "        vertical-align: top;\n",
       "    }\n",
       "\n",
       "    .dataframe thead th {\n",
       "        text-align: right;\n",
       "    }\n",
       "</style>\n",
       "<table border=\"1\" class=\"dataframe\">\n",
       "  <thead>\n",
       "    <tr style=\"text-align: right;\">\n",
       "      <th></th>\n",
       "      <th>combine_name_desc</th>\n",
       "      <th>sku</th>\n",
       "      <th>price</th>\n",
       "    </tr>\n",
       "  </thead>\n",
       "  <tbody>\n",
       "    <tr>\n",
       "      <th>0</th>\n",
       "      <td>cordless bed chair sensor pads cordless bed ch...</td>\n",
       "      <td>NaN</td>\n",
       "      <td>0.00</td>\n",
       "    </tr>\n",
       "    <tr>\n",
       "      <th>1</th>\n",
       "      <td>medpro rayon balls medpro non sterile rayon ba...</td>\n",
       "      <td>NaN</td>\n",
       "      <td>35.53</td>\n",
       "    </tr>\n",
       "    <tr>\n",
       "      <th>2</th>\n",
       "      <td>medpro rayon balls medpro non sterile rayon ba...</td>\n",
       "      <td>NaN</td>\n",
       "      <td>0.00</td>\n",
       "    </tr>\n",
       "    <tr>\n",
       "      <th>3</th>\n",
       "      <td>clorox bleach germicidal wipes bucket clorox h...</td>\n",
       "      <td>55894</td>\n",
       "      <td>129.50</td>\n",
       "    </tr>\n",
       "    <tr>\n",
       "      <th>4</th>\n",
       "      <td>clorox healthcare bleach germicidal wipes term...</td>\n",
       "      <td>NaN</td>\n",
       "      <td>0.00</td>\n",
       "    </tr>\n",
       "  </tbody>\n",
       "</table>\n",
       "</div>"
      ],
      "text/plain": [
       "                                   combine_name_desc    sku   price\n",
       "0  cordless bed chair sensor pads cordless bed ch...    NaN    0.00\n",
       "1  medpro rayon balls medpro non sterile rayon ba...    NaN   35.53\n",
       "2  medpro rayon balls medpro non sterile rayon ba...    NaN    0.00\n",
       "3  clorox bleach germicidal wipes bucket clorox h...  55894  129.50\n",
       "4  clorox healthcare bleach germicidal wipes term...    NaN    0.00"
      ]
     },
     "execution_count": 38,
     "metadata": {},
     "output_type": "execute_result"
    }
   ],
   "source": [
    "# Column drop\n",
    "df = df.drop(columns=[\"permalink\", \"name\", \"created_at\"], errors=\"ignore\")\n",
    "df = df[[\"combine_name_desc\", \"sku\", \"price\"]]\n",
    "df.head()"
   ]
  },
  {
   "cell_type": "code",
   "execution_count": 39,
   "metadata": {
    "ExecuteTime": {
     "end_time": "2024-03-27T22:46:46.813325Z",
     "start_time": "2024-03-27T22:46:46.722152Z"
    },
    "colab": {
     "base_uri": "https://localhost:8080/",
     "height": 424
    },
    "id": "L6DLBSaeEURw",
    "outputId": "a6342798-383d-4308-bf39-e88c36d95cc5"
   },
   "outputs": [
    {
     "data": {
      "text/html": [
       "<div>\n",
       "<style scoped>\n",
       "    .dataframe tbody tr th:only-of-type {\n",
       "        vertical-align: middle;\n",
       "    }\n",
       "\n",
       "    .dataframe tbody tr th {\n",
       "        vertical-align: top;\n",
       "    }\n",
       "\n",
       "    .dataframe thead th {\n",
       "        text-align: right;\n",
       "    }\n",
       "</style>\n",
       "<table border=\"1\" class=\"dataframe\">\n",
       "  <thead>\n",
       "    <tr style=\"text-align: right;\">\n",
       "      <th></th>\n",
       "      <th>combine_name_desc</th>\n",
       "      <th>sku</th>\n",
       "      <th>price</th>\n",
       "    </tr>\n",
       "  </thead>\n",
       "  <tbody>\n",
       "    <tr>\n",
       "      <th>0</th>\n",
       "      <td>cordless bed chair sensor pads cordless bed ch...</td>\n",
       "      <td>115589</td>\n",
       "      <td>0.00</td>\n",
       "    </tr>\n",
       "    <tr>\n",
       "      <th>1</th>\n",
       "      <td>medpro rayon balls medpro non sterile rayon ba...</td>\n",
       "      <td>846164</td>\n",
       "      <td>35.53</td>\n",
       "    </tr>\n",
       "    <tr>\n",
       "      <th>2</th>\n",
       "      <td>medpro rayon balls medpro non sterile rayon ba...</td>\n",
       "      <td>308400</td>\n",
       "      <td>0.00</td>\n",
       "    </tr>\n",
       "    <tr>\n",
       "      <th>3</th>\n",
       "      <td>clorox bleach germicidal wipes bucket clorox h...</td>\n",
       "      <td>55894</td>\n",
       "      <td>129.50</td>\n",
       "    </tr>\n",
       "    <tr>\n",
       "      <th>4</th>\n",
       "      <td>clorox healthcare bleach germicidal wipes term...</td>\n",
       "      <td>928214</td>\n",
       "      <td>0.00</td>\n",
       "    </tr>\n",
       "    <tr>\n",
       "      <th>...</th>\n",
       "      <td>...</td>\n",
       "      <td>...</td>\n",
       "      <td>...</td>\n",
       "    </tr>\n",
       "    <tr>\n",
       "      <th>3934</th>\n",
       "      <td>mouth shield clear mouth shield ideal people w...</td>\n",
       "      <td>mg-c</td>\n",
       "      <td>14.99</td>\n",
       "    </tr>\n",
       "    <tr>\n",
       "      <th>3935</th>\n",
       "      <td>face shield kids face shield designed kids com...</td>\n",
       "      <td>905919</td>\n",
       "      <td>8.99</td>\n",
       "    </tr>\n",
       "    <tr>\n",
       "      <th>3936</th>\n",
       "      <td>face shield adult face shield comfortable elas...</td>\n",
       "      <td>299799</td>\n",
       "      <td>7.99</td>\n",
       "    </tr>\n",
       "    <tr>\n",
       "      <th>3937</th>\n",
       "      <td>youth cotton face masks signature mask made me...</td>\n",
       "      <td>292916</td>\n",
       "      <td>8.99</td>\n",
       "    </tr>\n",
       "    <tr>\n",
       "      <th>3938</th>\n",
       "      <td>cotton face masks signature mask made men wome...</td>\n",
       "      <td>509832</td>\n",
       "      <td>8.99</td>\n",
       "    </tr>\n",
       "  </tbody>\n",
       "</table>\n",
       "<p>3939 rows × 3 columns</p>\n",
       "</div>"
      ],
      "text/plain": [
       "                                      combine_name_desc     sku   price\n",
       "0     cordless bed chair sensor pads cordless bed ch...  115589    0.00\n",
       "1     medpro rayon balls medpro non sterile rayon ba...  846164   35.53\n",
       "2     medpro rayon balls medpro non sterile rayon ba...  308400    0.00\n",
       "3     clorox bleach germicidal wipes bucket clorox h...   55894  129.50\n",
       "4     clorox healthcare bleach germicidal wipes term...  928214    0.00\n",
       "...                                                 ...     ...     ...\n",
       "3934  mouth shield clear mouth shield ideal people w...    mg-c   14.99\n",
       "3935  face shield kids face shield designed kids com...  905919    8.99\n",
       "3936  face shield adult face shield comfortable elas...  299799    7.99\n",
       "3937  youth cotton face masks signature mask made me...  292916    8.99\n",
       "3938  cotton face masks signature mask made men wome...  509832    8.99\n",
       "\n",
       "[3939 rows x 3 columns]"
      ]
     },
     "execution_count": 39,
     "metadata": {},
     "output_type": "execute_result"
    }
   ],
   "source": [
    "import numpy as np\n",
    "\n",
    "# Assuming df is your DataFrame\n",
    "\n",
    "# Generate unique random numbers to replace NaN values in 'sku' column\n",
    "random_numbers = np.random.randint(100000, 999999, size=len(df))\n",
    "df['sku'] = df['sku'].fillna(pd.Series(random_numbers, index=df.index))\n",
    "df"
   ]
  },
  {
   "cell_type": "code",
   "execution_count": 40,
   "metadata": {
    "ExecuteTime": {
     "end_time": "2024-03-27T22:46:46.828888Z",
     "start_time": "2024-03-27T22:46:46.737068Z"
    },
    "colab": {
     "base_uri": "https://localhost:8080/",
     "height": 424
    },
    "id": "by1aO9t9-blY",
    "outputId": "a3a2c805-df1b-417c-f697-7b1c7a3260fa"
   },
   "outputs": [
    {
     "data": {
      "text/html": [
       "<div>\n",
       "<style scoped>\n",
       "    .dataframe tbody tr th:only-of-type {\n",
       "        vertical-align: middle;\n",
       "    }\n",
       "\n",
       "    .dataframe tbody tr th {\n",
       "        vertical-align: top;\n",
       "    }\n",
       "\n",
       "    .dataframe thead th {\n",
       "        text-align: right;\n",
       "    }\n",
       "</style>\n",
       "<table border=\"1\" class=\"dataframe\">\n",
       "  <thead>\n",
       "    <tr style=\"text-align: right;\">\n",
       "      <th></th>\n",
       "      <th>combine_name_desc</th>\n",
       "      <th>sku</th>\n",
       "      <th>price</th>\n",
       "    </tr>\n",
       "  </thead>\n",
       "  <tbody>\n",
       "    <tr>\n",
       "      <th>0</th>\n",
       "      <td>cordless bed chair sensor pads cordless bed ch...</td>\n",
       "      <td>115589</td>\n",
       "      <td>0.00</td>\n",
       "    </tr>\n",
       "    <tr>\n",
       "      <th>1</th>\n",
       "      <td>medpro rayon balls medpro non sterile rayon ba...</td>\n",
       "      <td>846164</td>\n",
       "      <td>35.53</td>\n",
       "    </tr>\n",
       "    <tr>\n",
       "      <th>3</th>\n",
       "      <td>clorox bleach germicidal wipes bucket clorox h...</td>\n",
       "      <td>55894</td>\n",
       "      <td>129.50</td>\n",
       "    </tr>\n",
       "    <tr>\n",
       "      <th>4</th>\n",
       "      <td>clorox healthcare bleach germicidal wipes term...</td>\n",
       "      <td>928214</td>\n",
       "      <td>0.00</td>\n",
       "    </tr>\n",
       "    <tr>\n",
       "      <th>5</th>\n",
       "      <td>lysol go 15 ct disinfectant wipes lysol go cit...</td>\n",
       "      <td>CB998311</td>\n",
       "      <td>68.40</td>\n",
       "    </tr>\n",
       "    <tr>\n",
       "      <th>...</th>\n",
       "      <td>...</td>\n",
       "      <td>...</td>\n",
       "      <td>...</td>\n",
       "    </tr>\n",
       "    <tr>\n",
       "      <th>3934</th>\n",
       "      <td>mouth shield clear mouth shield ideal people w...</td>\n",
       "      <td>mg-c</td>\n",
       "      <td>14.99</td>\n",
       "    </tr>\n",
       "    <tr>\n",
       "      <th>3935</th>\n",
       "      <td>face shield kids face shield designed kids com...</td>\n",
       "      <td>905919</td>\n",
       "      <td>8.99</td>\n",
       "    </tr>\n",
       "    <tr>\n",
       "      <th>3936</th>\n",
       "      <td>face shield adult face shield comfortable elas...</td>\n",
       "      <td>299799</td>\n",
       "      <td>7.99</td>\n",
       "    </tr>\n",
       "    <tr>\n",
       "      <th>3937</th>\n",
       "      <td>youth cotton face masks signature mask made me...</td>\n",
       "      <td>292916</td>\n",
       "      <td>8.99</td>\n",
       "    </tr>\n",
       "    <tr>\n",
       "      <th>3938</th>\n",
       "      <td>cotton face masks signature mask made men wome...</td>\n",
       "      <td>509832</td>\n",
       "      <td>8.99</td>\n",
       "    </tr>\n",
       "  </tbody>\n",
       "</table>\n",
       "<p>3915 rows × 3 columns</p>\n",
       "</div>"
      ],
      "text/plain": [
       "                                      combine_name_desc       sku   price\n",
       "0     cordless bed chair sensor pads cordless bed ch...    115589    0.00\n",
       "1     medpro rayon balls medpro non sterile rayon ba...    846164   35.53\n",
       "3     clorox bleach germicidal wipes bucket clorox h...     55894  129.50\n",
       "4     clorox healthcare bleach germicidal wipes term...    928214    0.00\n",
       "5     lysol go 15 ct disinfectant wipes lysol go cit...  CB998311   68.40\n",
       "...                                                 ...       ...     ...\n",
       "3934  mouth shield clear mouth shield ideal people w...      mg-c   14.99\n",
       "3935  face shield kids face shield designed kids com...    905919    8.99\n",
       "3936  face shield adult face shield comfortable elas...    299799    7.99\n",
       "3937  youth cotton face masks signature mask made me...    292916    8.99\n",
       "3938  cotton face masks signature mask made men wome...    509832    8.99\n",
       "\n",
       "[3915 rows x 3 columns]"
      ]
     },
     "execution_count": 40,
     "metadata": {},
     "output_type": "execute_result"
    }
   ],
   "source": [
    "df_experiment = df.copy()\n",
    "df_experiment = df_experiment.drop_duplicates(subset=[\"combine_name_desc\"])\n",
    "df_experiment = df_experiment.drop_duplicates(subset=[\"sku\"])\n",
    "df_experiment"
   ]
  },
  {
   "cell_type": "markdown",
   "metadata": {
    "id": "kUUwEgDGH4HI"
   },
   "source": [
    "# Similarly we will filter the data of the Competitors Dataset."
   ]
  },
  {
   "cell_type": "code",
   "execution_count": 41,
   "metadata": {
    "ExecuteTime": {
     "end_time": "2024-03-27T22:57:08.017835Z",
     "start_time": "2024-03-27T22:57:07.836732Z"
    },
    "colab": {
     "base_uri": "https://localhost:8080/",
     "height": 293
    },
    "id": "JnRgBFQOHpCg",
    "outputId": "6e54c69d-9416-4871-c9e4-46169050f93e"
   },
   "outputs": [
    {
     "data": {
      "text/html": [
       "<div>\n",
       "<style scoped>\n",
       "    .dataframe tbody tr th:only-of-type {\n",
       "        vertical-align: middle;\n",
       "    }\n",
       "\n",
       "    .dataframe tbody tr th {\n",
       "        vertical-align: top;\n",
       "    }\n",
       "\n",
       "    .dataframe thead th {\n",
       "        text-align: right;\n",
       "    }\n",
       "</style>\n",
       "<table border=\"1\" class=\"dataframe\">\n",
       "  <thead>\n",
       "    <tr style=\"text-align: right;\">\n",
       "      <th></th>\n",
       "      <th>id</th>\n",
       "      <th>name</th>\n",
       "      <th>description</th>\n",
       "      <th>sku</th>\n",
       "      <th>price</th>\n",
       "      <th>permalink</th>\n",
       "      <th>created_at</th>\n",
       "      <th>combine_name_desc</th>\n",
       "    </tr>\n",
       "  </thead>\n",
       "  <tbody>\n",
       "    <tr>\n",
       "      <th>0</th>\n",
       "      <td>1</td>\n",
       "      <td>Cotton Balls | Economy | 0.22g | Bag of 2000</td>\n",
       "      <td>KOSMA-KARE Cotton balls are ideal for applying...</td>\n",
       "      <td>KK-21176</td>\n",
       "      <td>9.99</td>\n",
       "      <td>https://c6.ca/collections/patient-care/product...</td>\n",
       "      <td>2024-03-18 16:29:11</td>\n",
       "      <td>Cotton Balls | Economy | 0.22g | Bag of 2000 K...</td>\n",
       "    </tr>\n",
       "    <tr>\n",
       "      <th>1</th>\n",
       "      <td>2</td>\n",
       "      <td>Lactated Ringer Subcutaneous Fluids, USP</td>\n",
       "      <td>B. Braun Lactated Ringer's Injection USP is st...</td>\n",
       "      <td>BB-L7501</td>\n",
       "      <td>7.99</td>\n",
       "      <td>https://c6.ca/collections/patient-care/product...</td>\n",
       "      <td>2024-03-18 16:29:11</td>\n",
       "      <td>Lactated Ringer Subcutaneous Fluids, USP B. Br...</td>\n",
       "    </tr>\n",
       "    <tr>\n",
       "      <th>2</th>\n",
       "      <td>3</td>\n",
       "      <td>Grafco® Unlabeled Flint Glass Sundry Jar | 7\" ...</td>\n",
       "      <td>graham field Grafco® Unlabeled Flint Glass Sun...</td>\n",
       "      <td>GF-3458</td>\n",
       "      <td>12.99</td>\n",
       "      <td>https://c6.ca/collections/patient-care/product...</td>\n",
       "      <td>2024-03-18 16:29:11</td>\n",
       "      <td>Grafco® Unlabeled Flint Glass Sundry Jar | 7\" ...</td>\n",
       "    </tr>\n",
       "    <tr>\n",
       "      <th>3</th>\n",
       "      <td>4</td>\n",
       "      <td>Cotton Balls | High Density | Bag of 1000</td>\n",
       "      <td>KOSMA-KARE Cotton balls are ideal for applying...</td>\n",
       "      <td>KK-21476</td>\n",
       "      <td>15.99</td>\n",
       "      <td>https://c6.ca/collections/patient-care/product...</td>\n",
       "      <td>2024-03-18 16:29:11</td>\n",
       "      <td>Cotton Balls | High Density | Bag of 1000 KOSM...</td>\n",
       "    </tr>\n",
       "    <tr>\n",
       "      <th>4</th>\n",
       "      <td>5</td>\n",
       "      <td>Aerosol Kit with Mask, Nebulizer, &amp; Tubing | 7...</td>\n",
       "      <td>Glenwood Laboratories Canada Ltd Pediatric Aer...</td>\n",
       "      <td>GK-1807</td>\n",
       "      <td>9.99</td>\n",
       "      <td>https://c6.ca/collections/patient-care/product...</td>\n",
       "      <td>2024-03-18 16:29:11</td>\n",
       "      <td>Aerosol Kit with Mask, Nebulizer, &amp; Tubing | 7...</td>\n",
       "    </tr>\n",
       "  </tbody>\n",
       "</table>\n",
       "</div>"
      ],
      "text/plain": [
       "   id                                               name  \\\n",
       "0   1       Cotton Balls | Economy | 0.22g | Bag of 2000   \n",
       "1   2           Lactated Ringer Subcutaneous Fluids, USP   \n",
       "2   3  Grafco® Unlabeled Flint Glass Sundry Jar | 7\" ...   \n",
       "3   4          Cotton Balls | High Density | Bag of 1000   \n",
       "4   5  Aerosol Kit with Mask, Nebulizer, & Tubing | 7...   \n",
       "\n",
       "                                         description       sku  price  \\\n",
       "0  KOSMA-KARE Cotton balls are ideal for applying...  KK-21176   9.99   \n",
       "1  B. Braun Lactated Ringer's Injection USP is st...  BB-L7501   7.99   \n",
       "2  graham field Grafco® Unlabeled Flint Glass Sun...   GF-3458  12.99   \n",
       "3  KOSMA-KARE Cotton balls are ideal for applying...  KK-21476  15.99   \n",
       "4  Glenwood Laboratories Canada Ltd Pediatric Aer...   GK-1807   9.99   \n",
       "\n",
       "                                           permalink           created_at  \\\n",
       "0  https://c6.ca/collections/patient-care/product...  2024-03-18 16:29:11   \n",
       "1  https://c6.ca/collections/patient-care/product...  2024-03-18 16:29:11   \n",
       "2  https://c6.ca/collections/patient-care/product...  2024-03-18 16:29:11   \n",
       "3  https://c6.ca/collections/patient-care/product...  2024-03-18 16:29:11   \n",
       "4  https://c6.ca/collections/patient-care/product...  2024-03-18 16:29:11   \n",
       "\n",
       "                                   combine_name_desc  \n",
       "0  Cotton Balls | Economy | 0.22g | Bag of 2000 K...  \n",
       "1  Lactated Ringer Subcutaneous Fluids, USP B. Br...  \n",
       "2  Grafco® Unlabeled Flint Glass Sundry Jar | 7\" ...  \n",
       "3  Cotton Balls | High Density | Bag of 1000 KOSM...  \n",
       "4  Aerosol Kit with Mask, Nebulizer, & Tubing | 7...  "
      ]
     },
     "execution_count": 41,
     "metadata": {},
     "output_type": "execute_result"
    }
   ],
   "source": [
    "# Apply to dataframe\n",
    "c6_data['description'] = c6_data['description'].fillna('')\n",
    "c6_data[\"combine_name_desc\"] = c6_data.name + \" \" + c6_data.description\n",
    "c6_data_original_df = c6_data.copy()\n",
    "\n",
    "c6_data.head()\n",
    "\n"
   ]
  },
  {
   "cell_type": "code",
   "execution_count": 42,
   "metadata": {
    "ExecuteTime": {
     "end_time": "2024-03-27T22:46:46.980652Z",
     "start_time": "2024-03-27T22:46:46.832918Z"
    },
    "colab": {
     "base_uri": "https://localhost:8080/",
     "height": 365
    },
    "id": "mpheTueMJ25T",
    "outputId": "f0e794a6-c692-45d8-e6f2-67759319a617"
   },
   "outputs": [
    {
     "name": "stdout",
     "output_type": "stream",
     "text": [
      "Example:\n",
      "Original Data:Cotton Balls | Economy | 0.22g | Bag of 2000 KOSMA-KARE Cotton balls are ideal for applying first aid creams and ointments. They are white, non-sterile, and are made from 100% natural cotton. Non-Sterile Medical Cotton Balls are appropriate for wound treatment, cleaning, prepping, applying creams and ointments. Perfect for skin prepping and wound cleansing Removing makeup and ideal for beauty Personal care and household uses .\n",
      "Filtered Data:cotton balls economy 0 22g bag 2000 kosma kare cotton balls ideal applying first aid creams ointments white non sterile made 100 natural cotton non sterile medical cotton balls appropriate wound treatment cleaning prepping applying creams ointments perfect skin prepping wound cleansing removing makeup ideal beauty personal care household uses\n"
     ]
    },
    {
     "data": {
      "text/html": [
       "<div>\n",
       "<style scoped>\n",
       "    .dataframe tbody tr th:only-of-type {\n",
       "        vertical-align: middle;\n",
       "    }\n",
       "\n",
       "    .dataframe tbody tr th {\n",
       "        vertical-align: top;\n",
       "    }\n",
       "\n",
       "    .dataframe thead th {\n",
       "        text-align: right;\n",
       "    }\n",
       "</style>\n",
       "<table border=\"1\" class=\"dataframe\">\n",
       "  <thead>\n",
       "    <tr style=\"text-align: right;\">\n",
       "      <th></th>\n",
       "      <th>id</th>\n",
       "      <th>name</th>\n",
       "      <th>description</th>\n",
       "      <th>sku</th>\n",
       "      <th>price</th>\n",
       "      <th>permalink</th>\n",
       "      <th>created_at</th>\n",
       "      <th>combine_name_desc</th>\n",
       "    </tr>\n",
       "  </thead>\n",
       "  <tbody>\n",
       "    <tr>\n",
       "      <th>0</th>\n",
       "      <td>1</td>\n",
       "      <td>Cotton Balls | Economy | 0.22g | Bag of 2000</td>\n",
       "      <td>KOSMA-KARE Cotton balls are ideal for applying...</td>\n",
       "      <td>KK-21176</td>\n",
       "      <td>9.99</td>\n",
       "      <td>https://c6.ca/collections/patient-care/product...</td>\n",
       "      <td>2024-03-18 16:29:11</td>\n",
       "      <td>cotton balls economy 0 22g bag 2000 kosma kare...</td>\n",
       "    </tr>\n",
       "    <tr>\n",
       "      <th>1</th>\n",
       "      <td>2</td>\n",
       "      <td>Lactated Ringer Subcutaneous Fluids, USP</td>\n",
       "      <td>B. Braun Lactated Ringer's Injection USP is st...</td>\n",
       "      <td>BB-L7501</td>\n",
       "      <td>7.99</td>\n",
       "      <td>https://c6.ca/collections/patient-care/product...</td>\n",
       "      <td>2024-03-18 16:29:11</td>\n",
       "      <td>lactated ringer subcutaneous fluids usp b brau...</td>\n",
       "    </tr>\n",
       "    <tr>\n",
       "      <th>2</th>\n",
       "      <td>3</td>\n",
       "      <td>Grafco® Unlabeled Flint Glass Sundry Jar | 7\" ...</td>\n",
       "      <td>graham field Grafco® Unlabeled Flint Glass Sun...</td>\n",
       "      <td>GF-3458</td>\n",
       "      <td>12.99</td>\n",
       "      <td>https://c6.ca/collections/patient-care/product...</td>\n",
       "      <td>2024-03-18 16:29:11</td>\n",
       "      <td>grafco unlabeled flint glass sundry jar 7 x 4 ...</td>\n",
       "    </tr>\n",
       "    <tr>\n",
       "      <th>3</th>\n",
       "      <td>4</td>\n",
       "      <td>Cotton Balls | High Density | Bag of 1000</td>\n",
       "      <td>KOSMA-KARE Cotton balls are ideal for applying...</td>\n",
       "      <td>KK-21476</td>\n",
       "      <td>15.99</td>\n",
       "      <td>https://c6.ca/collections/patient-care/product...</td>\n",
       "      <td>2024-03-18 16:29:11</td>\n",
       "      <td>cotton balls high density bag 1000 kosma kare ...</td>\n",
       "    </tr>\n",
       "    <tr>\n",
       "      <th>4</th>\n",
       "      <td>5</td>\n",
       "      <td>Aerosol Kit with Mask, Nebulizer, &amp; Tubing | 7...</td>\n",
       "      <td>Glenwood Laboratories Canada Ltd Pediatric Aer...</td>\n",
       "      <td>GK-1807</td>\n",
       "      <td>9.99</td>\n",
       "      <td>https://c6.ca/collections/patient-care/product...</td>\n",
       "      <td>2024-03-18 16:29:11</td>\n",
       "      <td>aerosol kit mask nebulizer tubing 7 disposable...</td>\n",
       "    </tr>\n",
       "  </tbody>\n",
       "</table>\n",
       "</div>"
      ],
      "text/plain": [
       "   id                                               name  \\\n",
       "0   1       Cotton Balls | Economy | 0.22g | Bag of 2000   \n",
       "1   2           Lactated Ringer Subcutaneous Fluids, USP   \n",
       "2   3  Grafco® Unlabeled Flint Glass Sundry Jar | 7\" ...   \n",
       "3   4          Cotton Balls | High Density | Bag of 1000   \n",
       "4   5  Aerosol Kit with Mask, Nebulizer, & Tubing | 7...   \n",
       "\n",
       "                                         description       sku  price  \\\n",
       "0  KOSMA-KARE Cotton balls are ideal for applying...  KK-21176   9.99   \n",
       "1  B. Braun Lactated Ringer's Injection USP is st...  BB-L7501   7.99   \n",
       "2  graham field Grafco® Unlabeled Flint Glass Sun...   GF-3458  12.99   \n",
       "3  KOSMA-KARE Cotton balls are ideal for applying...  KK-21476  15.99   \n",
       "4  Glenwood Laboratories Canada Ltd Pediatric Aer...   GK-1807   9.99   \n",
       "\n",
       "                                           permalink           created_at  \\\n",
       "0  https://c6.ca/collections/patient-care/product...  2024-03-18 16:29:11   \n",
       "1  https://c6.ca/collections/patient-care/product...  2024-03-18 16:29:11   \n",
       "2  https://c6.ca/collections/patient-care/product...  2024-03-18 16:29:11   \n",
       "3  https://c6.ca/collections/patient-care/product...  2024-03-18 16:29:11   \n",
       "4  https://c6.ca/collections/patient-care/product...  2024-03-18 16:29:11   \n",
       "\n",
       "                                   combine_name_desc  \n",
       "0  cotton balls economy 0 22g bag 2000 kosma kare...  \n",
       "1  lactated ringer subcutaneous fluids usp b brau...  \n",
       "2  grafco unlabeled flint glass sundry jar 7 x 4 ...  \n",
       "3  cotton balls high density bag 1000 kosma kare ...  \n",
       "4  aerosol kit mask nebulizer tubing 7 disposable...  "
      ]
     },
     "execution_count": 42,
     "metadata": {},
     "output_type": "execute_result"
    }
   ],
   "source": [
    "c6_data.combine_name_desc = c6_data.combine_name_desc.apply(dataCleaning)\n",
    "\n",
    "print(\"Example:\")\n",
    "print (f\"Original Data:{c6_data_original_df.combine_name_desc.values[0]}\\nFiltered Data:{c6_data.combine_name_desc.values[0]}\")\n",
    "c6_data.head()"
   ]
  },
  {
   "cell_type": "code",
   "execution_count": 43,
   "metadata": {
    "ExecuteTime": {
     "end_time": "2024-03-27T22:46:47.010752Z",
     "start_time": "2024-03-27T22:46:46.853675Z"
    },
    "id": "x44H07oJK8hz"
   },
   "outputs": [],
   "source": [
    "# # we are removing sku here as we don't care about the cpmpetitor's sku, we can just filter by id assigned\n",
    "# c6_experiment = c6_data.copy()\n",
    "# c6_experiment = c6_experiment.drop(columns=[\"permalink\", \"name\", \"created_at\", \"sku\"], errors=\"ignore\")\n",
    "# c6_experiment = c6_experiment[[\"id\", \"combine_name_desc\", \"price\"]]\n"
   ]
  },
  {
   "cell_type": "code",
   "execution_count": 44,
   "metadata": {
    "ExecuteTime": {
     "end_time": "2024-03-27T22:46:47.013388Z",
     "start_time": "2024-03-27T22:46:46.858706Z"
    },
    "colab": {
     "base_uri": "https://localhost:8080/"
    },
    "id": "oHXWMkEcSkc7",
    "outputId": "d1aa054d-d20e-4b75-d2bf-b9c5ec4ca9ad"
   },
   "outputs": [
    {
     "data": {
      "text/plain": [
       "355"
      ]
     },
     "execution_count": 44,
     "metadata": {},
     "output_type": "execute_result"
    }
   ],
   "source": [
    "len(c6_data)"
   ]
  },
  {
   "cell_type": "code",
   "execution_count": 45,
   "metadata": {
    "ExecuteTime": {
     "end_time": "2024-03-27T22:46:49.058167Z",
     "start_time": "2024-03-27T22:46:46.865295Z"
    },
    "colab": {
     "base_uri": "https://localhost:8080/"
    },
    "id": "OSE8cuZ0WcDr",
    "outputId": "5777b1c8-4979-472a-c0eb-91a75b7d09c3"
   },
   "outputs": [
    {
     "name": "stdout",
     "output_type": "stream",
     "text": [
      "Collecting rapidfuzz\n",
      "  Downloading rapidfuzz-3.8.1-cp311-cp311-macosx_11_0_arm64.whl.metadata (11 kB)\n",
      "Downloading rapidfuzz-3.8.1-cp311-cp311-macosx_11_0_arm64.whl (1.2 MB)\n",
      "\u001b[2K   \u001b[90m━━━━━━━━━━━━━━━━━━━━━━━━━━━━━━━━━━━━━━━━\u001b[0m \u001b[32m1.2/1.2 MB\u001b[0m \u001b[31m5.8 MB/s\u001b[0m eta \u001b[36m0:00:00\u001b[0m00:01\u001b[0m00:01\u001b[0m\n",
      "\u001b[?25hInstalling collected packages: rapidfuzz\n",
      "Successfully installed rapidfuzz-3.8.1\n"
     ]
    }
   ],
   "source": [
    "!pip install rapidfuzz\n"
   ]
  },
  {
   "cell_type": "code",
   "execution_count": 46,
   "metadata": {
    "ExecuteTime": {
     "end_time": "2024-03-27T22:46:49.128864Z",
     "start_time": "2024-03-27T22:46:49.068428Z"
    },
    "colab": {
     "base_uri": "https://localhost:8080/"
    },
    "id": "AbbeAzQjNege",
    "outputId": "90ae35a9-1955-40de-a126-bf074856b46f"
   },
   "outputs": [
    {
     "name": "stdout",
     "output_type": "stream",
     "text": [
      "Elapsed time with Levenshtein distance: 0.0819 seconds\n"
     ]
    }
   ],
   "source": [
    "from nltk.metrics import edit_distance\n",
    "from rapidfuzz import fuzz\n",
    "\n",
    "c6_data_lavenshtein = c6_data.sample(n=100, random_state=42)\n",
    "df_experiment_lavenshtein = df_experiment.sample(n=150, random_state=42)\n",
    "\n",
    "\n",
    "# Start time\n",
    "start_time = time.time()\n",
    "\n",
    "\n",
    "\n",
    "matched_ids = []\n",
    "similarity_scores = []\n",
    "\n",
    "# Index the descriptions in df2 for efficient search\n",
    "df2_index = {desc: index for index, desc in enumerate(c6_data_lavenshtein['combine_name_desc'])}\n",
    "\n",
    "\n",
    "for desc1 in df_experiment_lavenshtein['combine_name_desc']:\n",
    "    # Find the most similar description in df2 and its index\n",
    "    most_similar_desc, most_similar_index = max(((desc2, index) for desc2, index in df2_index.items()),\n",
    "                                                key=lambda x: fuzz.ratio(desc1, x[0]))\n",
    "    # Calculate similarity score\n",
    "    similarity_score = fuzz.ratio(desc1, most_similar_desc)\n",
    "\n",
    "    most_similar_id = c6_data_lavenshtein.iloc[most_similar_index]['id']\n",
    "\n",
    "    matched_ids.append(most_similar_id)\n",
    "    similarity_scores.append(similarity_score)\n",
    "\n",
    "# Adding matched id and similarity scores to df1\n",
    "df_experiment_lavenshtein['matched_id_of_C6'] = matched_ids\n",
    "df_experiment_lavenshtein['similarity_score'] = similarity_scores\n",
    "\n",
    "\n",
    "# End time\n",
    "end_time = time.time()\n",
    "# Calculate elapsed time\n",
    "elapsed_time = end_time - start_time\n",
    "# Print the elapsed time\n",
    "print(\"Elapsed time with Levenshtein distance: {:.4f} seconds\".format(elapsed_time))"
   ]
  },
  {
   "cell_type": "code",
   "execution_count": 47,
   "metadata": {
    "ExecuteTime": {
     "end_time": "2024-03-27T22:46:49.138796Z",
     "start_time": "2024-03-27T22:46:49.133777Z"
    },
    "colab": {
     "base_uri": "https://localhost:8080/",
     "height": 363
    },
    "id": "xa0P8uSoWbI8",
    "outputId": "3021f537-39f2-4bb7-afac-d190f8bfdbed"
   },
   "outputs": [
    {
     "data": {
      "text/html": [
       "<div>\n",
       "<style scoped>\n",
       "    .dataframe tbody tr th:only-of-type {\n",
       "        vertical-align: middle;\n",
       "    }\n",
       "\n",
       "    .dataframe tbody tr th {\n",
       "        vertical-align: top;\n",
       "    }\n",
       "\n",
       "    .dataframe thead th {\n",
       "        text-align: right;\n",
       "    }\n",
       "</style>\n",
       "<table border=\"1\" class=\"dataframe\">\n",
       "  <thead>\n",
       "    <tr style=\"text-align: right;\">\n",
       "      <th></th>\n",
       "      <th>combine_name_desc</th>\n",
       "      <th>sku</th>\n",
       "      <th>price</th>\n",
       "      <th>matched_id_of_C6</th>\n",
       "      <th>similarity_score</th>\n",
       "    </tr>\n",
       "  </thead>\n",
       "  <tbody>\n",
       "    <tr>\n",
       "      <th>273</th>\n",
       "      <td>emergency crash cart 3 pull tub healthcare gra...</td>\n",
       "      <td>1010-3TWN</td>\n",
       "      <td>706.64</td>\n",
       "      <td>312</td>\n",
       "      <td>43.347051</td>\n",
       "    </tr>\n",
       "    <tr>\n",
       "      <th>1976</th>\n",
       "      <td>flexiport blood pressure cuff soft one tube tr...</td>\n",
       "      <td>flexiport-blood-pressure-cuff-soft-one-tube-wi...</td>\n",
       "      <td>173.32</td>\n",
       "      <td>64</td>\n",
       "      <td>41.967213</td>\n",
       "    </tr>\n",
       "    <tr>\n",
       "      <th>805</th>\n",
       "      <td>hudson ewald dressing forcep additional inform...</td>\n",
       "      <td>ALMA10-224</td>\n",
       "      <td>27.90</td>\n",
       "      <td>26</td>\n",
       "      <td>41.717791</td>\n",
       "    </tr>\n",
       "    <tr>\n",
       "      <th>2919</th>\n",
       "      <td>monoject veterinary needle special bevel grind...</td>\n",
       "      <td>Z8881251725</td>\n",
       "      <td>21.02</td>\n",
       "      <td>85</td>\n",
       "      <td>42.687747</td>\n",
       "    </tr>\n",
       "    <tr>\n",
       "      <th>2865</th>\n",
       "      <td>insupen insulin pen needle reusable</td>\n",
       "      <td>DRX22990</td>\n",
       "      <td>36.13</td>\n",
       "      <td>26</td>\n",
       "      <td>40.000000</td>\n",
       "    </tr>\n",
       "    <tr>\n",
       "      <th>3708</th>\n",
       "      <td>himalayan bee propolis bee propolis potent ant...</td>\n",
       "      <td>275983</td>\n",
       "      <td>0.00</td>\n",
       "      <td>6</td>\n",
       "      <td>42.562929</td>\n",
       "    </tr>\n",
       "    <tr>\n",
       "      <th>2946</th>\n",
       "      <td>mcgivney ligator ring latex</td>\n",
       "      <td>ALMA39-286</td>\n",
       "      <td>66.92</td>\n",
       "      <td>26</td>\n",
       "      <td>31.775701</td>\n",
       "    </tr>\n",
       "    <tr>\n",
       "      <th>2307</th>\n",
       "      <td>allevyn ag absorbent dressing non adhesive</td>\n",
       "      <td>allevyn-ag-absorbent-dressing</td>\n",
       "      <td>89.64</td>\n",
       "      <td>224</td>\n",
       "      <td>36.000000</td>\n",
       "    </tr>\n",
       "    <tr>\n",
       "      <th>1818</th>\n",
       "      <td>professional stethoscope pediatric l28 acousti...</td>\n",
       "      <td>professional-stethoscope-pediatric-l28</td>\n",
       "      <td>233.19</td>\n",
       "      <td>79</td>\n",
       "      <td>40.000000</td>\n",
       "    </tr>\n",
       "    <tr>\n",
       "      <th>1744</th>\n",
       "      <td>pca calibrated oem warranty two year</td>\n",
       "      <td>WA-21327-1000</td>\n",
       "      <td>752.49</td>\n",
       "      <td>224</td>\n",
       "      <td>34.042553</td>\n",
       "    </tr>\n",
       "  </tbody>\n",
       "</table>\n",
       "</div>"
      ],
      "text/plain": [
       "                                      combine_name_desc  \\\n",
       "273   emergency crash cart 3 pull tub healthcare gra...   \n",
       "1976  flexiport blood pressure cuff soft one tube tr...   \n",
       "805   hudson ewald dressing forcep additional inform...   \n",
       "2919  monoject veterinary needle special bevel grind...   \n",
       "2865                insupen insulin pen needle reusable   \n",
       "3708  himalayan bee propolis bee propolis potent ant...   \n",
       "2946                        mcgivney ligator ring latex   \n",
       "2307         allevyn ag absorbent dressing non adhesive   \n",
       "1818  professional stethoscope pediatric l28 acousti...   \n",
       "1744               pca calibrated oem warranty two year   \n",
       "\n",
       "                                                    sku   price  \\\n",
       "273                                           1010-3TWN  706.64   \n",
       "1976  flexiport-blood-pressure-cuff-soft-one-tube-wi...  173.32   \n",
       "805                                          ALMA10-224   27.90   \n",
       "2919                                        Z8881251725   21.02   \n",
       "2865                                           DRX22990   36.13   \n",
       "3708                                             275983    0.00   \n",
       "2946                                         ALMA39-286   66.92   \n",
       "2307                      allevyn-ag-absorbent-dressing   89.64   \n",
       "1818             professional-stethoscope-pediatric-l28  233.19   \n",
       "1744                                      WA-21327-1000  752.49   \n",
       "\n",
       "      matched_id_of_C6  similarity_score  \n",
       "273                312         43.347051  \n",
       "1976                64         41.967213  \n",
       "805                 26         41.717791  \n",
       "2919                85         42.687747  \n",
       "2865                26         40.000000  \n",
       "3708                 6         42.562929  \n",
       "2946                26         31.775701  \n",
       "2307               224         36.000000  \n",
       "1818                79         40.000000  \n",
       "1744               224         34.042553  "
      ]
     },
     "execution_count": 47,
     "metadata": {},
     "output_type": "execute_result"
    }
   ],
   "source": [
    "df_experiment_lavenshtein.head(10)"
   ]
  },
  {
   "cell_type": "code",
   "execution_count": 48,
   "metadata": {
    "ExecuteTime": {
     "end_time": "2024-03-27T22:46:49.142493Z",
     "start_time": "2024-03-27T22:46:49.139689Z"
    },
    "colab": {
     "base_uri": "https://localhost:8080/"
    },
    "id": "4gyki311Xsd1",
    "outputId": "10a54f26-a6df-4961-8980-c67b86417af7"
   },
   "outputs": [
    {
     "name": "stdout",
     "output_type": "stream",
     "text": [
      "Series([], Name: combine_name_desc, dtype: object)\n"
     ]
    }
   ],
   "source": [
    "filtered_df = df_experiment_lavenshtein[df_experiment_lavenshtein['sku'] == '1041']\n",
    "combine_name_desc_column = filtered_df['combine_name_desc']\n",
    "\n",
    "# Print the \"combine_name_desc\" column\n",
    "print(combine_name_desc_column)"
   ]
  },
  {
   "cell_type": "code",
   "execution_count": 49,
   "metadata": {
    "ExecuteTime": {
     "end_time": "2024-03-27T22:46:49.152602Z",
     "start_time": "2024-03-27T22:46:49.143759Z"
    },
    "colab": {
     "base_uri": "https://localhost:8080/",
     "height": 53
    },
    "id": "NN5V5pDIZfA1",
    "outputId": "581c3d3a-658a-4304-91ad-b16fa7954164"
   },
   "outputs": [
    {
     "data": {
      "text/plain": [
       "'26g x 3 8 sol hypodermic needle 100 per box sol extra needle sharpness minimizes patient discomfort translucent hubs ease flashback confirmation special needle lubrication improves injection comfort quantity 100 per box'"
      ]
     },
     "execution_count": 49,
     "metadata": {},
     "output_type": "execute_result"
    }
   ],
   "source": [
    "row_77 = c6_data_lavenshtein.iloc[77]['combine_name_desc']\n",
    "row_77"
   ]
  },
  {
   "cell_type": "code",
   "execution_count": 50,
   "metadata": {
    "colab": {
     "base_uri": "https://localhost:8080/"
    },
    "id": "SWf7DRqpM4ab",
    "outputId": "969488df-b71b-4433-c3e8-942f95af246b"
   },
   "outputs": [
    {
     "name": "stdout",
     "output_type": "stream",
     "text": [
      "Collecting datasketch\n",
      "  Downloading datasketch-1.6.4-py3-none-any.whl.metadata (5.8 kB)\n",
      "Requirement already satisfied: numpy>=1.11 in /opt/anaconda3/lib/python3.11/site-packages (from datasketch) (1.26.4)\n",
      "Requirement already satisfied: scipy>=1.0.0 in /opt/anaconda3/lib/python3.11/site-packages (from datasketch) (1.11.4)\n",
      "Downloading datasketch-1.6.4-py3-none-any.whl (88 kB)\n",
      "\u001b[2K   \u001b[90m━━━━━━━━━━━━━━━━━━━━━━━━━━━━━━━━━━━━━━━━\u001b[0m \u001b[32m88.3/88.3 kB\u001b[0m \u001b[31m2.4 MB/s\u001b[0m eta \u001b[36m0:00:00\u001b[0m\n",
      "\u001b[?25hInstalling collected packages: datasketch\n",
      "Successfully installed datasketch-1.6.4\n"
     ]
    }
   ],
   "source": [
    "!pip install datasketch"
   ]
  },
  {
   "cell_type": "code",
   "execution_count": 51,
   "metadata": {
    "colab": {
     "base_uri": "https://localhost:8080/"
    },
    "id": "lP5IbAnOJ5Mz",
    "outputId": "04790d03-8e80-4af5-fb2c-3268037f701e"
   },
   "outputs": [
    {
     "name": "stdout",
     "output_type": "stream",
     "text": [
      "Elapsed time with minHashing: 0.0774 seconds\n"
     ]
    }
   ],
   "source": [
    "from datasketch import MinHash, MinHashLSH\n",
    "\n",
    "c6_data_minHash = c6_data.sample(n=100, random_state=42)\n",
    "df_experiment_minHash = df_experiment.sample(n=150, random_state=42)\n",
    "\n",
    "\n",
    "# Tokenize descriptions and generate MinHash signatures\n",
    "minhashes = []\n",
    "\n",
    "for desc in c6_data_minHash['combine_name_desc']:\n",
    "    tokens = set(desc.lower().split())  # Tokenization\n",
    "    m = MinHash(num_perm=128)  # Number of hash functions (permutations)\n",
    "    for token in tokens:\n",
    "        m.update(token.encode('utf-8'))  # Update MinHash with each token\n",
    "    minhashes.append(m)\n",
    "\n",
    "# Create an LSH index\n",
    "lsh = MinHashLSH(threshold=0.2, num_perm=128)  # Threshold for Jaccard similarity\n",
    "\n",
    "# Index MinHash signatures\n",
    "for i, minhash in enumerate(minhashes):\n",
    "    lsh.insert(str(i), minhash)\n",
    "\n",
    "\n",
    "# Start time\n",
    "start_time = time.time()\n",
    "\n",
    "\n",
    "# Match descriptions in df_experiment_minHash\n",
    "matched_ids = []\n",
    "similarity_scores = []\n",
    "for desc in df_experiment_minHash['combine_name_desc']:\n",
    "    tokens = set(desc.lower().split())  # Tokenization\n",
    "    query_m = MinHash(num_perm=128)\n",
    "    for token in tokens:\n",
    "        query_m.update(token.encode('utf-8'))\n",
    "\n",
    "    # Query LSH for candidate matches\n",
    "    candidate_matches = lsh.query(query_m)\n",
    "\n",
    "    # Calculate Jaccard similarity for each candidate match\n",
    "    jaccard_similarities = []\n",
    "    for candidate_id in candidate_matches:\n",
    "        jaccard_similarities.append((candidate_id, minhashes[int(candidate_id)].jaccard(query_m)))\n",
    "\n",
    "    # Choose the match with the highest Jaccard similarity\n",
    "    if jaccard_similarities:\n",
    "        best_match_id, best_similarity = max(jaccard_similarities, key=lambda x: x[1])\n",
    "        most_similar_id = c6_data_minHash.iloc[int(best_match_id)]['id']\n",
    "        matched_ids.append(most_similar_id)\n",
    "        similarity_scores.append(best_similarity)\n",
    "    else:\n",
    "        matched_ids.append(None)\n",
    "        similarity_scores.append(0.0)  # No match found\n",
    "\n",
    "# Adding matched id and similarity scores to df_experiment_minHash\n",
    "df_experiment_minHash['matched_id_of_C6'] = matched_ids\n",
    "df_experiment_minHash['similarity_score'] = similarity_scores\n",
    "\n",
    "\n",
    "# End time\n",
    "end_time = time.time()\n",
    "# Calculate elapsed time\n",
    "elapsed_time = end_time - start_time\n",
    "# Print the elapsed time\n",
    "print(\"Elapsed time with minHashing: {:.4f} seconds\".format(elapsed_time))"
   ]
  },
  {
   "cell_type": "code",
   "execution_count": 52,
   "metadata": {
    "colab": {
     "base_uri": "https://localhost:8080/",
     "height": 363
    },
    "id": "ugzrGF-6J3Es",
    "outputId": "d568896a-c6ce-44a3-ed97-e6fbab81ab8e"
   },
   "outputs": [
    {
     "data": {
      "text/html": [
       "<div>\n",
       "<style scoped>\n",
       "    .dataframe tbody tr th:only-of-type {\n",
       "        vertical-align: middle;\n",
       "    }\n",
       "\n",
       "    .dataframe tbody tr th {\n",
       "        vertical-align: top;\n",
       "    }\n",
       "\n",
       "    .dataframe thead th {\n",
       "        text-align: right;\n",
       "    }\n",
       "</style>\n",
       "<table border=\"1\" class=\"dataframe\">\n",
       "  <thead>\n",
       "    <tr style=\"text-align: right;\">\n",
       "      <th></th>\n",
       "      <th>combine_name_desc</th>\n",
       "      <th>sku</th>\n",
       "      <th>price</th>\n",
       "      <th>matched_id_of_C6</th>\n",
       "      <th>similarity_score</th>\n",
       "    </tr>\n",
       "  </thead>\n",
       "  <tbody>\n",
       "    <tr>\n",
       "      <th>273</th>\n",
       "      <td>emergency crash cart 3 pull tub healthcare gra...</td>\n",
       "      <td>1010-3TWN</td>\n",
       "      <td>706.64</td>\n",
       "      <td>310.0</td>\n",
       "      <td>0.062500</td>\n",
       "    </tr>\n",
       "    <tr>\n",
       "      <th>1976</th>\n",
       "      <td>flexiport blood pressure cuff soft one tube tr...</td>\n",
       "      <td>flexiport-blood-pressure-cuff-soft-one-tube-wi...</td>\n",
       "      <td>173.32</td>\n",
       "      <td>318.0</td>\n",
       "      <td>0.070312</td>\n",
       "    </tr>\n",
       "    <tr>\n",
       "      <th>805</th>\n",
       "      <td>hudson ewald dressing forcep additional inform...</td>\n",
       "      <td>ALMA10-224</td>\n",
       "      <td>27.90</td>\n",
       "      <td>26.0</td>\n",
       "      <td>0.046875</td>\n",
       "    </tr>\n",
       "    <tr>\n",
       "      <th>2919</th>\n",
       "      <td>monoject veterinary needle special bevel grind...</td>\n",
       "      <td>Z8881251725</td>\n",
       "      <td>21.02</td>\n",
       "      <td>NaN</td>\n",
       "      <td>0.000000</td>\n",
       "    </tr>\n",
       "    <tr>\n",
       "      <th>2865</th>\n",
       "      <td>insupen insulin pen needle reusable</td>\n",
       "      <td>DRX22990</td>\n",
       "      <td>36.13</td>\n",
       "      <td>NaN</td>\n",
       "      <td>0.000000</td>\n",
       "    </tr>\n",
       "    <tr>\n",
       "      <th>3708</th>\n",
       "      <td>himalayan bee propolis bee propolis potent ant...</td>\n",
       "      <td>275983</td>\n",
       "      <td>0.00</td>\n",
       "      <td>NaN</td>\n",
       "      <td>0.000000</td>\n",
       "    </tr>\n",
       "    <tr>\n",
       "      <th>2946</th>\n",
       "      <td>mcgivney ligator ring latex</td>\n",
       "      <td>ALMA39-286</td>\n",
       "      <td>66.92</td>\n",
       "      <td>NaN</td>\n",
       "      <td>0.000000</td>\n",
       "    </tr>\n",
       "    <tr>\n",
       "      <th>2307</th>\n",
       "      <td>allevyn ag absorbent dressing non adhesive</td>\n",
       "      <td>allevyn-ag-absorbent-dressing</td>\n",
       "      <td>89.64</td>\n",
       "      <td>224.0</td>\n",
       "      <td>0.093750</td>\n",
       "    </tr>\n",
       "    <tr>\n",
       "      <th>1818</th>\n",
       "      <td>professional stethoscope pediatric l28 acousti...</td>\n",
       "      <td>professional-stethoscope-pediatric-l28</td>\n",
       "      <td>233.19</td>\n",
       "      <td>NaN</td>\n",
       "      <td>0.000000</td>\n",
       "    </tr>\n",
       "    <tr>\n",
       "      <th>1744</th>\n",
       "      <td>pca calibrated oem warranty two year</td>\n",
       "      <td>WA-21327-1000</td>\n",
       "      <td>752.49</td>\n",
       "      <td>NaN</td>\n",
       "      <td>0.000000</td>\n",
       "    </tr>\n",
       "  </tbody>\n",
       "</table>\n",
       "</div>"
      ],
      "text/plain": [
       "                                      combine_name_desc  \\\n",
       "273   emergency crash cart 3 pull tub healthcare gra...   \n",
       "1976  flexiport blood pressure cuff soft one tube tr...   \n",
       "805   hudson ewald dressing forcep additional inform...   \n",
       "2919  monoject veterinary needle special bevel grind...   \n",
       "2865                insupen insulin pen needle reusable   \n",
       "3708  himalayan bee propolis bee propolis potent ant...   \n",
       "2946                        mcgivney ligator ring latex   \n",
       "2307         allevyn ag absorbent dressing non adhesive   \n",
       "1818  professional stethoscope pediatric l28 acousti...   \n",
       "1744               pca calibrated oem warranty two year   \n",
       "\n",
       "                                                    sku   price  \\\n",
       "273                                           1010-3TWN  706.64   \n",
       "1976  flexiport-blood-pressure-cuff-soft-one-tube-wi...  173.32   \n",
       "805                                          ALMA10-224   27.90   \n",
       "2919                                        Z8881251725   21.02   \n",
       "2865                                           DRX22990   36.13   \n",
       "3708                                             275983    0.00   \n",
       "2946                                         ALMA39-286   66.92   \n",
       "2307                      allevyn-ag-absorbent-dressing   89.64   \n",
       "1818             professional-stethoscope-pediatric-l28  233.19   \n",
       "1744                                      WA-21327-1000  752.49   \n",
       "\n",
       "      matched_id_of_C6  similarity_score  \n",
       "273              310.0          0.062500  \n",
       "1976             318.0          0.070312  \n",
       "805               26.0          0.046875  \n",
       "2919               NaN          0.000000  \n",
       "2865               NaN          0.000000  \n",
       "3708               NaN          0.000000  \n",
       "2946               NaN          0.000000  \n",
       "2307             224.0          0.093750  \n",
       "1818               NaN          0.000000  \n",
       "1744               NaN          0.000000  "
      ]
     },
     "execution_count": 52,
     "metadata": {},
     "output_type": "execute_result"
    }
   ],
   "source": [
    "df_experiment_minHash.head(10)"
   ]
  },
  {
   "cell_type": "markdown",
   "metadata": {
    "id": "INVyVZr_dO6m"
   },
   "source": [
    "**Experiment with spacy**"
   ]
  },
  {
   "cell_type": "code",
   "execution_count": 55,
   "metadata": {
    "ExecuteTime": {
     "end_time": "2024-03-27T22:47:33.433375Z",
     "start_time": "2024-03-27T22:46:49.148061Z"
    },
    "colab": {
     "base_uri": "https://localhost:8080/"
    },
    "id": "XaKiE89Edv53",
    "outputId": "03aef327-e7a8-45fd-d2d8-9d462b3680bb"
   },
   "outputs": [
    {
     "name": "stdout",
     "output_type": "stream",
     "text": [
      "Collecting en-core-web-md==3.7.1\n",
      "  Downloading https://github.com/explosion/spacy-models/releases/download/en_core_web_md-3.7.1/en_core_web_md-3.7.1-py3-none-any.whl (42.8 MB)\n",
      "\u001b[2K     \u001b[90m━━━━━━━━━━━━━━━━━━━━━━━━━━━━━━━━━━━━━━━━\u001b[0m \u001b[32m42.8/42.8 MB\u001b[0m \u001b[31m11.6 MB/s\u001b[0m eta \u001b[36m0:00:00\u001b[0m00:01\u001b[0m00:01\u001b[0m\n",
      "\u001b[?25hRequirement already satisfied: spacy<3.8.0,>=3.7.2 in /opt/anaconda3/lib/python3.11/site-packages (from en-core-web-md==3.7.1) (3.7.4)\n",
      "Requirement already satisfied: spacy-legacy<3.1.0,>=3.0.11 in /opt/anaconda3/lib/python3.11/site-packages (from spacy<3.8.0,>=3.7.2->en-core-web-md==3.7.1) (3.0.12)\n",
      "Requirement already satisfied: spacy-loggers<2.0.0,>=1.0.0 in /opt/anaconda3/lib/python3.11/site-packages (from spacy<3.8.0,>=3.7.2->en-core-web-md==3.7.1) (1.0.5)\n",
      "Requirement already satisfied: murmurhash<1.1.0,>=0.28.0 in /opt/anaconda3/lib/python3.11/site-packages (from spacy<3.8.0,>=3.7.2->en-core-web-md==3.7.1) (1.0.10)\n",
      "Requirement already satisfied: cymem<2.1.0,>=2.0.2 in /opt/anaconda3/lib/python3.11/site-packages (from spacy<3.8.0,>=3.7.2->en-core-web-md==3.7.1) (2.0.8)\n",
      "Requirement already satisfied: preshed<3.1.0,>=3.0.2 in /opt/anaconda3/lib/python3.11/site-packages (from spacy<3.8.0,>=3.7.2->en-core-web-md==3.7.1) (3.0.9)\n",
      "Requirement already satisfied: thinc<8.3.0,>=8.2.2 in /opt/anaconda3/lib/python3.11/site-packages (from spacy<3.8.0,>=3.7.2->en-core-web-md==3.7.1) (8.2.3)\n",
      "Requirement already satisfied: wasabi<1.2.0,>=0.9.1 in /opt/anaconda3/lib/python3.11/site-packages (from spacy<3.8.0,>=3.7.2->en-core-web-md==3.7.1) (1.1.2)\n",
      "Requirement already satisfied: srsly<3.0.0,>=2.4.3 in /opt/anaconda3/lib/python3.11/site-packages (from spacy<3.8.0,>=3.7.2->en-core-web-md==3.7.1) (2.4.8)\n",
      "Requirement already satisfied: catalogue<2.1.0,>=2.0.6 in /opt/anaconda3/lib/python3.11/site-packages (from spacy<3.8.0,>=3.7.2->en-core-web-md==3.7.1) (2.0.10)\n",
      "Requirement already satisfied: weasel<0.4.0,>=0.1.0 in /opt/anaconda3/lib/python3.11/site-packages (from spacy<3.8.0,>=3.7.2->en-core-web-md==3.7.1) (0.3.4)\n",
      "Requirement already satisfied: typer<0.10.0,>=0.3.0 in /opt/anaconda3/lib/python3.11/site-packages (from spacy<3.8.0,>=3.7.2->en-core-web-md==3.7.1) (0.9.4)\n",
      "Requirement already satisfied: smart-open<7.0.0,>=5.2.1 in /opt/anaconda3/lib/python3.11/site-packages (from spacy<3.8.0,>=3.7.2->en-core-web-md==3.7.1) (5.2.1)\n",
      "Requirement already satisfied: tqdm<5.0.0,>=4.38.0 in /opt/anaconda3/lib/python3.11/site-packages (from spacy<3.8.0,>=3.7.2->en-core-web-md==3.7.1) (4.65.0)\n",
      "Requirement already satisfied: requests<3.0.0,>=2.13.0 in /opt/anaconda3/lib/python3.11/site-packages (from spacy<3.8.0,>=3.7.2->en-core-web-md==3.7.1) (2.31.0)\n",
      "Requirement already satisfied: pydantic!=1.8,!=1.8.1,<3.0.0,>=1.7.4 in /opt/anaconda3/lib/python3.11/site-packages (from spacy<3.8.0,>=3.7.2->en-core-web-md==3.7.1) (1.10.12)\n",
      "Requirement already satisfied: jinja2 in /opt/anaconda3/lib/python3.11/site-packages (from spacy<3.8.0,>=3.7.2->en-core-web-md==3.7.1) (3.1.3)\n",
      "Requirement already satisfied: setuptools in /opt/anaconda3/lib/python3.11/site-packages (from spacy<3.8.0,>=3.7.2->en-core-web-md==3.7.1) (68.2.2)\n",
      "Requirement already satisfied: packaging>=20.0 in /opt/anaconda3/lib/python3.11/site-packages (from spacy<3.8.0,>=3.7.2->en-core-web-md==3.7.1) (23.1)\n",
      "Requirement already satisfied: langcodes<4.0.0,>=3.2.0 in /opt/anaconda3/lib/python3.11/site-packages (from spacy<3.8.0,>=3.7.2->en-core-web-md==3.7.1) (3.3.0)\n",
      "Requirement already satisfied: numpy>=1.19.0 in /opt/anaconda3/lib/python3.11/site-packages (from spacy<3.8.0,>=3.7.2->en-core-web-md==3.7.1) (1.26.4)\n",
      "Requirement already satisfied: typing-extensions>=4.2.0 in /opt/anaconda3/lib/python3.11/site-packages (from pydantic!=1.8,!=1.8.1,<3.0.0,>=1.7.4->spacy<3.8.0,>=3.7.2->en-core-web-md==3.7.1) (4.9.0)\n",
      "Requirement already satisfied: charset-normalizer<4,>=2 in /opt/anaconda3/lib/python3.11/site-packages (from requests<3.0.0,>=2.13.0->spacy<3.8.0,>=3.7.2->en-core-web-md==3.7.1) (2.0.4)\n",
      "Requirement already satisfied: idna<4,>=2.5 in /opt/anaconda3/lib/python3.11/site-packages (from requests<3.0.0,>=2.13.0->spacy<3.8.0,>=3.7.2->en-core-web-md==3.7.1) (3.4)\n",
      "Requirement already satisfied: urllib3<3,>=1.21.1 in /opt/anaconda3/lib/python3.11/site-packages (from requests<3.0.0,>=2.13.0->spacy<3.8.0,>=3.7.2->en-core-web-md==3.7.1) (2.0.7)\n",
      "Requirement already satisfied: certifi>=2017.4.17 in /opt/anaconda3/lib/python3.11/site-packages (from requests<3.0.0,>=2.13.0->spacy<3.8.0,>=3.7.2->en-core-web-md==3.7.1) (2024.2.2)\n",
      "Requirement already satisfied: blis<0.8.0,>=0.7.8 in /opt/anaconda3/lib/python3.11/site-packages (from thinc<8.3.0,>=8.2.2->spacy<3.8.0,>=3.7.2->en-core-web-md==3.7.1) (0.7.11)\n",
      "Requirement already satisfied: confection<1.0.0,>=0.0.1 in /opt/anaconda3/lib/python3.11/site-packages (from thinc<8.3.0,>=8.2.2->spacy<3.8.0,>=3.7.2->en-core-web-md==3.7.1) (0.1.4)\n",
      "Requirement already satisfied: click<9.0.0,>=7.1.1 in /opt/anaconda3/lib/python3.11/site-packages (from typer<0.10.0,>=0.3.0->spacy<3.8.0,>=3.7.2->en-core-web-md==3.7.1) (8.1.7)\n",
      "Requirement already satisfied: cloudpathlib<0.17.0,>=0.7.0 in /opt/anaconda3/lib/python3.11/site-packages (from weasel<0.4.0,>=0.1.0->spacy<3.8.0,>=3.7.2->en-core-web-md==3.7.1) (0.16.0)\n",
      "Requirement already satisfied: MarkupSafe>=2.0 in /opt/anaconda3/lib/python3.11/site-packages (from jinja2->spacy<3.8.0,>=3.7.2->en-core-web-md==3.7.1) (2.1.3)\n",
      "Installing collected packages: en-core-web-md\n",
      "Successfully installed en-core-web-md-3.7.1\n",
      "\u001b[38;5;2m✔ Download and installation successful\u001b[0m\n",
      "You can now load the package via spacy.load('en_core_web_md')\n"
     ]
    }
   ],
   "source": [
    "!python -m spacy download en_core_web_md"
   ]
  },
  {
   "cell_type": "code",
   "execution_count": 56,
   "metadata": {
    "ExecuteTime": {
     "end_time": "2024-03-27T22:57:07.729760Z",
     "start_time": "2024-03-27T22:47:33.438695Z"
    },
    "colab": {
     "base_uri": "https://localhost:8080/"
    },
    "id": "YAD_0up-dNGB",
    "outputId": "4f21ce1a-9505-4309-c45b-7fe10b535fa5"
   },
   "outputs": [
    {
     "name": "stdout",
     "output_type": "stream",
     "text": [
      "Elapsed time with spacy: 329.7199 seconds\n"
     ]
    }
   ],
   "source": [
    "import spacy\n",
    "\n",
    "# Load a pre-trained spaCy model\n",
    "nlp = spacy.load(\"en_core_web_md\")\n",
    "# Assuming df1 and df2 are your datasets and 'clean_combine_name_desc' columns are preprocessed strings\n",
    "c6_data_spacy_me = c6_data.sample(n=300, random_state=42)\n",
    "df_experiment_spacy_me = df_experiment.sample(n=150, random_state=42)\n",
    "\n",
    "\n",
    "# Start time\n",
    "start_time = time.time()\n",
    "\n",
    "\n",
    "# Initialize lists to store matched indices and similarity scores\n",
    "matched_indices = []\n",
    "similarities = []\n",
    "\n",
    "# Compute similarity between each pair of documents\n",
    "for index, doc1 in enumerate(nlp.pipe(df_experiment_spacy_me['combine_name_desc'], disable=[\"tagger\", \"parser\"])):\n",
    "    similarity_scores = [doc1.similarity(doc2) for doc2 in nlp.pipe(c6_data_spacy_me['combine_name_desc'], disable=[\"tagger\", \"parser\"])]\n",
    "    max_similarity_index = similarity_scores.index(max(similarity_scores))\n",
    "    max_similarity = max(similarity_scores)\n",
    "\n",
    "    # Append matched index and similarity score to lists\n",
    "    matched_indices.append(max_similarity_index)\n",
    "    similarities.append(max_similarity)\n",
    "\n",
    "# Add matched indices and similarity scores to df_experiment_spacy\n",
    "df_experiment_spacy_me['matched_index_of_c6'] = matched_indices\n",
    "df_experiment_spacy_me['max_similarity_score'] = similarities\n",
    "\n",
    "\n",
    "# End time\n",
    "end_time = time.time()\n",
    "# Calculate elapsed time\n",
    "elapsed_time = end_time - start_time\n",
    "# Print the elapsed time\n",
    "print(\"Elapsed time with spacy: {:.4f} seconds\".format(elapsed_time))"
   ]
  },
  {
   "cell_type": "code",
   "execution_count": 57,
   "metadata": {
    "ExecuteTime": {
     "end_time": "2024-03-27T22:57:07.778856Z",
     "start_time": "2024-03-27T22:57:07.726470Z"
    },
    "colab": {
     "base_uri": "https://localhost:8080/",
     "height": 424
    },
    "id": "TIzSgy7Ve50t",
    "outputId": "44f031af-0472-4441-f655-6cd0d3669b39",
    "scrolled": true
   },
   "outputs": [
    {
     "data": {
      "text/html": [
       "<div>\n",
       "<style scoped>\n",
       "    .dataframe tbody tr th:only-of-type {\n",
       "        vertical-align: middle;\n",
       "    }\n",
       "\n",
       "    .dataframe tbody tr th {\n",
       "        vertical-align: top;\n",
       "    }\n",
       "\n",
       "    .dataframe thead th {\n",
       "        text-align: right;\n",
       "    }\n",
       "</style>\n",
       "<table border=\"1\" class=\"dataframe\">\n",
       "  <thead>\n",
       "    <tr style=\"text-align: right;\">\n",
       "      <th></th>\n",
       "      <th>combine_name_desc</th>\n",
       "      <th>sku</th>\n",
       "      <th>price</th>\n",
       "      <th>matched_index_of_c6</th>\n",
       "      <th>max_similarity_score</th>\n",
       "    </tr>\n",
       "  </thead>\n",
       "  <tbody>\n",
       "    <tr>\n",
       "      <th>273</th>\n",
       "      <td>emergency crash cart 3 pull tub healthcare gra...</td>\n",
       "      <td>1010-3TWN</td>\n",
       "      <td>706.64</td>\n",
       "      <td>165</td>\n",
       "      <td>0.912633</td>\n",
       "    </tr>\n",
       "    <tr>\n",
       "      <th>1976</th>\n",
       "      <td>flexiport blood pressure cuff soft one tube tr...</td>\n",
       "      <td>flexiport-blood-pressure-cuff-soft-one-tube-wi...</td>\n",
       "      <td>173.32</td>\n",
       "      <td>253</td>\n",
       "      <td>0.892424</td>\n",
       "    </tr>\n",
       "    <tr>\n",
       "      <th>805</th>\n",
       "      <td>hudson ewald dressing forcep additional inform...</td>\n",
       "      <td>ALMA10-224</td>\n",
       "      <td>27.90</td>\n",
       "      <td>36</td>\n",
       "      <td>0.887763</td>\n",
       "    </tr>\n",
       "    <tr>\n",
       "      <th>2919</th>\n",
       "      <td>monoject veterinary needle special bevel grind...</td>\n",
       "      <td>Z8881251725</td>\n",
       "      <td>21.02</td>\n",
       "      <td>253</td>\n",
       "      <td>0.847171</td>\n",
       "    </tr>\n",
       "    <tr>\n",
       "      <th>2865</th>\n",
       "      <td>insupen insulin pen needle reusable</td>\n",
       "      <td>DRX22990</td>\n",
       "      <td>36.13</td>\n",
       "      <td>79</td>\n",
       "      <td>0.747485</td>\n",
       "    </tr>\n",
       "    <tr>\n",
       "      <th>...</th>\n",
       "      <td>...</td>\n",
       "      <td>...</td>\n",
       "      <td>...</td>\n",
       "      <td>...</td>\n",
       "      <td>...</td>\n",
       "    </tr>\n",
       "    <tr>\n",
       "      <th>2603</th>\n",
       "      <td>jelco intravenous catheter radiopaque</td>\n",
       "      <td>jelco-intravenous-catheter</td>\n",
       "      <td>95.84</td>\n",
       "      <td>166</td>\n",
       "      <td>0.745724</td>\n",
       "    </tr>\n",
       "    <tr>\n",
       "      <th>3135</th>\n",
       "      <td>medical label storage quality control permanen...</td>\n",
       "      <td>medical-label-storage-and-quality-control</td>\n",
       "      <td>37.65</td>\n",
       "      <td>41</td>\n",
       "      <td>0.851859</td>\n",
       "    </tr>\n",
       "    <tr>\n",
       "      <th>96</th>\n",
       "      <td>cardinal detecto 6800 1013 replacement 6v ac a...</td>\n",
       "      <td>6800-1013</td>\n",
       "      <td>152.16</td>\n",
       "      <td>98</td>\n",
       "      <td>0.897728</td>\n",
       "    </tr>\n",
       "    <tr>\n",
       "      <th>1513</th>\n",
       "      <td>welch allyn green series 777 integrated wall d...</td>\n",
       "      <td>WA-77791-2MPXP</td>\n",
       "      <td>1987.45</td>\n",
       "      <td>135</td>\n",
       "      <td>0.843828</td>\n",
       "    </tr>\n",
       "    <tr>\n",
       "      <th>369</th>\n",
       "      <td>wire cutter scissors precision tip small l120m...</td>\n",
       "      <td>BSN7293400</td>\n",
       "      <td>344.27</td>\n",
       "      <td>122</td>\n",
       "      <td>0.881564</td>\n",
       "    </tr>\n",
       "  </tbody>\n",
       "</table>\n",
       "<p>150 rows × 5 columns</p>\n",
       "</div>"
      ],
      "text/plain": [
       "                                      combine_name_desc  \\\n",
       "273   emergency crash cart 3 pull tub healthcare gra...   \n",
       "1976  flexiport blood pressure cuff soft one tube tr...   \n",
       "805   hudson ewald dressing forcep additional inform...   \n",
       "2919  monoject veterinary needle special bevel grind...   \n",
       "2865                insupen insulin pen needle reusable   \n",
       "...                                                 ...   \n",
       "2603              jelco intravenous catheter radiopaque   \n",
       "3135  medical label storage quality control permanen...   \n",
       "96    cardinal detecto 6800 1013 replacement 6v ac a...   \n",
       "1513  welch allyn green series 777 integrated wall d...   \n",
       "369   wire cutter scissors precision tip small l120m...   \n",
       "\n",
       "                                                    sku    price  \\\n",
       "273                                           1010-3TWN   706.64   \n",
       "1976  flexiport-blood-pressure-cuff-soft-one-tube-wi...   173.32   \n",
       "805                                          ALMA10-224    27.90   \n",
       "2919                                        Z8881251725    21.02   \n",
       "2865                                           DRX22990    36.13   \n",
       "...                                                 ...      ...   \n",
       "2603                         jelco-intravenous-catheter    95.84   \n",
       "3135          medical-label-storage-and-quality-control    37.65   \n",
       "96                                            6800-1013   152.16   \n",
       "1513                                     WA-77791-2MPXP  1987.45   \n",
       "369                                          BSN7293400   344.27   \n",
       "\n",
       "      matched_index_of_c6  max_similarity_score  \n",
       "273                   165              0.912633  \n",
       "1976                  253              0.892424  \n",
       "805                    36              0.887763  \n",
       "2919                  253              0.847171  \n",
       "2865                   79              0.747485  \n",
       "...                   ...                   ...  \n",
       "2603                  166              0.745724  \n",
       "3135                   41              0.851859  \n",
       "96                     98              0.897728  \n",
       "1513                  135              0.843828  \n",
       "369                   122              0.881564  \n",
       "\n",
       "[150 rows x 5 columns]"
      ]
     },
     "execution_count": 57,
     "metadata": {},
     "output_type": "execute_result"
    }
   ],
   "source": [
    "df_experiment_spacy_me"
   ]
  },
  {
   "cell_type": "code",
   "execution_count": null,
   "metadata": {},
   "outputs": [],
   "source": []
  },
  {
   "cell_type": "code",
   "execution_count": 84,
   "metadata": {},
   "outputs": [
    {
     "data": {
      "image/png": "[encoded data removed]",
      "text/plain": [
       "<Figure size 800x600 with 1 Axes>"
      ]
     },
     "metadata": {},
     "output_type": "display_data"
    }
   ],
   "source": [
    "#Store the mean similarity scores from different methods\n",
    "similarity_comparison = pd.DataFrame({\n",
    "    'Method': ['Levenshtein distance', 'MinHashing', 'Spacy'],\n",
    "    'Mean similarity score': [\n",
    "        df_experiment_lavenshtein['similarity_score'].mean(),\n",
    "        df_experiment_minHash['similarity_score'].mean(),\n",
    "        df_experiment_spacy_me['max_similarity_score'].mean()\n",
    "    ]\n",
    "})\n",
    "\n",
    "plt.figure(figsize = (8, 6))\n",
    "sns.barplot(x = 'Method', y = 'Mean similarity score', data = similarity_comparison)\n",
    "#annotate each bar with its mean similarity score\n",
    "for index, row in similarity_comparison.iterrows():\n",
    "    plt.text(index, row['Mean similarity score'] + 0.005, round(row['Mean similarity score'], 3), ha='center', fontsize=10)\n",
    "\n",
    "plt.title('Comparison of mean similarity scores by method', fontsize = 13)\n",
    "plt.xlabel('Method', fontsize = 10)\n",
    "plt.ylabel('Mean similarity score', fontsize = 10)\n",
    "plt.show()"
   ]
  },
  {
   "cell_type": "markdown",
   "metadata": {
    "id": "0LL-8LaMjgfg"
   },
   "source": [
    "# Evaluation & Inference"
   ]
  },
  {
   "cell_type": "code",
   "execution_count": null,
   "metadata": {
    "ExecuteTime": {
     "end_time": "2024-03-27T22:57:07.975624Z",
     "start_time": "2024-03-27T22:57:07.812644Z"
    },
    "id": "Wb0SXbVijnLE"
   },
   "outputs": [],
   "source": []
  },
  {
   "cell_type": "code",
   "execution_count": null,
   "metadata": {},
   "outputs": [],
   "source": [
    "\n"
   ]
  }
 ],
 "metadata": {
  "colab": {
   "provenance": []
  },
  "kernelspec": {
   "display_name": "Python 3 (ipykernel)",
   "language": "python",
   "name": "python3"
  },
  "language_info": {
   "codemirror_mode": {
    "name": "ipython",
    "version": 3
   },
   "file_extension": ".py",
   "mimetype": "text/x-python",
   "name": "python",
   "nbconvert_exporter": "python",
   "pygments_lexer": "ipython3",
   "version": "3.11.7"
  }
 },
 "nbformat": 4,
 "nbformat_minor": 4
}

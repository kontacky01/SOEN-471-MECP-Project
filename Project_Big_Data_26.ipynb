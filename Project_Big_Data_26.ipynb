{
 "nbformat": 4,
 "nbformat_minor": 0,
 "metadata": {
  "colab": {
   "provenance": []
  },
  "kernelspec": {
   "name": "python3",
   "language": "python",
   "display_name": "Python 3 (ipykernel)"
  },
  "language_info": {
   "name": "python"
  }
 },
 "cells": [
  {
   "cell_type": "markdown",
   "source": [
    "# AI PRODUCT & PRICE MATCHING\n",
    "\n",
    "**Contributors:** ***Peilin Han, Carmen Pop, Kalinga Swain, Natasha Uwase***\n",
    "\n",
    " This project focuses on resolving issues related to SKU analysis and product matching. We're working with datasets from MECP and three other competitors: C6, LifeSupply, and MedicalWarehouse. Each dataset contains product name/Title, SKUs, product descriptions, prices, permalink, created_at represented in string and float formats."
   ],
   "metadata": {
    "id": "8Gj3dwM39q8X"
   }
  },
  {
   "cell_type": "markdown",
   "source": [
    "# Data Preparation\n",
    "\n",
    "We'll start by first preparing our data by bringing it from source and splitting it into training, validation and test data splits.\n",
    "We'll load the data from a CSV file to a Pandas DataFrame using the read_csv function."
   ],
   "metadata": {
    "id": "G4MjYK3imAlK"
   }
  },
  {
   "cell_type": "code",
   "source": [
    "import pandas as pd"
   ],
   "metadata": {
    "id": "2N8QFESIm8Ck",
    "ExecuteTime": {
     "end_time": "2024-03-27T22:46:44.995055Z",
     "start_time": "2024-03-27T22:46:44.806929Z"
    }
   },
   "execution_count": 48,
   "outputs": []
  },
  {
   "cell_type": "code",
   "execution_count": 49,
   "metadata": {
    "id": "7WqLmkCd9XqX",
    "colab": {
     "base_uri": "https://localhost:8080/",
     "height": 206
    },
    "outputId": "e8c03c99-7ada-4bb6-ddae-94e5be9a99b6",
    "ExecuteTime": {
     "end_time": "2024-03-27T22:46:45.053072Z",
     "start_time": "2024-03-27T22:46:44.993335Z"
    }
   },
   "outputs": [
    {
     "data": {
      "text/plain": "   id                                               name  \\\n0   1                 Cordless Bed and Chair Sensor Pads   \n1   2                                 MedPro Rayon Balls   \n2   3                                 MedPro Rayon Balls   \n3   4              Clorox Bleach Germicidal Wipes Bucket   \n4   5  Clorox Healthcare Bleach Germicidal Wipes  Ter...   \n\n                                         description    sku   price  \\\n0  The Cordless Bed and Chair Sensor Pads provide...    NaN    0.00   \n1  MedPro Non-sterile rayon balls 50% rayon, 50% ...    NaN   35.53   \n2  MedPro Non-sterile rayon balls 50% rayon, 50% ...    NaN    0.00   \n3  Clorox Healthcare Bleach Germicidal Wipes: Rea...  55894  129.50   \n4                                                NaN    NaN    0.00   \n\n                                           permalink           created_at  \n0         https://mecp.ca/?post_type=product&p=60037  2024-03-13 22:29:39  \n1        https://mecp.ca/product/medpro-rayon-balls/  2024-03-13 22:29:39  \n2         https://mecp.ca/?post_type=product&p=60020  2024-03-13 22:29:39  \n3  https://mecp.ca/product/clorox-bleach-germicid...  2024-03-13 22:29:39  \n4         https://mecp.ca/?post_type=product&p=59985  2024-03-13 22:29:39  ",
      "text/html": "<div>\n<style scoped>\n    .dataframe tbody tr th:only-of-type {\n        vertical-align: middle;\n    }\n\n    .dataframe tbody tr th {\n        vertical-align: top;\n    }\n\n    .dataframe thead th {\n        text-align: right;\n    }\n</style>\n<table border=\"1\" class=\"dataframe\">\n  <thead>\n    <tr style=\"text-align: right;\">\n      <th></th>\n      <th>id</th>\n      <th>name</th>\n      <th>description</th>\n      <th>sku</th>\n      <th>price</th>\n      <th>permalink</th>\n      <th>created_at</th>\n    </tr>\n  </thead>\n  <tbody>\n    <tr>\n      <th>0</th>\n      <td>1</td>\n      <td>Cordless Bed and Chair Sensor Pads</td>\n      <td>The Cordless Bed and Chair Sensor Pads provide...</td>\n      <td>NaN</td>\n      <td>0.00</td>\n      <td>https://mecp.ca/?post_type=product&amp;p=60037</td>\n      <td>2024-03-13 22:29:39</td>\n    </tr>\n    <tr>\n      <th>1</th>\n      <td>2</td>\n      <td>MedPro Rayon Balls</td>\n      <td>MedPro Non-sterile rayon balls 50% rayon, 50% ...</td>\n      <td>NaN</td>\n      <td>35.53</td>\n      <td>https://mecp.ca/product/medpro-rayon-balls/</td>\n      <td>2024-03-13 22:29:39</td>\n    </tr>\n    <tr>\n      <th>2</th>\n      <td>3</td>\n      <td>MedPro Rayon Balls</td>\n      <td>MedPro Non-sterile rayon balls 50% rayon, 50% ...</td>\n      <td>NaN</td>\n      <td>0.00</td>\n      <td>https://mecp.ca/?post_type=product&amp;p=60020</td>\n      <td>2024-03-13 22:29:39</td>\n    </tr>\n    <tr>\n      <th>3</th>\n      <td>4</td>\n      <td>Clorox Bleach Germicidal Wipes Bucket</td>\n      <td>Clorox Healthcare Bleach Germicidal Wipes: Rea...</td>\n      <td>55894</td>\n      <td>129.50</td>\n      <td>https://mecp.ca/product/clorox-bleach-germicid...</td>\n      <td>2024-03-13 22:29:39</td>\n    </tr>\n    <tr>\n      <th>4</th>\n      <td>5</td>\n      <td>Clorox Healthcare Bleach Germicidal Wipes  Ter...</td>\n      <td>NaN</td>\n      <td>NaN</td>\n      <td>0.00</td>\n      <td>https://mecp.ca/?post_type=product&amp;p=59985</td>\n      <td>2024-03-13 22:29:39</td>\n    </tr>\n  </tbody>\n</table>\n</div>"
     },
     "execution_count": 49,
     "metadata": {},
     "output_type": "execute_result"
    }
   ],
   "source": [
    "# Data preparation & ingestion: MECP\n",
    "\n",
    "def data_read(a):\n",
    "  df = pd.read_csv(a)\n",
    "  return df\n",
    "\n",
    "df = data_read(\"./mecp_products.csv\")\n",
    "df.head()"
   ]
  },
  {
   "cell_type": "code",
   "source": [
    "# Data preparation & ingestion: C6\n",
    "c6_data = data_read(\"./c6_products.csv\")\n",
    "c6_data.head()"
   ],
   "metadata": {
    "colab": {
     "base_uri": "https://localhost:8080/",
     "height": 206
    },
    "id": "3iVRsZM9t9WF",
    "outputId": "b23fdf08-470b-4aeb-fc10-61eec71c565e",
    "ExecuteTime": {
     "end_time": "2024-03-27T22:46:45.075896Z",
     "start_time": "2024-03-27T22:46:45.044184Z"
    }
   },
   "execution_count": 50,
   "outputs": [
    {
     "data": {
      "text/plain": "   id                                               name  \\\n0   1       Cotton Balls | Economy | 0.22g | Bag of 2000   \n1   2           Lactated Ringer Subcutaneous Fluids, USP   \n2   3  Grafco® Unlabeled Flint Glass Sundry Jar | 7\" ...   \n3   4          Cotton Balls | High Density | Bag of 1000   \n4   5  Aerosol Kit with Mask, Nebulizer, & Tubing | 7...   \n\n                                         description       sku  price  \\\n0  KOSMA-KARE Cotton balls are ideal for applying...  KK-21176   9.99   \n1  B. Braun Lactated Ringer's Injection USP is st...  BB-L7501   7.99   \n2  graham field Grafco® Unlabeled Flint Glass Sun...   GF-3458  12.99   \n3  KOSMA-KARE Cotton balls are ideal for applying...  KK-21476  15.99   \n4  Glenwood Laboratories Canada Ltd Pediatric Aer...   GK-1807   9.99   \n\n                                           permalink           created_at  \n0  https://c6.ca/collections/patient-care/product...  2024-03-18 16:29:11  \n1  https://c6.ca/collections/patient-care/product...  2024-03-18 16:29:11  \n2  https://c6.ca/collections/patient-care/product...  2024-03-18 16:29:11  \n3  https://c6.ca/collections/patient-care/product...  2024-03-18 16:29:11  \n4  https://c6.ca/collections/patient-care/product...  2024-03-18 16:29:11  ",
      "text/html": "<div>\n<style scoped>\n    .dataframe tbody tr th:only-of-type {\n        vertical-align: middle;\n    }\n\n    .dataframe tbody tr th {\n        vertical-align: top;\n    }\n\n    .dataframe thead th {\n        text-align: right;\n    }\n</style>\n<table border=\"1\" class=\"dataframe\">\n  <thead>\n    <tr style=\"text-align: right;\">\n      <th></th>\n      <th>id</th>\n      <th>name</th>\n      <th>description</th>\n      <th>sku</th>\n      <th>price</th>\n      <th>permalink</th>\n      <th>created_at</th>\n    </tr>\n  </thead>\n  <tbody>\n    <tr>\n      <th>0</th>\n      <td>1</td>\n      <td>Cotton Balls | Economy | 0.22g | Bag of 2000</td>\n      <td>KOSMA-KARE Cotton balls are ideal for applying...</td>\n      <td>KK-21176</td>\n      <td>9.99</td>\n      <td>https://c6.ca/collections/patient-care/product...</td>\n      <td>2024-03-18 16:29:11</td>\n    </tr>\n    <tr>\n      <th>1</th>\n      <td>2</td>\n      <td>Lactated Ringer Subcutaneous Fluids, USP</td>\n      <td>B. Braun Lactated Ringer's Injection USP is st...</td>\n      <td>BB-L7501</td>\n      <td>7.99</td>\n      <td>https://c6.ca/collections/patient-care/product...</td>\n      <td>2024-03-18 16:29:11</td>\n    </tr>\n    <tr>\n      <th>2</th>\n      <td>3</td>\n      <td>Grafco® Unlabeled Flint Glass Sundry Jar | 7\" ...</td>\n      <td>graham field Grafco® Unlabeled Flint Glass Sun...</td>\n      <td>GF-3458</td>\n      <td>12.99</td>\n      <td>https://c6.ca/collections/patient-care/product...</td>\n      <td>2024-03-18 16:29:11</td>\n    </tr>\n    <tr>\n      <th>3</th>\n      <td>4</td>\n      <td>Cotton Balls | High Density | Bag of 1000</td>\n      <td>KOSMA-KARE Cotton balls are ideal for applying...</td>\n      <td>KK-21476</td>\n      <td>15.99</td>\n      <td>https://c6.ca/collections/patient-care/product...</td>\n      <td>2024-03-18 16:29:11</td>\n    </tr>\n    <tr>\n      <th>4</th>\n      <td>5</td>\n      <td>Aerosol Kit with Mask, Nebulizer, &amp; Tubing | 7...</td>\n      <td>Glenwood Laboratories Canada Ltd Pediatric Aer...</td>\n      <td>GK-1807</td>\n      <td>9.99</td>\n      <td>https://c6.ca/collections/patient-care/product...</td>\n      <td>2024-03-18 16:29:11</td>\n    </tr>\n  </tbody>\n</table>\n</div>"
     },
     "execution_count": 50,
     "metadata": {},
     "output_type": "execute_result"
    }
   ]
  },
  {
   "cell_type": "code",
   "source": [
    "# Data preparation & ingestion: LifeSupply\n",
    "lifesupply_data = data_read(\"./lifesupply_products.csv\")\n",
    "lifesupply_data.head()"
   ],
   "metadata": {
    "colab": {
     "base_uri": "https://localhost:8080/",
     "height": 293
    },
    "id": "bcafMPCkuFv8",
    "outputId": "bbe93f58-8e99-44db-ac0b-55d1101e73c8",
    "ExecuteTime": {
     "end_time": "2024-03-27T22:46:45.101853Z",
     "start_time": "2024-03-27T22:46:45.057197Z"
    }
   },
   "execution_count": 51,
   "outputs": [
    {
     "data": {
      "text/plain": "   id                                               name  \\\n0   1  Drive 16012-HOEO Overbed Table Economy-EO-H Ba...   \n1   2  Drive 16012-HODMV Overbed Table Economy-DM-H B...   \n2   3  Drive 16012-UOSOV Overbed Table Economy-SO-U-O...   \n3   4              BIOTIME - TERRAN BROWN FABRIC Size 11   \n4   5              BIOTIME - TERRAN BROWN FABRIC Size 10   \n\n                                         description                sku  \\\n0                Drive Drive 16012-HOEO 822383238463   Drive 16012-HOEO   \n1  Drive Drive 16012-HODMV Overbed Table Economy-...  Drive 16012-HODMV   \n2  Drive Drive 16012-UOSOV Overbed Table Economy-...  Drive 16012-UOSOV   \n3  BIOTIME 3TERRANBRNFA11 BIOTIME - TERRAN BROWN ...     3TERRANBRNFA11   \n4  BIOTIME 3TERRANBRNFA10 BIOTIME - TERRAN BROWN ...     3TERRANBRNFA10   \n\n    price                                          permalink  \\\n0  220.63  https://lifesupply.ca/drive-16012-hoeo-overbed...   \n1  291.24  https://lifesupply.ca/drive-16012-hodmv-overbe...   \n2  291.24  https://lifesupply.ca/drive-16012-uosov-overbe...   \n3   79.00  https://lifesupply.ca/biotime-terran-brown-fab...   \n4   79.00  https://lifesupply.ca/biotime-terran-brown-fab...   \n\n            created_at  \n0  2024-03-18 16:29:10  \n1  2024-03-18 16:29:10  \n2  2024-03-18 16:29:10  \n3  2024-03-18 16:29:10  \n4  2024-03-18 16:29:10  ",
      "text/html": "<div>\n<style scoped>\n    .dataframe tbody tr th:only-of-type {\n        vertical-align: middle;\n    }\n\n    .dataframe tbody tr th {\n        vertical-align: top;\n    }\n\n    .dataframe thead th {\n        text-align: right;\n    }\n</style>\n<table border=\"1\" class=\"dataframe\">\n  <thead>\n    <tr style=\"text-align: right;\">\n      <th></th>\n      <th>id</th>\n      <th>name</th>\n      <th>description</th>\n      <th>sku</th>\n      <th>price</th>\n      <th>permalink</th>\n      <th>created_at</th>\n    </tr>\n  </thead>\n  <tbody>\n    <tr>\n      <th>0</th>\n      <td>1</td>\n      <td>Drive 16012-HOEO Overbed Table Economy-EO-H Ba...</td>\n      <td>Drive Drive 16012-HOEO 822383238463</td>\n      <td>Drive 16012-HOEO</td>\n      <td>220.63</td>\n      <td>https://lifesupply.ca/drive-16012-hoeo-overbed...</td>\n      <td>2024-03-18 16:29:10</td>\n    </tr>\n    <tr>\n      <th>1</th>\n      <td>2</td>\n      <td>Drive 16012-HODMV Overbed Table Economy-DM-H B...</td>\n      <td>Drive Drive 16012-HODMV Overbed Table Economy-...</td>\n      <td>Drive 16012-HODMV</td>\n      <td>291.24</td>\n      <td>https://lifesupply.ca/drive-16012-hodmv-overbe...</td>\n      <td>2024-03-18 16:29:10</td>\n    </tr>\n    <tr>\n      <th>2</th>\n      <td>3</td>\n      <td>Drive 16012-UOSOV Overbed Table Economy-SO-U-O...</td>\n      <td>Drive Drive 16012-UOSOV Overbed Table Economy-...</td>\n      <td>Drive 16012-UOSOV</td>\n      <td>291.24</td>\n      <td>https://lifesupply.ca/drive-16012-uosov-overbe...</td>\n      <td>2024-03-18 16:29:10</td>\n    </tr>\n    <tr>\n      <th>3</th>\n      <td>4</td>\n      <td>BIOTIME - TERRAN BROWN FABRIC Size 11</td>\n      <td>BIOTIME 3TERRANBRNFA11 BIOTIME - TERRAN BROWN ...</td>\n      <td>3TERRANBRNFA11</td>\n      <td>79.00</td>\n      <td>https://lifesupply.ca/biotime-terran-brown-fab...</td>\n      <td>2024-03-18 16:29:10</td>\n    </tr>\n    <tr>\n      <th>4</th>\n      <td>5</td>\n      <td>BIOTIME - TERRAN BROWN FABRIC Size 10</td>\n      <td>BIOTIME 3TERRANBRNFA10 BIOTIME - TERRAN BROWN ...</td>\n      <td>3TERRANBRNFA10</td>\n      <td>79.00</td>\n      <td>https://lifesupply.ca/biotime-terran-brown-fab...</td>\n      <td>2024-03-18 16:29:10</td>\n    </tr>\n  </tbody>\n</table>\n</div>"
     },
     "execution_count": 51,
     "metadata": {},
     "output_type": "execute_result"
    }
   ]
  },
  {
   "cell_type": "code",
   "outputs": [
    {
     "data": {
      "text/plain": "   id                                               name   description  \\\n0   1  Ea/1 Cane Aluminum Black W/ Fritz Handle 35\"L ...        Airway   \n1   2                    Ea/1 Cast Cover Half Arm, Adult        Airway   \n2   3              1/Pr Guardian Forearm Crutches, Adult       Medline   \n3   4            Ea/1 Bios Wheelchair Cushion 16\"X18\"X3\"  BIOS MEDICAL   \n4   5                              Ea/1 Cane Wrist Strap        Airway   \n\n          sku  price                                        permalink  \\\n0  AIR 5143BK  36.98  https://medicalwarehouse.ca/products/air-5143bk   \n1  AIR 0158-A  31.23  https://medicalwarehouse.ca/products/air-0158-a   \n2  MDL G05161  94.94  https://medicalwarehouse.ca/products/mdl-g05161   \n3  BIOS LF882  46.16  https://medicalwarehouse.ca/products/bios-lf882   \n4    AIR 5131   5.26    https://medicalwarehouse.ca/products/air-5131   \n\n            created_at  \n0  2024-03-18 16:29:11  \n1  2024-03-18 16:29:11  \n2  2024-03-18 16:29:11  \n3  2024-03-18 16:29:11  \n4  2024-03-18 16:29:11  ",
      "text/html": "<div>\n<style scoped>\n    .dataframe tbody tr th:only-of-type {\n        vertical-align: middle;\n    }\n\n    .dataframe tbody tr th {\n        vertical-align: top;\n    }\n\n    .dataframe thead th {\n        text-align: right;\n    }\n</style>\n<table border=\"1\" class=\"dataframe\">\n  <thead>\n    <tr style=\"text-align: right;\">\n      <th></th>\n      <th>id</th>\n      <th>name</th>\n      <th>description</th>\n      <th>sku</th>\n      <th>price</th>\n      <th>permalink</th>\n      <th>created_at</th>\n    </tr>\n  </thead>\n  <tbody>\n    <tr>\n      <th>0</th>\n      <td>1</td>\n      <td>Ea/1 Cane Aluminum Black W/ Fritz Handle 35\"L ...</td>\n      <td>Airway</td>\n      <td>AIR 5143BK</td>\n      <td>36.98</td>\n      <td>https://medicalwarehouse.ca/products/air-5143bk</td>\n      <td>2024-03-18 16:29:11</td>\n    </tr>\n    <tr>\n      <th>1</th>\n      <td>2</td>\n      <td>Ea/1 Cast Cover Half Arm, Adult</td>\n      <td>Airway</td>\n      <td>AIR 0158-A</td>\n      <td>31.23</td>\n      <td>https://medicalwarehouse.ca/products/air-0158-a</td>\n      <td>2024-03-18 16:29:11</td>\n    </tr>\n    <tr>\n      <th>2</th>\n      <td>3</td>\n      <td>1/Pr Guardian Forearm Crutches, Adult</td>\n      <td>Medline</td>\n      <td>MDL G05161</td>\n      <td>94.94</td>\n      <td>https://medicalwarehouse.ca/products/mdl-g05161</td>\n      <td>2024-03-18 16:29:11</td>\n    </tr>\n    <tr>\n      <th>3</th>\n      <td>4</td>\n      <td>Ea/1 Bios Wheelchair Cushion 16\"X18\"X3\"</td>\n      <td>BIOS MEDICAL</td>\n      <td>BIOS LF882</td>\n      <td>46.16</td>\n      <td>https://medicalwarehouse.ca/products/bios-lf882</td>\n      <td>2024-03-18 16:29:11</td>\n    </tr>\n    <tr>\n      <th>4</th>\n      <td>5</td>\n      <td>Ea/1 Cane Wrist Strap</td>\n      <td>Airway</td>\n      <td>AIR 5131</td>\n      <td>5.26</td>\n      <td>https://medicalwarehouse.ca/products/air-5131</td>\n      <td>2024-03-18 16:29:11</td>\n    </tr>\n  </tbody>\n</table>\n</div>"
     },
     "execution_count": 52,
     "metadata": {},
     "output_type": "execute_result"
    }
   ],
   "source": [
    "# Data preparation & ingestion: MedicalWarehouse\n",
    "medwarehouse_data = data_read(\"./med_warehouse_products.csv\")\n",
    "medwarehouse_data.head()"
   ],
   "metadata": {
    "collapsed": false,
    "ExecuteTime": {
     "end_time": "2024-03-27T22:46:45.156873Z",
     "start_time": "2024-03-27T22:46:45.078115Z"
    }
   },
   "execution_count": 52
  },
  {
   "cell_type": "markdown",
   "source": [
    "**Data Visualization:**\n",
    "\n",
    "Data visualization can help by providing intuitive and visual representations of complex datasets, making it easier to identify trends, patterns, and relationships within the data.\n"
   ],
   "metadata": {
    "id": "RTmOx-J3nvF2"
   }
  },
  {
   "cell_type": "code",
   "source": [
    "from sklearn.model_selection import train_test_split\n",
    "df.description.value_counts()"
   ],
   "metadata": {
    "colab": {
     "base_uri": "https://localhost:8080/"
    },
    "id": "U3HD75F4ntp3",
    "outputId": "0e8d737b-3a63-4172-f80c-84c47fc4f6cc",
    "ExecuteTime": {
     "end_time": "2024-03-27T22:46:45.200231Z",
     "start_time": "2024-03-27T22:46:45.101112Z"
    }
   },
   "execution_count": 53,
   "outputs": [
    {
     "data": {
      "text/plain": "description\nSterile.                                                                                                                                                                                                                                                                                                                                                                                                                                                                                                                                                                                                                33\nMaterial: Stainless Steel.                                                                                                                                                                                                                                                                                                                                                                                                                                                                                                                                                                                              28\n1 X Back table cover, 60 x 90 in., heavy-duty                                                                                                                                                                                                                                                                                                                                                                                                                                                                                                                                                                           26\nLatex-Free.                                                                                                                                                                                                                                                                                                                                                                                                                                                                                                                                                                                                             23\nEMR Connectivity                                                                                                                                                                                                                                                                                                                                                                                                                                                                                                                                                                                                        18\n                                                                                                                                                                                                                                                                                                                                                                                                                                                                                                                                                                                                                        ..\nNon-curling and break-resistant.                                                                                                                                                                                                                                                                                                                                                                                                                                                                                                                                                                                         1\nEasy to use.                                                                                                                                                                                                                                                                                                                                                                                                                                                                                                                                                                                                             1\nA written key helps to identify side is up and the raised coating separates slides to help eliminate sticking, scratching and abrasion.                                                                                                                                                                                                                                                                                                                                                                                                                                                                                  1\nConstructed of durable polypropylene for all types of specimen transport needs                                                                                                                                                                                                                                                                                                                                                                                                                                                                                                                                           1\nOur Signature mask, made for both men and women, made from 100% cotton its made to breathable and comfortable, Fully adjustable earloop give our masks a universal fit, a hidden metal nose clip keeps the mask securely in place and seal around your nose. 2 Free Filters are included with each mask, additional filters are available in packs of 10 Material: Outer layer  100% Cotton Middle layer  100% Cotton Inside Layer  100% Cotton 8 layers of protection : 3 layer mask 5 layer pm 2.5 filter Dimensions : Width ( Up & Down Measurement ) 5 IN / 14 CM Length ( Across From The Middle ) 9 IN / 23 CM     1\nName: count, Length: 3177, dtype: int64"
     },
     "execution_count": 53,
     "metadata": {},
     "output_type": "execute_result"
    }
   ]
  },
  {
   "cell_type": "code",
   "source": [
    "unique_values_count = df['name'].nunique()\n",
    "unique_values_count"
   ],
   "metadata": {
    "colab": {
     "base_uri": "https://localhost:8080/"
    },
    "id": "YoE8BeWzoyXK",
    "outputId": "16174047-7a12-4698-ba41-d6046e3f2433",
    "ExecuteTime": {
     "end_time": "2024-03-27T22:46:45.201832Z",
     "start_time": "2024-03-27T22:46:45.107243Z"
    }
   },
   "execution_count": 54,
   "outputs": [
    {
     "data": {
      "text/plain": "3883"
     },
     "execution_count": 54,
     "metadata": {},
     "output_type": "execute_result"
    }
   ]
  },
  {
   "cell_type": "markdown",
   "source": [
    "# Data Exploration\n",
    "\n",
    "Data exploration can help us understand the distribution and characteristics of each attribute, enabling us to identify patterns, correlations, and anomalies. Additionally, it allows us to gain insights into potential areas for optimization or improvement in product matching and SKU analysis."
   ],
   "metadata": {
    "id": "VKbsDLl6p4TE"
   }
  },
  {
   "cell_type": "code",
   "source": [
    "from collections import Counter\n",
    "import matplotlib.pyplot as plt\n",
    "import seaborn as sns; sns.set_theme()\n",
    "import warnings; warnings.filterwarnings(\"ignore\")\n",
    "from wordcloud import WordCloud, STOPWORDS"
   ],
   "metadata": {
    "id": "PDAGGF2nqmp-",
    "ExecuteTime": {
     "end_time": "2024-03-27T22:46:45.302812Z",
     "start_time": "2024-03-27T22:46:45.190162Z"
    }
   },
   "execution_count": 55,
   "outputs": []
  },
  {
   "cell_type": "code",
   "source": [
    "# Most common tags\n",
    "all_tags = Counter(df.description)\n",
    "# Get the top 5 most common tags\n",
    "top_tags = dict(all_tags.most_common(5))\n",
    "\n",
    "# Plot tag frequencies\n",
    "tags, tag_counts = zip(*top_tags.items())\n",
    "plt.figure()\n",
    "ax = sns.barplot(x=list(tags), y=list(tag_counts))\n",
    "ax.set_xticklabels(tags, rotation=25, fontsize=8)\n",
    "plt.title(\"Top 5 Tag distribution\", fontsize=8)\n",
    "plt.ylabel(\"# of projects\", fontsize=12)\n",
    "plt.show()"
   ],
   "metadata": {
    "colab": {
     "base_uri": "https://localhost:8080/",
     "height": 446
    },
    "id": "pYSUfXmjqxL9",
    "outputId": "b47df993-3c5b-4231-8697-fd130613c738",
    "ExecuteTime": {
     "end_time": "2024-03-27T22:46:45.702932Z",
     "start_time": "2024-03-27T22:46:45.316752Z"
    }
   },
   "execution_count": 56,
   "outputs": [
    {
     "data": {
      "text/plain": "<Figure size 640x480 with 1 Axes>",
      "image/png": "[encoded data removed]"
     },
     "metadata": {},
     "output_type": "display_data"
    }
   ]
  },
  {
   "cell_type": "markdown",
   "source": [
    "# Data Preprocessing\n",
    "\n",
    "For our application, we'll be implementing a few of these preprocessing steps that are relevant for our dataset. We can combine existing input features to create new meaningful signal for helping the model learn. But again this is for experimentation to know the data better."
   ],
   "metadata": {
    "id": "AqAZLmf3qIiM"
   }
  },
  {
   "cell_type": "code",
   "source": [
    "import json\n",
    "import nltk\n",
    "from nltk.corpus import stopwords\n",
    "from nltk.stem import PorterStemmer\n",
    "import re"
   ],
   "metadata": {
    "id": "G6-Xf54hzZgg",
    "ExecuteTime": {
     "end_time": "2024-03-27T22:46:45.714230Z",
     "start_time": "2024-03-27T22:46:45.654492Z"
    }
   },
   "execution_count": 57,
   "outputs": []
  },
  {
   "cell_type": "code",
   "source": [
    "df['description'] = df['description'].fillna('')\n",
    "df[\"combine_name_desc\"] = df.name + \" \" + df.description\n",
    "df.head()"
   ],
   "metadata": {
    "colab": {
     "base_uri": "https://localhost:8080/",
     "height": 293
    },
    "id": "d77jPWC20NEg",
    "outputId": "b24ffbf0-e592-4fd8-b17b-b561ee4dffdb",
    "ExecuteTime": {
     "end_time": "2024-03-27T22:46:45.830165Z",
     "start_time": "2024-03-27T22:46:45.658426Z"
    }
   },
   "execution_count": 58,
   "outputs": [
    {
     "data": {
      "text/plain": "   id                                               name  \\\n0   1                 Cordless Bed and Chair Sensor Pads   \n1   2                                 MedPro Rayon Balls   \n2   3                                 MedPro Rayon Balls   \n3   4              Clorox Bleach Germicidal Wipes Bucket   \n4   5  Clorox Healthcare Bleach Germicidal Wipes  Ter...   \n\n                                         description    sku   price  \\\n0  The Cordless Bed and Chair Sensor Pads provide...    NaN    0.00   \n1  MedPro Non-sterile rayon balls 50% rayon, 50% ...    NaN   35.53   \n2  MedPro Non-sterile rayon balls 50% rayon, 50% ...    NaN    0.00   \n3  Clorox Healthcare Bleach Germicidal Wipes: Rea...  55894  129.50   \n4                                                       NaN    0.00   \n\n                                           permalink           created_at  \\\n0         https://mecp.ca/?post_type=product&p=60037  2024-03-13 22:29:39   \n1        https://mecp.ca/product/medpro-rayon-balls/  2024-03-13 22:29:39   \n2         https://mecp.ca/?post_type=product&p=60020  2024-03-13 22:29:39   \n3  https://mecp.ca/product/clorox-bleach-germicid...  2024-03-13 22:29:39   \n4         https://mecp.ca/?post_type=product&p=59985  2024-03-13 22:29:39   \n\n                                   combine_name_desc  \n0  Cordless Bed and Chair Sensor Pads The Cordles...  \n1  MedPro Rayon Balls MedPro Non-sterile rayon ba...  \n2  MedPro Rayon Balls MedPro Non-sterile rayon ba...  \n3  Clorox Bleach Germicidal Wipes Bucket Clorox H...  \n4  Clorox Healthcare Bleach Germicidal Wipes  Ter...  ",
      "text/html": "<div>\n<style scoped>\n    .dataframe tbody tr th:only-of-type {\n        vertical-align: middle;\n    }\n\n    .dataframe tbody tr th {\n        vertical-align: top;\n    }\n\n    .dataframe thead th {\n        text-align: right;\n    }\n</style>\n<table border=\"1\" class=\"dataframe\">\n  <thead>\n    <tr style=\"text-align: right;\">\n      <th></th>\n      <th>id</th>\n      <th>name</th>\n      <th>description</th>\n      <th>sku</th>\n      <th>price</th>\n      <th>permalink</th>\n      <th>created_at</th>\n      <th>combine_name_desc</th>\n    </tr>\n  </thead>\n  <tbody>\n    <tr>\n      <th>0</th>\n      <td>1</td>\n      <td>Cordless Bed and Chair Sensor Pads</td>\n      <td>The Cordless Bed and Chair Sensor Pads provide...</td>\n      <td>NaN</td>\n      <td>0.00</td>\n      <td>https://mecp.ca/?post_type=product&amp;p=60037</td>\n      <td>2024-03-13 22:29:39</td>\n      <td>Cordless Bed and Chair Sensor Pads The Cordles...</td>\n    </tr>\n    <tr>\n      <th>1</th>\n      <td>2</td>\n      <td>MedPro Rayon Balls</td>\n      <td>MedPro Non-sterile rayon balls 50% rayon, 50% ...</td>\n      <td>NaN</td>\n      <td>35.53</td>\n      <td>https://mecp.ca/product/medpro-rayon-balls/</td>\n      <td>2024-03-13 22:29:39</td>\n      <td>MedPro Rayon Balls MedPro Non-sterile rayon ba...</td>\n    </tr>\n    <tr>\n      <th>2</th>\n      <td>3</td>\n      <td>MedPro Rayon Balls</td>\n      <td>MedPro Non-sterile rayon balls 50% rayon, 50% ...</td>\n      <td>NaN</td>\n      <td>0.00</td>\n      <td>https://mecp.ca/?post_type=product&amp;p=60020</td>\n      <td>2024-03-13 22:29:39</td>\n      <td>MedPro Rayon Balls MedPro Non-sterile rayon ba...</td>\n    </tr>\n    <tr>\n      <th>3</th>\n      <td>4</td>\n      <td>Clorox Bleach Germicidal Wipes Bucket</td>\n      <td>Clorox Healthcare Bleach Germicidal Wipes: Rea...</td>\n      <td>55894</td>\n      <td>129.50</td>\n      <td>https://mecp.ca/product/clorox-bleach-germicid...</td>\n      <td>2024-03-13 22:29:39</td>\n      <td>Clorox Bleach Germicidal Wipes Bucket Clorox H...</td>\n    </tr>\n    <tr>\n      <th>4</th>\n      <td>5</td>\n      <td>Clorox Healthcare Bleach Germicidal Wipes  Ter...</td>\n      <td></td>\n      <td>NaN</td>\n      <td>0.00</td>\n      <td>https://mecp.ca/?post_type=product&amp;p=59985</td>\n      <td>2024-03-13 22:29:39</td>\n      <td>Clorox Healthcare Bleach Germicidal Wipes  Ter...</td>\n    </tr>\n  </tbody>\n</table>\n</div>"
     },
     "execution_count": 58,
     "metadata": {},
     "output_type": "execute_result"
    }
   ]
  },
  {
   "cell_type": "code",
   "source": [
    "nltk.download(\"stopwords\")\n",
    "STOPWORDS = stopwords.words(\"english\")"
   ],
   "metadata": {
    "colab": {
     "base_uri": "https://localhost:8080/"
    },
    "id": "SMuBssm40675",
    "outputId": "ea3b0509-40c7-4e76-88e8-84a384dc8e87",
    "ExecuteTime": {
     "end_time": "2024-03-27T22:46:45.876370Z",
     "start_time": "2024-03-27T22:46:45.708101Z"
    }
   },
   "execution_count": 59,
   "outputs": [
    {
     "name": "stderr",
     "output_type": "stream",
     "text": [
      "[nltk_data] Downloading package stopwords to\n",
      "[nltk_data]     /Users/carmen/nltk_data...\n",
      "[nltk_data]   Package stopwords is already up-to-date!\n"
     ]
    }
   ]
  },
  {
   "cell_type": "markdown",
   "source": [
    "We can clean the text as per the industry standards, no matter what we use in this project like conventional Machine Learning or Deep Learning for future ventures, this cleaning could help!"
   ],
   "metadata": {
    "id": "wGYkAIu_2aL1"
   }
  },
  {
   "cell_type": "code",
   "source": [
    "def dataCleaning(text, stopwords=STOPWORDS):\n",
    "    #Clean raw text string\n",
    "    if isinstance(text, str):\n",
    "      text = text.lower() # lowering text\n",
    "      # Removing stopwords\n",
    "      pattern = re.compile(r'\\b(' + r\"|\".join(stopwords) + r\")\\b\\s*\")\n",
    "      text = pattern.sub('', text)\n",
    "\n",
    "      # Spacing and filters\n",
    "      text = re.sub(r\"([!\\\"'#$%&()*\\+,-./:;<=>?@\\\\\\[\\]^_`{|}~])\", r\" \\1 \", text)  # add spacing\n",
    "      text = re.sub(\"[^A-Za-z0-9]+\", \" \", text)  # remove non alphanumeric characters\n",
    "      text = re.sub(\" +\", \" \", text)  # remove multiple spaces\n",
    "      text = text.strip()  # strip white space at the ends\n",
    "      text = re.sub(r\"http\\S+\", \"\", text)  #  remove links\n",
    "\n",
    "    return text"
   ],
   "metadata": {
    "id": "7p3pWQ-Z1uWU",
    "ExecuteTime": {
     "end_time": "2024-03-27T22:46:46.000399Z",
     "start_time": "2024-03-27T22:46:45.866350Z"
    }
   },
   "execution_count": 60,
   "outputs": []
  },
  {
   "cell_type": "code",
   "source": [
    "# Apply to dataframe\n",
    "original_df = df.copy()\n",
    "df.combine_name_desc = df.combine_name_desc.apply(dataCleaning)\n",
    "print(\"Example:\\n\")\n",
    "print (f\"Original Data:\\n{original_df.combine_name_desc.values[0]}\\n\\nFiltered Data:\\n{df.combine_name_desc.values[0]}\")\n",
    "df.head()"
   ],
   "metadata": {
    "colab": {
     "base_uri": "https://localhost:8080/",
     "height": 365
    },
    "id": "DytVG6y13MUX",
    "outputId": "255c42dd-cc6c-479a-b789-b65262938519",
    "ExecuteTime": {
     "end_time": "2024-03-27T22:46:46.733053Z",
     "start_time": "2024-03-27T22:46:46.033755Z"
    }
   },
   "execution_count": 61,
   "outputs": [
    {
     "name": "stdout",
     "output_type": "stream",
     "text": [
      "Example:\n",
      "\n",
      "Original Data:\n",
      "Cordless Bed and Chair Sensor Pads The Cordless Bed and Chair Sensor Pads provide reliable monitoring with a lifespan of 18 months. The cordless option eliminates cord tripping hazards and damage, reducing false alarms. The pads can be folded for easy storage.\n",
      "\n",
      "Filtered Data:\n",
      "cordless bed chair sensor pads cordless bed chair sensor pads provide reliable monitoring lifespan 18 months cordless option eliminates cord tripping hazards damage reducing false alarms pads folded easy storage\n"
     ]
    },
    {
     "data": {
      "text/plain": "   id                                               name  \\\n0   1                 Cordless Bed and Chair Sensor Pads   \n1   2                                 MedPro Rayon Balls   \n2   3                                 MedPro Rayon Balls   \n3   4              Clorox Bleach Germicidal Wipes Bucket   \n4   5  Clorox Healthcare Bleach Germicidal Wipes  Ter...   \n\n                                         description    sku   price  \\\n0  The Cordless Bed and Chair Sensor Pads provide...    NaN    0.00   \n1  MedPro Non-sterile rayon balls 50% rayon, 50% ...    NaN   35.53   \n2  MedPro Non-sterile rayon balls 50% rayon, 50% ...    NaN    0.00   \n3  Clorox Healthcare Bleach Germicidal Wipes: Rea...  55894  129.50   \n4                                                       NaN    0.00   \n\n                                           permalink           created_at  \\\n0         https://mecp.ca/?post_type=product&p=60037  2024-03-13 22:29:39   \n1        https://mecp.ca/product/medpro-rayon-balls/  2024-03-13 22:29:39   \n2         https://mecp.ca/?post_type=product&p=60020  2024-03-13 22:29:39   \n3  https://mecp.ca/product/clorox-bleach-germicid...  2024-03-13 22:29:39   \n4         https://mecp.ca/?post_type=product&p=59985  2024-03-13 22:29:39   \n\n                                   combine_name_desc  \n0  cordless bed chair sensor pads cordless bed ch...  \n1  medpro rayon balls medpro non sterile rayon ba...  \n2  medpro rayon balls medpro non sterile rayon ba...  \n3  clorox bleach germicidal wipes bucket clorox h...  \n4  clorox healthcare bleach germicidal wipes term...  ",
      "text/html": "<div>\n<style scoped>\n    .dataframe tbody tr th:only-of-type {\n        vertical-align: middle;\n    }\n\n    .dataframe tbody tr th {\n        vertical-align: top;\n    }\n\n    .dataframe thead th {\n        text-align: right;\n    }\n</style>\n<table border=\"1\" class=\"dataframe\">\n  <thead>\n    <tr style=\"text-align: right;\">\n      <th></th>\n      <th>id</th>\n      <th>name</th>\n      <th>description</th>\n      <th>sku</th>\n      <th>price</th>\n      <th>permalink</th>\n      <th>created_at</th>\n      <th>combine_name_desc</th>\n    </tr>\n  </thead>\n  <tbody>\n    <tr>\n      <th>0</th>\n      <td>1</td>\n      <td>Cordless Bed and Chair Sensor Pads</td>\n      <td>The Cordless Bed and Chair Sensor Pads provide...</td>\n      <td>NaN</td>\n      <td>0.00</td>\n      <td>https://mecp.ca/?post_type=product&amp;p=60037</td>\n      <td>2024-03-13 22:29:39</td>\n      <td>cordless bed chair sensor pads cordless bed ch...</td>\n    </tr>\n    <tr>\n      <th>1</th>\n      <td>2</td>\n      <td>MedPro Rayon Balls</td>\n      <td>MedPro Non-sterile rayon balls 50% rayon, 50% ...</td>\n      <td>NaN</td>\n      <td>35.53</td>\n      <td>https://mecp.ca/product/medpro-rayon-balls/</td>\n      <td>2024-03-13 22:29:39</td>\n      <td>medpro rayon balls medpro non sterile rayon ba...</td>\n    </tr>\n    <tr>\n      <th>2</th>\n      <td>3</td>\n      <td>MedPro Rayon Balls</td>\n      <td>MedPro Non-sterile rayon balls 50% rayon, 50% ...</td>\n      <td>NaN</td>\n      <td>0.00</td>\n      <td>https://mecp.ca/?post_type=product&amp;p=60020</td>\n      <td>2024-03-13 22:29:39</td>\n      <td>medpro rayon balls medpro non sterile rayon ba...</td>\n    </tr>\n    <tr>\n      <th>3</th>\n      <td>4</td>\n      <td>Clorox Bleach Germicidal Wipes Bucket</td>\n      <td>Clorox Healthcare Bleach Germicidal Wipes: Rea...</td>\n      <td>55894</td>\n      <td>129.50</td>\n      <td>https://mecp.ca/product/clorox-bleach-germicid...</td>\n      <td>2024-03-13 22:29:39</td>\n      <td>clorox bleach germicidal wipes bucket clorox h...</td>\n    </tr>\n    <tr>\n      <th>4</th>\n      <td>5</td>\n      <td>Clorox Healthcare Bleach Germicidal Wipes  Ter...</td>\n      <td></td>\n      <td>NaN</td>\n      <td>0.00</td>\n      <td>https://mecp.ca/?post_type=product&amp;p=59985</td>\n      <td>2024-03-13 22:29:39</td>\n      <td>clorox healthcare bleach germicidal wipes term...</td>\n    </tr>\n  </tbody>\n</table>\n</div>"
     },
     "execution_count": 61,
     "metadata": {},
     "output_type": "execute_result"
    }
   ]
  },
  {
   "cell_type": "markdown",
   "source": [
    "**We have not experimented or decided yet if removing sole numerical (int/float) values from the combine_name_desc will benefit our Model, we have to experiment.**"
   ],
   "metadata": {
    "id": "bt81YaQN6--M"
   }
  },
  {
   "cell_type": "markdown",
   "source": [
    "We can  clean data further by dropping unwanted columns"
   ],
   "metadata": {
    "id": "Nge6lVUe9PTX"
   }
  },
  {
   "cell_type": "code",
   "source": [
    "# Column drop\n",
    "df = df.drop(columns=[\"permalink\", \"name\", \"created_at\"], errors=\"ignore\")\n",
    "df = df[[\"combine_name_desc\", \"sku\", \"price\"]]\n",
    "df.head()"
   ],
   "metadata": {
    "colab": {
     "base_uri": "https://localhost:8080/",
     "height": 424
    },
    "id": "FS_-kR9b7Liu",
    "outputId": "393e8a44-211a-470a-a0e6-25f3d57052c6",
    "ExecuteTime": {
     "end_time": "2024-03-27T22:46:46.736577Z",
     "start_time": "2024-03-27T22:46:46.705101Z"
    }
   },
   "execution_count": 62,
   "outputs": [
    {
     "data": {
      "text/plain": "                                   combine_name_desc    sku   price\n0  cordless bed chair sensor pads cordless bed ch...    NaN    0.00\n1  medpro rayon balls medpro non sterile rayon ba...    NaN   35.53\n2  medpro rayon balls medpro non sterile rayon ba...    NaN    0.00\n3  clorox bleach germicidal wipes bucket clorox h...  55894  129.50\n4  clorox healthcare bleach germicidal wipes term...    NaN    0.00",
      "text/html": "<div>\n<style scoped>\n    .dataframe tbody tr th:only-of-type {\n        vertical-align: middle;\n    }\n\n    .dataframe tbody tr th {\n        vertical-align: top;\n    }\n\n    .dataframe thead th {\n        text-align: right;\n    }\n</style>\n<table border=\"1\" class=\"dataframe\">\n  <thead>\n    <tr style=\"text-align: right;\">\n      <th></th>\n      <th>combine_name_desc</th>\n      <th>sku</th>\n      <th>price</th>\n    </tr>\n  </thead>\n  <tbody>\n    <tr>\n      <th>0</th>\n      <td>cordless bed chair sensor pads cordless bed ch...</td>\n      <td>NaN</td>\n      <td>0.00</td>\n    </tr>\n    <tr>\n      <th>1</th>\n      <td>medpro rayon balls medpro non sterile rayon ba...</td>\n      <td>NaN</td>\n      <td>35.53</td>\n    </tr>\n    <tr>\n      <th>2</th>\n      <td>medpro rayon balls medpro non sterile rayon ba...</td>\n      <td>NaN</td>\n      <td>0.00</td>\n    </tr>\n    <tr>\n      <th>3</th>\n      <td>clorox bleach germicidal wipes bucket clorox h...</td>\n      <td>55894</td>\n      <td>129.50</td>\n    </tr>\n    <tr>\n      <th>4</th>\n      <td>clorox healthcare bleach germicidal wipes term...</td>\n      <td>NaN</td>\n      <td>0.00</td>\n    </tr>\n  </tbody>\n</table>\n</div>"
     },
     "execution_count": 62,
     "metadata": {},
     "output_type": "execute_result"
    }
   ]
  },
  {
   "cell_type": "code",
   "source": [
    "import numpy as np\n",
    "\n",
    "# Assuming df is your DataFrame\n",
    "\n",
    "# Generate unique random numbers to replace NaN values in 'sku' column\n",
    "random_numbers = np.random.randint(100000, 999999, size=len(df))\n",
    "df['sku'] = df['sku'].fillna(pd.Series(random_numbers, index=df.index))\n",
    "df"
   ],
   "metadata": {
    "colab": {
     "base_uri": "https://localhost:8080/",
     "height": 614
    },
    "id": "L6DLBSaeEURw",
    "outputId": "3514b5e3-f3cc-49ab-b895-0cb3e4003ee4",
    "ExecuteTime": {
     "end_time": "2024-03-27T22:46:46.813325Z",
     "start_time": "2024-03-27T22:46:46.722152Z"
    }
   },
   "execution_count": 63,
   "outputs": [
    {
     "data": {
      "text/plain": "                                      combine_name_desc     sku   price\n0     cordless bed chair sensor pads cordless bed ch...  742138    0.00\n1     medpro rayon balls medpro non sterile rayon ba...  915688   35.53\n2     medpro rayon balls medpro non sterile rayon ba...  774422    0.00\n3     clorox bleach germicidal wipes bucket clorox h...   55894  129.50\n4     clorox healthcare bleach germicidal wipes term...  368890    0.00\n...                                                 ...     ...     ...\n3934  mouth shield clear mouth shield ideal people w...    mg-c   14.99\n3935  face shield kids face shield designed kids com...  309035    8.99\n3936  face shield adult face shield comfortable elas...  189219    7.99\n3937  youth cotton face masks signature mask made me...  342524    8.99\n3938  cotton face masks signature mask made men wome...  669773    8.99\n\n[3939 rows x 3 columns]",
      "text/html": "<div>\n<style scoped>\n    .dataframe tbody tr th:only-of-type {\n        vertical-align: middle;\n    }\n\n    .dataframe tbody tr th {\n        vertical-align: top;\n    }\n\n    .dataframe thead th {\n        text-align: right;\n    }\n</style>\n<table border=\"1\" class=\"dataframe\">\n  <thead>\n    <tr style=\"text-align: right;\">\n      <th></th>\n      <th>combine_name_desc</th>\n      <th>sku</th>\n      <th>price</th>\n    </tr>\n  </thead>\n  <tbody>\n    <tr>\n      <th>0</th>\n      <td>cordless bed chair sensor pads cordless bed ch...</td>\n      <td>742138</td>\n      <td>0.00</td>\n    </tr>\n    <tr>\n      <th>1</th>\n      <td>medpro rayon balls medpro non sterile rayon ba...</td>\n      <td>915688</td>\n      <td>35.53</td>\n    </tr>\n    <tr>\n      <th>2</th>\n      <td>medpro rayon balls medpro non sterile rayon ba...</td>\n      <td>774422</td>\n      <td>0.00</td>\n    </tr>\n    <tr>\n      <th>3</th>\n      <td>clorox bleach germicidal wipes bucket clorox h...</td>\n      <td>55894</td>\n      <td>129.50</td>\n    </tr>\n    <tr>\n      <th>4</th>\n      <td>clorox healthcare bleach germicidal wipes term...</td>\n      <td>368890</td>\n      <td>0.00</td>\n    </tr>\n    <tr>\n      <th>...</th>\n      <td>...</td>\n      <td>...</td>\n      <td>...</td>\n    </tr>\n    <tr>\n      <th>3934</th>\n      <td>mouth shield clear mouth shield ideal people w...</td>\n      <td>mg-c</td>\n      <td>14.99</td>\n    </tr>\n    <tr>\n      <th>3935</th>\n      <td>face shield kids face shield designed kids com...</td>\n      <td>309035</td>\n      <td>8.99</td>\n    </tr>\n    <tr>\n      <th>3936</th>\n      <td>face shield adult face shield comfortable elas...</td>\n      <td>189219</td>\n      <td>7.99</td>\n    </tr>\n    <tr>\n      <th>3937</th>\n      <td>youth cotton face masks signature mask made me...</td>\n      <td>342524</td>\n      <td>8.99</td>\n    </tr>\n    <tr>\n      <th>3938</th>\n      <td>cotton face masks signature mask made men wome...</td>\n      <td>669773</td>\n      <td>8.99</td>\n    </tr>\n  </tbody>\n</table>\n<p>3939 rows × 3 columns</p>\n</div>"
     },
     "execution_count": 63,
     "metadata": {},
     "output_type": "execute_result"
    }
   ]
  },
  {
   "cell_type": "code",
   "source": [
    "df_experiment = df.copy()\n",
    "df_experiment = df_experiment.drop_duplicates(subset=[\"combine_name_desc\"])\n",
    "df_experiment = df_experiment.drop_duplicates(subset=[\"sku\"])\n",
    "df_experiment"
   ],
   "metadata": {
    "colab": {
     "base_uri": "https://localhost:8080/",
     "height": 424
    },
    "id": "by1aO9t9-blY",
    "outputId": "e06a8ac7-43b1-4bf5-bf33-c94563fcd6d7",
    "ExecuteTime": {
     "end_time": "2024-03-27T22:46:46.828888Z",
     "start_time": "2024-03-27T22:46:46.737068Z"
    }
   },
   "execution_count": 64,
   "outputs": [
    {
     "data": {
      "text/plain": "                                      combine_name_desc       sku   price\n0     cordless bed chair sensor pads cordless bed ch...    742138    0.00\n1     medpro rayon balls medpro non sterile rayon ba...    915688   35.53\n3     clorox bleach germicidal wipes bucket clorox h...     55894  129.50\n4     clorox healthcare bleach germicidal wipes term...    368890    0.00\n5     lysol go 15 ct disinfectant wipes lysol go cit...  CB998311   68.40\n...                                                 ...       ...     ...\n3934  mouth shield clear mouth shield ideal people w...      mg-c   14.99\n3935  face shield kids face shield designed kids com...    309035    8.99\n3936  face shield adult face shield comfortable elas...    189219    7.99\n3937  youth cotton face masks signature mask made me...    342524    8.99\n3938  cotton face masks signature mask made men wome...    669773    8.99\n\n[3915 rows x 3 columns]",
      "text/html": "<div>\n<style scoped>\n    .dataframe tbody tr th:only-of-type {\n        vertical-align: middle;\n    }\n\n    .dataframe tbody tr th {\n        vertical-align: top;\n    }\n\n    .dataframe thead th {\n        text-align: right;\n    }\n</style>\n<table border=\"1\" class=\"dataframe\">\n  <thead>\n    <tr style=\"text-align: right;\">\n      <th></th>\n      <th>combine_name_desc</th>\n      <th>sku</th>\n      <th>price</th>\n    </tr>\n  </thead>\n  <tbody>\n    <tr>\n      <th>0</th>\n      <td>cordless bed chair sensor pads cordless bed ch...</td>\n      <td>742138</td>\n      <td>0.00</td>\n    </tr>\n    <tr>\n      <th>1</th>\n      <td>medpro rayon balls medpro non sterile rayon ba...</td>\n      <td>915688</td>\n      <td>35.53</td>\n    </tr>\n    <tr>\n      <th>3</th>\n      <td>clorox bleach germicidal wipes bucket clorox h...</td>\n      <td>55894</td>\n      <td>129.50</td>\n    </tr>\n    <tr>\n      <th>4</th>\n      <td>clorox healthcare bleach germicidal wipes term...</td>\n      <td>368890</td>\n      <td>0.00</td>\n    </tr>\n    <tr>\n      <th>5</th>\n      <td>lysol go 15 ct disinfectant wipes lysol go cit...</td>\n      <td>CB998311</td>\n      <td>68.40</td>\n    </tr>\n    <tr>\n      <th>...</th>\n      <td>...</td>\n      <td>...</td>\n      <td>...</td>\n    </tr>\n    <tr>\n      <th>3934</th>\n      <td>mouth shield clear mouth shield ideal people w...</td>\n      <td>mg-c</td>\n      <td>14.99</td>\n    </tr>\n    <tr>\n      <th>3935</th>\n      <td>face shield kids face shield designed kids com...</td>\n      <td>309035</td>\n      <td>8.99</td>\n    </tr>\n    <tr>\n      <th>3936</th>\n      <td>face shield adult face shield comfortable elas...</td>\n      <td>189219</td>\n      <td>7.99</td>\n    </tr>\n    <tr>\n      <th>3937</th>\n      <td>youth cotton face masks signature mask made me...</td>\n      <td>342524</td>\n      <td>8.99</td>\n    </tr>\n    <tr>\n      <th>3938</th>\n      <td>cotton face masks signature mask made men wome...</td>\n      <td>669773</td>\n      <td>8.99</td>\n    </tr>\n  </tbody>\n</table>\n<p>3915 rows × 3 columns</p>\n</div>"
     },
     "execution_count": 64,
     "metadata": {},
     "output_type": "execute_result"
    }
   ]
  },
  {
   "cell_type": "markdown",
   "source": [
    "# Similarly we will filter the data of the Competitors Dataset."
   ],
   "metadata": {
    "id": "kUUwEgDGH4HI"
   }
  },
  {
   "cell_type": "code",
   "source": [
    "# Apply to dataframe\n",
    "c6_data['description'] = c6_data['description'].fillna('')\n",
    "c6_data[\"combine_name_desc\"] = c6_data.name + \" \" + c6_data.description\n",
    "c6_data_original_df = c6_data.copy()\n",
    "\n",
    "c6_data.head()\n",
    "\n"
   ],
   "metadata": {
    "colab": {
     "base_uri": "https://localhost:8080/",
     "height": 537
    },
    "id": "JnRgBFQOHpCg",
    "outputId": "e04d4f3f-826f-4a14-8f24-ce41475b24bb",
    "ExecuteTime": {
     "end_time": "2024-03-27T22:57:08.017835Z",
     "start_time": "2024-03-27T22:57:07.836732Z"
    }
   },
   "execution_count": 77,
   "outputs": [
    {
     "data": {
      "text/plain": "   id                                               name  \\\n0   1       Cotton Balls | Economy | 0.22g | Bag of 2000   \n1   2           Lactated Ringer Subcutaneous Fluids, USP   \n2   3  Grafco® Unlabeled Flint Glass Sundry Jar | 7\" ...   \n3   4          Cotton Balls | High Density | Bag of 1000   \n4   5  Aerosol Kit with Mask, Nebulizer, & Tubing | 7...   \n\n                                         description       sku  price  \\\n0  KOSMA-KARE Cotton balls are ideal for applying...  KK-21176   9.99   \n1  B. Braun Lactated Ringer's Injection USP is st...  BB-L7501   7.99   \n2  graham field Grafco® Unlabeled Flint Glass Sun...   GF-3458  12.99   \n3  KOSMA-KARE Cotton balls are ideal for applying...  KK-21476  15.99   \n4  Glenwood Laboratories Canada Ltd Pediatric Aer...   GK-1807   9.99   \n\n                                           permalink           created_at  \\\n0  https://c6.ca/collections/patient-care/product...  2024-03-18 16:29:11   \n1  https://c6.ca/collections/patient-care/product...  2024-03-18 16:29:11   \n2  https://c6.ca/collections/patient-care/product...  2024-03-18 16:29:11   \n3  https://c6.ca/collections/patient-care/product...  2024-03-18 16:29:11   \n4  https://c6.ca/collections/patient-care/product...  2024-03-18 16:29:11   \n\n                                   combine_name_desc  \n0  Cotton Balls | Economy | 0.22g | Bag of 2000 K...  \n1  Lactated Ringer Subcutaneous Fluids, USP B. Br...  \n2  Grafco® Unlabeled Flint Glass Sundry Jar | 7\" ...  \n3  Cotton Balls | High Density | Bag of 1000 KOSM...  \n4  Aerosol Kit with Mask, Nebulizer, & Tubing | 7...  ",
      "text/html": "<div>\n<style scoped>\n    .dataframe tbody tr th:only-of-type {\n        vertical-align: middle;\n    }\n\n    .dataframe tbody tr th {\n        vertical-align: top;\n    }\n\n    .dataframe thead th {\n        text-align: right;\n    }\n</style>\n<table border=\"1\" class=\"dataframe\">\n  <thead>\n    <tr style=\"text-align: right;\">\n      <th></th>\n      <th>id</th>\n      <th>name</th>\n      <th>description</th>\n      <th>sku</th>\n      <th>price</th>\n      <th>permalink</th>\n      <th>created_at</th>\n      <th>combine_name_desc</th>\n    </tr>\n  </thead>\n  <tbody>\n    <tr>\n      <th>0</th>\n      <td>1</td>\n      <td>Cotton Balls | Economy | 0.22g | Bag of 2000</td>\n      <td>KOSMA-KARE Cotton balls are ideal for applying...</td>\n      <td>KK-21176</td>\n      <td>9.99</td>\n      <td>https://c6.ca/collections/patient-care/product...</td>\n      <td>2024-03-18 16:29:11</td>\n      <td>Cotton Balls | Economy | 0.22g | Bag of 2000 K...</td>\n    </tr>\n    <tr>\n      <th>1</th>\n      <td>2</td>\n      <td>Lactated Ringer Subcutaneous Fluids, USP</td>\n      <td>B. Braun Lactated Ringer's Injection USP is st...</td>\n      <td>BB-L7501</td>\n      <td>7.99</td>\n      <td>https://c6.ca/collections/patient-care/product...</td>\n      <td>2024-03-18 16:29:11</td>\n      <td>Lactated Ringer Subcutaneous Fluids, USP B. Br...</td>\n    </tr>\n    <tr>\n      <th>2</th>\n      <td>3</td>\n      <td>Grafco® Unlabeled Flint Glass Sundry Jar | 7\" ...</td>\n      <td>graham field Grafco® Unlabeled Flint Glass Sun...</td>\n      <td>GF-3458</td>\n      <td>12.99</td>\n      <td>https://c6.ca/collections/patient-care/product...</td>\n      <td>2024-03-18 16:29:11</td>\n      <td>Grafco® Unlabeled Flint Glass Sundry Jar | 7\" ...</td>\n    </tr>\n    <tr>\n      <th>3</th>\n      <td>4</td>\n      <td>Cotton Balls | High Density | Bag of 1000</td>\n      <td>KOSMA-KARE Cotton balls are ideal for applying...</td>\n      <td>KK-21476</td>\n      <td>15.99</td>\n      <td>https://c6.ca/collections/patient-care/product...</td>\n      <td>2024-03-18 16:29:11</td>\n      <td>Cotton Balls | High Density | Bag of 1000 KOSM...</td>\n    </tr>\n    <tr>\n      <th>4</th>\n      <td>5</td>\n      <td>Aerosol Kit with Mask, Nebulizer, &amp; Tubing | 7...</td>\n      <td>Glenwood Laboratories Canada Ltd Pediatric Aer...</td>\n      <td>GK-1807</td>\n      <td>9.99</td>\n      <td>https://c6.ca/collections/patient-care/product...</td>\n      <td>2024-03-18 16:29:11</td>\n      <td>Aerosol Kit with Mask, Nebulizer, &amp; Tubing | 7...</td>\n    </tr>\n  </tbody>\n</table>\n</div>"
     },
     "execution_count": 77,
     "metadata": {},
     "output_type": "execute_result"
    }
   ]
  },
  {
   "cell_type": "code",
   "source": [
    "c6_data.combine_name_desc = c6_data.combine_name_desc.apply(dataCleaning)\n",
    "\n",
    "print(\"Example:\")\n",
    "print (f\"Original Data:{c6_data_original_df.combine_name_desc.values[0]}\\nFiltered Data:{c6_data.combine_name_desc.values[0]}\")\n",
    "c6_data.head()"
   ],
   "metadata": {
    "colab": {
     "base_uri": "https://localhost:8080/",
     "height": 365
    },
    "id": "mpheTueMJ25T",
    "outputId": "c56fc53a-0da7-4a0a-8efd-e1be15bc5068",
    "ExecuteTime": {
     "end_time": "2024-03-27T22:46:46.980652Z",
     "start_time": "2024-03-27T22:46:46.832918Z"
    }
   },
   "execution_count": 66,
   "outputs": [
    {
     "name": "stdout",
     "output_type": "stream",
     "text": [
      "Example:\n",
      "Original Data:Cotton Balls | Economy | 0.22g | Bag of 2000 KOSMA-KARE Cotton balls are ideal for applying first aid creams and ointments. They are white, non-sterile, and are made from 100% natural cotton. Non-Sterile Medical Cotton Balls are appropriate for wound treatment, cleaning, prepping, applying creams and ointments. Perfect for skin prepping and wound cleansing Removing makeup and ideal for beauty Personal care and household uses .\n",
      "Filtered Data:cotton balls economy 0 22g bag 2000 kosma kare cotton balls ideal applying first aid creams ointments white non sterile made 100 natural cotton non sterile medical cotton balls appropriate wound treatment cleaning prepping applying creams ointments perfect skin prepping wound cleansing removing makeup ideal beauty personal care household uses\n"
     ]
    },
    {
     "data": {
      "text/plain": "   id                                               name  \\\n0   1       Cotton Balls | Economy | 0.22g | Bag of 2000   \n1   2           Lactated Ringer Subcutaneous Fluids, USP   \n2   3  Grafco® Unlabeled Flint Glass Sundry Jar | 7\" ...   \n3   4          Cotton Balls | High Density | Bag of 1000   \n4   5  Aerosol Kit with Mask, Nebulizer, & Tubing | 7...   \n\n                                         description       sku  price  \\\n0  KOSMA-KARE Cotton balls are ideal for applying...  KK-21176   9.99   \n1  B. Braun Lactated Ringer's Injection USP is st...  BB-L7501   7.99   \n2  graham field Grafco® Unlabeled Flint Glass Sun...   GF-3458  12.99   \n3  KOSMA-KARE Cotton balls are ideal for applying...  KK-21476  15.99   \n4  Glenwood Laboratories Canada Ltd Pediatric Aer...   GK-1807   9.99   \n\n                                           permalink           created_at  \\\n0  https://c6.ca/collections/patient-care/product...  2024-03-18 16:29:11   \n1  https://c6.ca/collections/patient-care/product...  2024-03-18 16:29:11   \n2  https://c6.ca/collections/patient-care/product...  2024-03-18 16:29:11   \n3  https://c6.ca/collections/patient-care/product...  2024-03-18 16:29:11   \n4  https://c6.ca/collections/patient-care/product...  2024-03-18 16:29:11   \n\n                                   combine_name_desc  \n0  cotton balls economy 0 22g bag 2000 kosma kare...  \n1  lactated ringer subcutaneous fluids usp b brau...  \n2  grafco unlabeled flint glass sundry jar 7 x 4 ...  \n3  cotton balls high density bag 1000 kosma kare ...  \n4  aerosol kit mask nebulizer tubing 7 disposable...  ",
      "text/html": "<div>\n<style scoped>\n    .dataframe tbody tr th:only-of-type {\n        vertical-align: middle;\n    }\n\n    .dataframe tbody tr th {\n        vertical-align: top;\n    }\n\n    .dataframe thead th {\n        text-align: right;\n    }\n</style>\n<table border=\"1\" class=\"dataframe\">\n  <thead>\n    <tr style=\"text-align: right;\">\n      <th></th>\n      <th>id</th>\n      <th>name</th>\n      <th>description</th>\n      <th>sku</th>\n      <th>price</th>\n      <th>permalink</th>\n      <th>created_at</th>\n      <th>combine_name_desc</th>\n    </tr>\n  </thead>\n  <tbody>\n    <tr>\n      <th>0</th>\n      <td>1</td>\n      <td>Cotton Balls | Economy | 0.22g | Bag of 2000</td>\n      <td>KOSMA-KARE Cotton balls are ideal for applying...</td>\n      <td>KK-21176</td>\n      <td>9.99</td>\n      <td>https://c6.ca/collections/patient-care/product...</td>\n      <td>2024-03-18 16:29:11</td>\n      <td>cotton balls economy 0 22g bag 2000 kosma kare...</td>\n    </tr>\n    <tr>\n      <th>1</th>\n      <td>2</td>\n      <td>Lactated Ringer Subcutaneous Fluids, USP</td>\n      <td>B. Braun Lactated Ringer's Injection USP is st...</td>\n      <td>BB-L7501</td>\n      <td>7.99</td>\n      <td>https://c6.ca/collections/patient-care/product...</td>\n      <td>2024-03-18 16:29:11</td>\n      <td>lactated ringer subcutaneous fluids usp b brau...</td>\n    </tr>\n    <tr>\n      <th>2</th>\n      <td>3</td>\n      <td>Grafco® Unlabeled Flint Glass Sundry Jar | 7\" ...</td>\n      <td>graham field Grafco® Unlabeled Flint Glass Sun...</td>\n      <td>GF-3458</td>\n      <td>12.99</td>\n      <td>https://c6.ca/collections/patient-care/product...</td>\n      <td>2024-03-18 16:29:11</td>\n      <td>grafco unlabeled flint glass sundry jar 7 x 4 ...</td>\n    </tr>\n    <tr>\n      <th>3</th>\n      <td>4</td>\n      <td>Cotton Balls | High Density | Bag of 1000</td>\n      <td>KOSMA-KARE Cotton balls are ideal for applying...</td>\n      <td>KK-21476</td>\n      <td>15.99</td>\n      <td>https://c6.ca/collections/patient-care/product...</td>\n      <td>2024-03-18 16:29:11</td>\n      <td>cotton balls high density bag 1000 kosma kare ...</td>\n    </tr>\n    <tr>\n      <th>4</th>\n      <td>5</td>\n      <td>Aerosol Kit with Mask, Nebulizer, &amp; Tubing | 7...</td>\n      <td>Glenwood Laboratories Canada Ltd Pediatric Aer...</td>\n      <td>GK-1807</td>\n      <td>9.99</td>\n      <td>https://c6.ca/collections/patient-care/product...</td>\n      <td>2024-03-18 16:29:11</td>\n      <td>aerosol kit mask nebulizer tubing 7 disposable...</td>\n    </tr>\n  </tbody>\n</table>\n</div>"
     },
     "execution_count": 66,
     "metadata": {},
     "output_type": "execute_result"
    }
   ]
  },
  {
   "cell_type": "code",
   "source": [
    "# # we are removing sku here as we don't care about the cpmpetitor's sku, we can just filter by id assigned\n",
    "# c6_experiment = c6_data.copy()\n",
    "# c6_experiment = c6_experiment.drop(columns=[\"permalink\", \"name\", \"created_at\", \"sku\"], errors=\"ignore\")\n",
    "# c6_experiment = c6_experiment[[\"id\", \"combine_name_desc\", \"price\"]]\n"
   ],
   "metadata": {
    "id": "x44H07oJK8hz",
    "ExecuteTime": {
     "end_time": "2024-03-27T22:46:47.010752Z",
     "start_time": "2024-03-27T22:46:46.853675Z"
    }
   },
   "execution_count": 67,
   "outputs": []
  },
  {
   "cell_type": "code",
   "source": [
    "len(c6_data)"
   ],
   "metadata": {
    "colab": {
     "base_uri": "https://localhost:8080/"
    },
    "id": "oHXWMkEcSkc7",
    "outputId": "696dbf4b-4169-4f39-b133-24ff5ab4d63f",
    "ExecuteTime": {
     "end_time": "2024-03-27T22:46:47.013388Z",
     "start_time": "2024-03-27T22:46:46.858706Z"
    }
   },
   "execution_count": 68,
   "outputs": [
    {
     "data": {
      "text/plain": "355"
     },
     "execution_count": 68,
     "metadata": {},
     "output_type": "execute_result"
    }
   ]
  },
  {
   "cell_type": "code",
   "source": [
    "!pip install rapidfuzz\n"
   ],
   "metadata": {
    "colab": {
     "base_uri": "https://localhost:8080/"
    },
    "id": "OSE8cuZ0WcDr",
    "outputId": "bdc6f6bc-e59d-42d9-b28e-e99ab420829f",
    "ExecuteTime": {
     "end_time": "2024-03-27T22:46:49.058167Z",
     "start_time": "2024-03-27T22:46:46.865295Z"
    }
   },
   "execution_count": 69,
   "outputs": [
    {
     "name": "stdout",
     "output_type": "stream",
     "text": [
      "Requirement already satisfied: rapidfuzz in /Users/carmen/.pyenv/versions/3.10.13/lib/python3.10/site-packages (3.7.0)\r\n"
     ]
    }
   ]
  },
  {
   "cell_type": "code",
   "source": [
    "from nltk.metrics import edit_distance\n",
    "from rapidfuzz import fuzz\n",
    "\n",
    "c6_data_lavenshtein = c6_data.sample(n=100, random_state=42)\n",
    "df_experiment_lavenshtein = df_experiment.sample(n=150, random_state=42)\n",
    "\n",
    "matched_ids = []\n",
    "similarity_scores = []\n",
    "\n",
    "# Index the descriptions in df2 for efficient search\n",
    "df2_index = {desc: index for index, desc in enumerate(c6_data_lavenshtein['combine_name_desc'])}\n",
    "\n",
    "\n",
    "for desc1 in df_experiment_lavenshtein['combine_name_desc']:\n",
    "    # Find the most similar description in df2 and its index\n",
    "    most_similar_desc, most_similar_index = max(((desc2, index) for desc2, index in df2_index.items()),\n",
    "                                                key=lambda x: fuzz.ratio(desc1, x[0]))\n",
    "    # Calculate similarity score\n",
    "    similarity_score = fuzz.ratio(desc1, most_similar_desc)\n",
    "\n",
    "    most_similar_id = c6_data_lavenshtein.iloc[most_similar_index]['id']\n",
    "\n",
    "    matched_ids.append(most_similar_id)\n",
    "    similarity_scores.append(similarity_score)\n",
    "\n",
    "# Adding matched id and similarity scores to df1\n",
    "df_experiment_lavenshtein['matched_id_of_C6'] = matched_ids\n",
    "df_experiment_lavenshtein['similarity_score'] = similarity_scores"
   ],
   "metadata": {
    "id": "AbbeAzQjNege",
    "ExecuteTime": {
     "end_time": "2024-03-27T22:46:49.128864Z",
     "start_time": "2024-03-27T22:46:49.068428Z"
    }
   },
   "execution_count": 70,
   "outputs": []
  },
  {
   "cell_type": "code",
   "source": [
    "df_experiment_lavenshtein.head(10)"
   ],
   "metadata": {
    "colab": {
     "base_uri": "https://localhost:8080/",
     "height": 363
    },
    "id": "xa0P8uSoWbI8",
    "outputId": "c46d9cfb-10fb-490a-a6b0-bcca6ee97059",
    "ExecuteTime": {
     "end_time": "2024-03-27T22:46:49.138796Z",
     "start_time": "2024-03-27T22:46:49.133777Z"
    }
   },
   "execution_count": 71,
   "outputs": [
    {
     "data": {
      "text/plain": "                                      combine_name_desc  \\\n273   emergency crash cart 3 pull tub healthcare gra...   \n1976  flexiport blood pressure cuff soft one tube tr...   \n805   hudson ewald dressing forcep additional inform...   \n2919  monoject veterinary needle special bevel grind...   \n2865                insupen insulin pen needle reusable   \n3708  himalayan bee propolis bee propolis potent ant...   \n2946                        mcgivney ligator ring latex   \n2307         allevyn ag absorbent dressing non adhesive   \n1818  professional stethoscope pediatric l28 acousti...   \n1744               pca calibrated oem warranty two year   \n\n                                                    sku   price  \\\n273                                           1010-3TWN  706.64   \n1976  flexiport-blood-pressure-cuff-soft-one-tube-wi...  173.32   \n805                                          ALMA10-224   27.90   \n2919                                        Z8881251725   21.02   \n2865                                           DRX22990   36.13   \n3708                                             292272    0.00   \n2946                                         ALMA39-286   66.92   \n2307                      allevyn-ag-absorbent-dressing   89.64   \n1818             professional-stethoscope-pediatric-l28  233.19   \n1744                                      WA-21327-1000  752.49   \n\n      matched_id_of_C6  similarity_score  \n273                312         43.347051  \n1976                64         41.967213  \n805                 26         41.717791  \n2919                85         42.687747  \n2865                26         40.000000  \n3708                 6         42.562929  \n2946                26         31.775701  \n2307               224         36.000000  \n1818                79         40.000000  \n1744               224         34.042553  ",
      "text/html": "<div>\n<style scoped>\n    .dataframe tbody tr th:only-of-type {\n        vertical-align: middle;\n    }\n\n    .dataframe tbody tr th {\n        vertical-align: top;\n    }\n\n    .dataframe thead th {\n        text-align: right;\n    }\n</style>\n<table border=\"1\" class=\"dataframe\">\n  <thead>\n    <tr style=\"text-align: right;\">\n      <th></th>\n      <th>combine_name_desc</th>\n      <th>sku</th>\n      <th>price</th>\n      <th>matched_id_of_C6</th>\n      <th>similarity_score</th>\n    </tr>\n  </thead>\n  <tbody>\n    <tr>\n      <th>273</th>\n      <td>emergency crash cart 3 pull tub healthcare gra...</td>\n      <td>1010-3TWN</td>\n      <td>706.64</td>\n      <td>312</td>\n      <td>43.347051</td>\n    </tr>\n    <tr>\n      <th>1976</th>\n      <td>flexiport blood pressure cuff soft one tube tr...</td>\n      <td>flexiport-blood-pressure-cuff-soft-one-tube-wi...</td>\n      <td>173.32</td>\n      <td>64</td>\n      <td>41.967213</td>\n    </tr>\n    <tr>\n      <th>805</th>\n      <td>hudson ewald dressing forcep additional inform...</td>\n      <td>ALMA10-224</td>\n      <td>27.90</td>\n      <td>26</td>\n      <td>41.717791</td>\n    </tr>\n    <tr>\n      <th>2919</th>\n      <td>monoject veterinary needle special bevel grind...</td>\n      <td>Z8881251725</td>\n      <td>21.02</td>\n      <td>85</td>\n      <td>42.687747</td>\n    </tr>\n    <tr>\n      <th>2865</th>\n      <td>insupen insulin pen needle reusable</td>\n      <td>DRX22990</td>\n      <td>36.13</td>\n      <td>26</td>\n      <td>40.000000</td>\n    </tr>\n    <tr>\n      <th>3708</th>\n      <td>himalayan bee propolis bee propolis potent ant...</td>\n      <td>292272</td>\n      <td>0.00</td>\n      <td>6</td>\n      <td>42.562929</td>\n    </tr>\n    <tr>\n      <th>2946</th>\n      <td>mcgivney ligator ring latex</td>\n      <td>ALMA39-286</td>\n      <td>66.92</td>\n      <td>26</td>\n      <td>31.775701</td>\n    </tr>\n    <tr>\n      <th>2307</th>\n      <td>allevyn ag absorbent dressing non adhesive</td>\n      <td>allevyn-ag-absorbent-dressing</td>\n      <td>89.64</td>\n      <td>224</td>\n      <td>36.000000</td>\n    </tr>\n    <tr>\n      <th>1818</th>\n      <td>professional stethoscope pediatric l28 acousti...</td>\n      <td>professional-stethoscope-pediatric-l28</td>\n      <td>233.19</td>\n      <td>79</td>\n      <td>40.000000</td>\n    </tr>\n    <tr>\n      <th>1744</th>\n      <td>pca calibrated oem warranty two year</td>\n      <td>WA-21327-1000</td>\n      <td>752.49</td>\n      <td>224</td>\n      <td>34.042553</td>\n    </tr>\n  </tbody>\n</table>\n</div>"
     },
     "execution_count": 71,
     "metadata": {},
     "output_type": "execute_result"
    }
   ]
  },
  {
   "cell_type": "code",
   "source": [
    "filtered_df = df_experiment_lavenshtein[df_experiment_lavenshtein['sku'] == '1041']\n",
    "combine_name_desc_column = filtered_df['combine_name_desc']\n",
    "\n",
    "# Print the \"combine_name_desc\" column\n",
    "print(combine_name_desc_column)"
   ],
   "metadata": {
    "colab": {
     "base_uri": "https://localhost:8080/"
    },
    "id": "4gyki311Xsd1",
    "outputId": "e96a8db4-2a76-458c-aac2-0afd01702412",
    "ExecuteTime": {
     "end_time": "2024-03-27T22:46:49.142493Z",
     "start_time": "2024-03-27T22:46:49.139689Z"
    }
   },
   "execution_count": 72,
   "outputs": [
    {
     "name": "stdout",
     "output_type": "stream",
     "text": [
      "Series([], Name: combine_name_desc, dtype: object)\n"
     ]
    }
   ]
  },
  {
   "cell_type": "code",
   "source": [
    "row_77 = c6_data_lavenshtein.iloc[77]['combine_name_desc']\n",
    "row_77"
   ],
   "metadata": {
    "colab": {
     "base_uri": "https://localhost:8080/",
     "height": 53
    },
    "id": "NN5V5pDIZfA1",
    "outputId": "cd61466e-0632-4fd2-d2af-99644f997194",
    "ExecuteTime": {
     "end_time": "2024-03-27T22:46:49.152602Z",
     "start_time": "2024-03-27T22:46:49.143759Z"
    }
   },
   "execution_count": 73,
   "outputs": [
    {
     "data": {
      "text/plain": "'26g x 3 8 sol hypodermic needle 100 per box sol extra needle sharpness minimizes patient discomfort translucent hubs ease flashback confirmation special needle lubrication improves injection comfort quantity 100 per box'"
     },
     "execution_count": 73,
     "metadata": {},
     "output_type": "execute_result"
    }
   ]
  },
  {
   "cell_type": "markdown",
   "source": [
    "**Experiment with spacy**"
   ],
   "metadata": {
    "id": "INVyVZr_dO6m"
   }
  },
  {
   "cell_type": "code",
   "source": [
    "!python -m spacy download en_core_web_md"
   ],
   "metadata": {
    "id": "XaKiE89Edv53",
    "ExecuteTime": {
     "end_time": "2024-03-27T22:47:33.433375Z",
     "start_time": "2024-03-27T22:46:49.148061Z"
    }
   },
   "execution_count": 74,
   "outputs": [
    {
     "name": "stdout",
     "output_type": "stream",
     "text": [
      "Collecting en-core-web-md==3.7.1\r\n",
      "  Downloading https://github.com/explosion/spacy-models/releases/download/en_core_web_md-3.7.1/en_core_web_md-3.7.1-py3-none-any.whl (42.8 MB)\r\n",
      "\u001B[2K     \u001B[90m━━━━━━━━━━━━━━━━━━━━━━━━━━━━━━━━━━━━━━━━\u001B[0m \u001B[32m42.8/42.8 MB\u001B[0m \u001B[31m1.5 MB/s\u001B[0m eta \u001B[36m0:00:00\u001B[0m00:01\u001B[0m00:01\u001B[0mm\r\n",
      "\u001B[?25hRequirement already satisfied: spacy<3.8.0,>=3.7.2 in /Users/carmen/.pyenv/versions/3.10.13/lib/python3.10/site-packages (from en-core-web-md==3.7.1) (3.7.4)\r\n",
      "Requirement already satisfied: spacy-legacy<3.1.0,>=3.0.11 in /Users/carmen/.pyenv/versions/3.10.13/lib/python3.10/site-packages (from spacy<3.8.0,>=3.7.2->en-core-web-md==3.7.1) (3.0.12)\r\n",
      "Requirement already satisfied: spacy-loggers<2.0.0,>=1.0.0 in /Users/carmen/.pyenv/versions/3.10.13/lib/python3.10/site-packages (from spacy<3.8.0,>=3.7.2->en-core-web-md==3.7.1) (1.0.5)\r\n",
      "Requirement already satisfied: murmurhash<1.1.0,>=0.28.0 in /Users/carmen/.pyenv/versions/3.10.13/lib/python3.10/site-packages (from spacy<3.8.0,>=3.7.2->en-core-web-md==3.7.1) (1.0.10)\r\n",
      "Requirement already satisfied: cymem<2.1.0,>=2.0.2 in /Users/carmen/.pyenv/versions/3.10.13/lib/python3.10/site-packages (from spacy<3.8.0,>=3.7.2->en-core-web-md==3.7.1) (2.0.8)\r\n",
      "Requirement already satisfied: preshed<3.1.0,>=3.0.2 in /Users/carmen/.pyenv/versions/3.10.13/lib/python3.10/site-packages (from spacy<3.8.0,>=3.7.2->en-core-web-md==3.7.1) (3.0.9)\r\n",
      "Requirement already satisfied: thinc<8.3.0,>=8.2.2 in /Users/carmen/.pyenv/versions/3.10.13/lib/python3.10/site-packages (from spacy<3.8.0,>=3.7.2->en-core-web-md==3.7.1) (8.2.3)\r\n",
      "Requirement already satisfied: wasabi<1.2.0,>=0.9.1 in /Users/carmen/.pyenv/versions/3.10.13/lib/python3.10/site-packages (from spacy<3.8.0,>=3.7.2->en-core-web-md==3.7.1) (1.1.2)\r\n",
      "Requirement already satisfied: srsly<3.0.0,>=2.4.3 in /Users/carmen/.pyenv/versions/3.10.13/lib/python3.10/site-packages (from spacy<3.8.0,>=3.7.2->en-core-web-md==3.7.1) (2.4.8)\r\n",
      "Requirement already satisfied: catalogue<2.1.0,>=2.0.6 in /Users/carmen/.pyenv/versions/3.10.13/lib/python3.10/site-packages (from spacy<3.8.0,>=3.7.2->en-core-web-md==3.7.1) (2.0.10)\r\n",
      "Requirement already satisfied: weasel<0.4.0,>=0.1.0 in /Users/carmen/.pyenv/versions/3.10.13/lib/python3.10/site-packages (from spacy<3.8.0,>=3.7.2->en-core-web-md==3.7.1) (0.3.4)\r\n",
      "Requirement already satisfied: typer<0.10.0,>=0.3.0 in /Users/carmen/.pyenv/versions/3.10.13/lib/python3.10/site-packages (from spacy<3.8.0,>=3.7.2->en-core-web-md==3.7.1) (0.9.4)\r\n",
      "Requirement already satisfied: smart-open<7.0.0,>=5.2.1 in /Users/carmen/.pyenv/versions/3.10.13/lib/python3.10/site-packages (from spacy<3.8.0,>=3.7.2->en-core-web-md==3.7.1) (6.4.0)\r\n",
      "Requirement already satisfied: tqdm<5.0.0,>=4.38.0 in /Users/carmen/.pyenv/versions/3.10.13/lib/python3.10/site-packages (from spacy<3.8.0,>=3.7.2->en-core-web-md==3.7.1) (4.66.2)\r\n",
      "Requirement already satisfied: requests<3.0.0,>=2.13.0 in /Users/carmen/.pyenv/versions/3.10.13/lib/python3.10/site-packages (from spacy<3.8.0,>=3.7.2->en-core-web-md==3.7.1) (2.31.0)\r\n",
      "Requirement already satisfied: pydantic!=1.8,!=1.8.1,<3.0.0,>=1.7.4 in /Users/carmen/.pyenv/versions/3.10.13/lib/python3.10/site-packages (from spacy<3.8.0,>=3.7.2->en-core-web-md==3.7.1) (2.6.4)\r\n",
      "Requirement already satisfied: jinja2 in /Users/carmen/.pyenv/versions/3.10.13/lib/python3.10/site-packages (from spacy<3.8.0,>=3.7.2->en-core-web-md==3.7.1) (3.1.3)\r\n",
      "Requirement already satisfied: setuptools in /Users/carmen/.pyenv/versions/3.10.13/lib/python3.10/site-packages (from spacy<3.8.0,>=3.7.2->en-core-web-md==3.7.1) (65.5.0)\r\n",
      "Requirement already satisfied: packaging>=20.0 in /Users/carmen/.pyenv/versions/3.10.13/lib/python3.10/site-packages (from spacy<3.8.0,>=3.7.2->en-core-web-md==3.7.1) (23.2)\r\n",
      "Requirement already satisfied: langcodes<4.0.0,>=3.2.0 in /Users/carmen/.pyenv/versions/3.10.13/lib/python3.10/site-packages (from spacy<3.8.0,>=3.7.2->en-core-web-md==3.7.1) (3.3.0)\r\n",
      "Requirement already satisfied: numpy>=1.19.0 in /Users/carmen/.pyenv/versions/3.10.13/lib/python3.10/site-packages (from spacy<3.8.0,>=3.7.2->en-core-web-md==3.7.1) (1.26.4)\r\n",
      "Requirement already satisfied: annotated-types>=0.4.0 in /Users/carmen/.pyenv/versions/3.10.13/lib/python3.10/site-packages (from pydantic!=1.8,!=1.8.1,<3.0.0,>=1.7.4->spacy<3.8.0,>=3.7.2->en-core-web-md==3.7.1) (0.6.0)\r\n",
      "Requirement already satisfied: pydantic-core==2.16.3 in /Users/carmen/.pyenv/versions/3.10.13/lib/python3.10/site-packages (from pydantic!=1.8,!=1.8.1,<3.0.0,>=1.7.4->spacy<3.8.0,>=3.7.2->en-core-web-md==3.7.1) (2.16.3)\r\n",
      "Requirement already satisfied: typing-extensions>=4.6.1 in /Users/carmen/.pyenv/versions/3.10.13/lib/python3.10/site-packages (from pydantic!=1.8,!=1.8.1,<3.0.0,>=1.7.4->spacy<3.8.0,>=3.7.2->en-core-web-md==3.7.1) (4.10.0)\r\n",
      "Requirement already satisfied: charset-normalizer<4,>=2 in /Users/carmen/.pyenv/versions/3.10.13/lib/python3.10/site-packages (from requests<3.0.0,>=2.13.0->spacy<3.8.0,>=3.7.2->en-core-web-md==3.7.1) (3.3.2)\r\n",
      "Requirement already satisfied: idna<4,>=2.5 in /Users/carmen/.pyenv/versions/3.10.13/lib/python3.10/site-packages (from requests<3.0.0,>=2.13.0->spacy<3.8.0,>=3.7.2->en-core-web-md==3.7.1) (3.6)\r\n",
      "Requirement already satisfied: urllib3<3,>=1.21.1 in /Users/carmen/.pyenv/versions/3.10.13/lib/python3.10/site-packages (from requests<3.0.0,>=2.13.0->spacy<3.8.0,>=3.7.2->en-core-web-md==3.7.1) (2.2.1)\r\n",
      "Requirement already satisfied: certifi>=2017.4.17 in /Users/carmen/.pyenv/versions/3.10.13/lib/python3.10/site-packages (from requests<3.0.0,>=2.13.0->spacy<3.8.0,>=3.7.2->en-core-web-md==3.7.1) (2024.2.2)\r\n",
      "Requirement already satisfied: blis<0.8.0,>=0.7.8 in /Users/carmen/.pyenv/versions/3.10.13/lib/python3.10/site-packages (from thinc<8.3.0,>=8.2.2->spacy<3.8.0,>=3.7.2->en-core-web-md==3.7.1) (0.7.11)\r\n",
      "Requirement already satisfied: confection<1.0.0,>=0.0.1 in /Users/carmen/.pyenv/versions/3.10.13/lib/python3.10/site-packages (from thinc<8.3.0,>=8.2.2->spacy<3.8.0,>=3.7.2->en-core-web-md==3.7.1) (0.1.4)\r\n",
      "Requirement already satisfied: click<9.0.0,>=7.1.1 in /Users/carmen/.pyenv/versions/3.10.13/lib/python3.10/site-packages (from typer<0.10.0,>=0.3.0->spacy<3.8.0,>=3.7.2->en-core-web-md==3.7.1) (8.1.7)\r\n",
      "Requirement already satisfied: cloudpathlib<0.17.0,>=0.7.0 in /Users/carmen/.pyenv/versions/3.10.13/lib/python3.10/site-packages (from weasel<0.4.0,>=0.1.0->spacy<3.8.0,>=3.7.2->en-core-web-md==3.7.1) (0.16.0)\r\n",
      "Requirement already satisfied: MarkupSafe>=2.0 in /Users/carmen/.pyenv/versions/3.10.13/lib/python3.10/site-packages (from jinja2->spacy<3.8.0,>=3.7.2->en-core-web-md==3.7.1) (2.1.5)\r\n",
      "Installing collected packages: en-core-web-md\r\n",
      "Successfully installed en-core-web-md-3.7.1\r\n",
      "\u001B[38;5;2m✔ Download and installation successful\u001B[0m\r\n",
      "You can now load the package via spacy.load('en_core_web_md')\r\n"
     ]
    }
   ]
  },
  {
   "cell_type": "code",
   "source": [
    "import spacy\n",
    "\n",
    "# Load a pre-trained spaCy model\n",
    "nlp = spacy.load(\"en_core_web_md\")\n",
    "# Assuming df1 and df2 are your datasets and 'clean_combine_name_desc' columns are preprocessed strings\n",
    "c6_data_spacy_me = c6_data.sample(n=300, random_state=42)\n",
    "df_experiment_spacy_me = df_experiment.sample(n=150, random_state=42)\n",
    "\n",
    "# Initialize lists to store matched indices and similarity scores\n",
    "matched_indices = []\n",
    "similarities = []\n",
    "\n",
    "# Compute similarity between each pair of documents\n",
    "for index, doc1 in enumerate(nlp.pipe(df_experiment_spacy_me['combine_name_desc'], disable=[\"tagger\", \"parser\"])):\n",
    "    similarity_scores = [doc1.similarity(doc2) for doc2 in nlp.pipe(c6_data_spacy_me['combine_name_desc'], disable=[\"tagger\", \"parser\"])]\n",
    "    max_similarity_index = similarity_scores.index(max(similarity_scores))\n",
    "    max_similarity = max(similarity_scores)\n",
    "\n",
    "    # Append matched index and similarity score to lists\n",
    "    matched_indices.append(max_similarity_index)\n",
    "    similarities.append(max_similarity)\n",
    "\n",
    "# Add matched indices and similarity scores to df_experiment_spacy\n",
    "df_experiment_spacy_me['matched_index_of_c6'] = matched_indices\n",
    "df_experiment_spacy_me['max_similarity_score'] = similarities\n"
   ],
   "metadata": {
    "id": "YAD_0up-dNGB",
    "ExecuteTime": {
     "end_time": "2024-03-27T22:57:07.729760Z",
     "start_time": "2024-03-27T22:47:33.438695Z"
    }
   },
   "execution_count": 75,
   "outputs": []
  },
  {
   "cell_type": "code",
   "source": [
    "df_experiment_spacy_me"
   ],
   "metadata": {
    "colab": {
     "base_uri": "https://localhost:8080/",
     "height": 528
    },
    "id": "TIzSgy7Ve50t",
    "outputId": "e7b39306-8b46-4219-b015-f17dc5334975",
    "ExecuteTime": {
     "end_time": "2024-03-27T22:57:07.778856Z",
     "start_time": "2024-03-27T22:57:07.726470Z"
    }
   },
   "execution_count": 76,
   "outputs": [
    {
     "data": {
      "text/plain": "                                      combine_name_desc  \\\n273   emergency crash cart 3 pull tub healthcare gra...   \n1976  flexiport blood pressure cuff soft one tube tr...   \n805   hudson ewald dressing forcep additional inform...   \n2919  monoject veterinary needle special bevel grind...   \n2865                insupen insulin pen needle reusable   \n...                                                 ...   \n2603              jelco intravenous catheter radiopaque   \n3135  medical label storage quality control permanen...   \n96    cardinal detecto 6800 1013 replacement 6v ac a...   \n1513  welch allyn green series 777 integrated wall d...   \n369   wire cutter scissors precision tip small l120m...   \n\n                                                    sku    price  \\\n273                                           1010-3TWN   706.64   \n1976  flexiport-blood-pressure-cuff-soft-one-tube-wi...   173.32   \n805                                          ALMA10-224    27.90   \n2919                                        Z8881251725    21.02   \n2865                                           DRX22990    36.13   \n...                                                 ...      ...   \n2603                         jelco-intravenous-catheter    95.84   \n3135          medical-label-storage-and-quality-control    37.65   \n96                                            6800-1013   152.16   \n1513                                     WA-77791-2MPXP  1987.45   \n369                                          BSN7293400   344.27   \n\n      matched_index_of_c6  max_similarity_score  \n273                   165              0.912633  \n1976                  253              0.892424  \n805                    36              0.887763  \n2919                  253              0.847171  \n2865                   79              0.747485  \n...                   ...                   ...  \n2603                  166              0.745724  \n3135                   41              0.851859  \n96                     98              0.897728  \n1513                  135              0.843828  \n369                   122              0.881564  \n\n[150 rows x 5 columns]",
      "text/html": "<div>\n<style scoped>\n    .dataframe tbody tr th:only-of-type {\n        vertical-align: middle;\n    }\n\n    .dataframe tbody tr th {\n        vertical-align: top;\n    }\n\n    .dataframe thead th {\n        text-align: right;\n    }\n</style>\n<table border=\"1\" class=\"dataframe\">\n  <thead>\n    <tr style=\"text-align: right;\">\n      <th></th>\n      <th>combine_name_desc</th>\n      <th>sku</th>\n      <th>price</th>\n      <th>matched_index_of_c6</th>\n      <th>max_similarity_score</th>\n    </tr>\n  </thead>\n  <tbody>\n    <tr>\n      <th>273</th>\n      <td>emergency crash cart 3 pull tub healthcare gra...</td>\n      <td>1010-3TWN</td>\n      <td>706.64</td>\n      <td>165</td>\n      <td>0.912633</td>\n    </tr>\n    <tr>\n      <th>1976</th>\n      <td>flexiport blood pressure cuff soft one tube tr...</td>\n      <td>flexiport-blood-pressure-cuff-soft-one-tube-wi...</td>\n      <td>173.32</td>\n      <td>253</td>\n      <td>0.892424</td>\n    </tr>\n    <tr>\n      <th>805</th>\n      <td>hudson ewald dressing forcep additional inform...</td>\n      <td>ALMA10-224</td>\n      <td>27.90</td>\n      <td>36</td>\n      <td>0.887763</td>\n    </tr>\n    <tr>\n      <th>2919</th>\n      <td>monoject veterinary needle special bevel grind...</td>\n      <td>Z8881251725</td>\n      <td>21.02</td>\n      <td>253</td>\n      <td>0.847171</td>\n    </tr>\n    <tr>\n      <th>2865</th>\n      <td>insupen insulin pen needle reusable</td>\n      <td>DRX22990</td>\n      <td>36.13</td>\n      <td>79</td>\n      <td>0.747485</td>\n    </tr>\n    <tr>\n      <th>...</th>\n      <td>...</td>\n      <td>...</td>\n      <td>...</td>\n      <td>...</td>\n      <td>...</td>\n    </tr>\n    <tr>\n      <th>2603</th>\n      <td>jelco intravenous catheter radiopaque</td>\n      <td>jelco-intravenous-catheter</td>\n      <td>95.84</td>\n      <td>166</td>\n      <td>0.745724</td>\n    </tr>\n    <tr>\n      <th>3135</th>\n      <td>medical label storage quality control permanen...</td>\n      <td>medical-label-storage-and-quality-control</td>\n      <td>37.65</td>\n      <td>41</td>\n      <td>0.851859</td>\n    </tr>\n    <tr>\n      <th>96</th>\n      <td>cardinal detecto 6800 1013 replacement 6v ac a...</td>\n      <td>6800-1013</td>\n      <td>152.16</td>\n      <td>98</td>\n      <td>0.897728</td>\n    </tr>\n    <tr>\n      <th>1513</th>\n      <td>welch allyn green series 777 integrated wall d...</td>\n      <td>WA-77791-2MPXP</td>\n      <td>1987.45</td>\n      <td>135</td>\n      <td>0.843828</td>\n    </tr>\n    <tr>\n      <th>369</th>\n      <td>wire cutter scissors precision tip small l120m...</td>\n      <td>BSN7293400</td>\n      <td>344.27</td>\n      <td>122</td>\n      <td>0.881564</td>\n    </tr>\n  </tbody>\n</table>\n<p>150 rows × 5 columns</p>\n</div>"
     },
     "execution_count": 76,
     "metadata": {},
     "output_type": "execute_result"
    }
   ]
  },
  {
   "cell_type": "code",
   "source": [],
   "metadata": {
    "id": "py7SHYCKiUiQ",
    "ExecuteTime": {
     "end_time": "2024-03-27T22:57:07.819363Z",
     "start_time": "2024-03-27T22:57:07.740423Z"
    }
   },
   "execution_count": 76,
   "outputs": []
  },
  {
   "cell_type": "code",
   "source": [],
   "metadata": {
    "id": "OcK5on-7jBXI",
    "ExecuteTime": {
     "end_time": "2024-03-27T22:57:07.821900Z",
     "start_time": "2024-03-27T22:57:07.746314Z"
    }
   },
   "execution_count": 76,
   "outputs": []
  },
  {
   "cell_type": "markdown",
   "source": [
    "# Model Training"
   ],
   "metadata": {
    "id": "dJDcvnKJjBgf"
   }
  },
  {
   "cell_type": "code",
   "source": [],
   "metadata": {
    "id": "QtqksNxAjKPw",
    "ExecuteTime": {
     "end_time": "2024-03-27T22:57:07.906543Z",
     "start_time": "2024-03-27T22:57:07.750574Z"
    }
   },
   "execution_count": 76,
   "outputs": []
  },
  {
   "cell_type": "code",
   "source": [],
   "metadata": {
    "id": "ojPzoPhIjKTA",
    "ExecuteTime": {
     "end_time": "2024-03-27T22:57:07.945866Z",
     "start_time": "2024-03-27T22:57:07.755637Z"
    }
   },
   "execution_count": 76,
   "outputs": []
  },
  {
   "cell_type": "markdown",
   "source": [
    "# Model Tracking  ( We will use Mlflow)\n",
    "\n",
    "To track our experiments, we have planned to use **Mlflow** opensource platform to get an insight on our Model which we will develop later, once we are sure about the label we received above"
   ],
   "metadata": {
    "id": "cVAIbpQ8jMRi"
   }
  },
  {
   "cell_type": "code",
   "source": [],
   "metadata": {
    "id": "ge4-w2GfjQww",
    "ExecuteTime": {
     "end_time": "2024-03-27T22:57:07.948702Z",
     "start_time": "2024-03-27T22:57:07.766355Z"
    }
   },
   "execution_count": 76,
   "outputs": []
  },
  {
   "cell_type": "code",
   "source": [],
   "metadata": {
    "id": "iMbSS2QvjRQg",
    "ExecuteTime": {
     "end_time": "2024-03-27T22:57:07.960027Z",
     "start_time": "2024-03-27T22:57:07.775849Z"
    }
   },
   "execution_count": 76,
   "outputs": []
  },
  {
   "cell_type": "code",
   "source": [],
   "metadata": {
    "id": "tQU0ztACjaco",
    "ExecuteTime": {
     "end_time": "2024-03-27T22:57:07.962998Z",
     "start_time": "2024-03-27T22:57:07.783485Z"
    }
   },
   "execution_count": 76,
   "outputs": []
  },
  {
   "cell_type": "markdown",
   "source": [
    "# Hyperparameter Tuning"
   ],
   "metadata": {
    "id": "Mx9dYP7Oja83"
   }
  },
  {
   "cell_type": "code",
   "source": [],
   "metadata": {
    "id": "z8jiBrbqjgGB",
    "ExecuteTime": {
     "end_time": "2024-03-27T22:57:07.964391Z",
     "start_time": "2024-03-27T22:57:07.789702Z"
    }
   },
   "execution_count": 76,
   "outputs": []
  },
  {
   "cell_type": "code",
   "source": [],
   "metadata": {
    "id": "OqdK9DcUjgJA",
    "ExecuteTime": {
     "end_time": "2024-03-27T22:57:07.972661Z",
     "start_time": "2024-03-27T22:57:07.794757Z"
    }
   },
   "execution_count": 76,
   "outputs": []
  },
  {
   "cell_type": "code",
   "source": [],
   "metadata": {
    "id": "nYa4KJ_ZjgVo",
    "ExecuteTime": {
     "end_time": "2024-03-27T22:57:07.974347Z",
     "start_time": "2024-03-27T22:57:07.805256Z"
    }
   },
   "execution_count": 76,
   "outputs": []
  },
  {
   "cell_type": "markdown",
   "source": [
    "# Evaluation & Inference"
   ],
   "metadata": {
    "id": "0LL-8LaMjgfg"
   }
  },
  {
   "cell_type": "code",
   "source": [],
   "metadata": {
    "id": "Wb0SXbVijnLE",
    "ExecuteTime": {
     "end_time": "2024-03-27T22:57:07.975624Z",
     "start_time": "2024-03-27T22:57:07.812644Z"
    }
   },
   "execution_count": 76,
   "outputs": []
  },
  {
   "cell_type": "code",
   "source": [],
   "metadata": {
    "id": "3fWNeCXBjnSe",
    "ExecuteTime": {
     "end_time": "2024-03-27T22:57:07.980464Z",
     "start_time": "2024-03-27T22:57:07.828416Z"
    }
   },
   "execution_count": 76,
   "outputs": []
  }
 ]
}
